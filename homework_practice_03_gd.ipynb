{
  "cells": [
    {
      "cell_type": "markdown",
      "metadata": {
        "id": "view-in-github",
        "colab_type": "text"
      },
      "source": [
        "<a href=\"https://colab.research.google.com/github/dimakpa/ML_Projects/blob/main/homework_practice_03_gd.ipynb\" target=\"_parent\"><img src=\"https://colab.research.google.com/assets/colab-badge.svg\" alt=\"Open In Colab\"/></a>"
      ]
    },
    {
      "cell_type": "markdown",
      "metadata": {
        "pycharm": {
          "name": "#%% md\n"
        },
        "id": "RuRrtdJY-qC1"
      },
      "source": [
        "# Машинное обучение, ФКН ВШЭ\n",
        "\n",
        "## Практическое задание 3. Градиентный спуск своими руками\n",
        "\n",
        "### Общая информация\n",
        "Дата выдачи: **12.10.2022**\n",
        "\n",
        "Мягкий дедлайн: **1.11.22 23:59** (за каждый день просрочки снимается 1 балл)\n",
        "\n",
        "Жесткий дедлайн: **8.11.22 23:59**"
      ]
    },
    {
      "cell_type": "markdown",
      "metadata": {
        "pycharm": {
          "name": "#%% md\n"
        },
        "id": "u22GgYQL-qC6"
      },
      "source": [
        "### О задании\n",
        "\n",
        "В данном задании необходимо реализовать обучение линейной регрессии с помощью различных вариантов градиентного спуска.\n",
        "\n",
        "\n",
        "### Оценивание и штрафы\n",
        "Каждая из задач имеет определенную «стоимость» (указана в скобках около задачи). Максимально допустимая оценка за работу — 10 баллов + 2 балла бонус.\n",
        "\n",
        "Сдавать задание после указанного срока сдачи нельзя. При выставлении неполного балла за задание в связи с наличием ошибок на усмотрение проверяющего предусмотрена возможность исправить работу на указанных в ответном письме условиях.\n",
        "\n",
        "Задание выполняется самостоятельно. «Похожие» решения считаются плагиатом и все задействованные студенты (в том числе те, у кого списали) не могут получить за него больше 0 баллов (подробнее о плагиате см. на странице курса). Если вы нашли решение какого-то из заданий (или его часть) в открытом источнике, необходимо указать ссылку на этот источник в отдельном блоке в конце вашей работы (скорее всего вы будете не единственным, кто это нашел, поэтому чтобы исключить подозрение в плагиате, необходима ссылка на источник).\n",
        "\n",
        "Неэффективная реализация кода может негативно отразиться на оценке.\n",
        "Также оценка может быть снижена за плохо читаемый код и плохо считываемые диаграммы.\n",
        "\n",
        "Все ответы должны сопровождаться кодом или комментариями о том, как они были получены.\n",
        "\n",
        "\n",
        "### Формат сдачи\n",
        "Задания сдаются через систему Anytask. Инвайт можно найти на странице курса. Присылать необходимо ноутбук с выполненным заданием. Сам ноутбук называйте в формате homework-practice-03-gd-Username.ipynb, где Username — ваша фамилия.\n",
        "\n",
        "Для удобства проверки самостоятельно посчитайте свою максимальную оценку (исходя из набора решенных задач) и укажите ниже.\n",
        "\n",
        "**Оценка**: ..."
      ]
    },
    {
      "cell_type": "markdown",
      "metadata": {
        "pycharm": {
          "name": "#%% md\n"
        },
        "id": "0bxtjmjQ-qC9"
      },
      "source": [
        "Напомним, что на лекциях и семинарах мы разбирали некоторые подходы к оптимизации функционалов по параметрам. В частности, был рассмотрен градиентный спуск и различные подходы к его реализации — полный градиентный спуск, стохастический градиентный спуск, метод импульса и другие. В качестве модели у нас будет выступать линейная регрессия.\n",
        "\n",
        "В этом домашнем задании вам предстоит реализовать 4 различных вариации градиентного спуска, написать свою реализацию линейной регресии, сравнить методы градиентного спуска между собой на реальных данных и ещё много чего веселого и интересного!"
      ]
    },
    {
      "cell_type": "markdown",
      "metadata": {
        "pycharm": {
          "name": "#%% md\n"
        },
        "id": "seG0xE5k-qC-"
      },
      "source": [
        "## Задание 1. Реализация градиентного спуска (3.5 балла)\n",
        "\n",
        "В этом задании вам предстоит написать собственные реализации различных подходов к градиентному спуску с опорой на подготовленные шаблоны в файле `descents.py`.\n",
        "\n",
        "**Все реализуемые методы должны быть векторизованы!**"
      ]
    },
    {
      "cell_type": "markdown",
      "metadata": {
        "pycharm": {
          "name": "#%% md\n"
        },
        "id": "zoz5-ytP-qDA"
      },
      "source": [
        "### Лирическое-теоретическое отступление № 1\n",
        "\n",
        "Основное свойство антиградиента &ndash; он указывает в сторону наискорейшего убывания функции в данной точке. Соответственно, будет логично стартовать из некоторой точки, сдвинуться в сторону антиградиента,\n",
        "пересчитать антиградиент и снова сдвинуться в его сторону и т.д. Запишем это более формально.\n",
        "\n",
        "Пусть $w_0$ &ndash; начальный набор параметров (например, нулевой или сгенерированный из некоторого\n",
        "случайного распределения). Тогда ванильный градиентный спуск состоит в повторении следующих шагов до сходимости:\n",
        "\n",
        "$$\n",
        "    w_{k + 1} = w_{k} - \\eta_{k} \\nabla_{w} Q(w_{k}).\n",
        "$$"
      ]
    },
    {
      "cell_type": "markdown",
      "metadata": {
        "pycharm": {
          "name": "#%% md\n"
        },
        "id": "KVluvJgI-qDB"
      },
      "source": [
        "### Лирическое-теоретическое отступление № 2\n",
        "\n",
        "На семинаре про [матрично-векторное дифференцирование](https://github.com/esokolov/ml-course-hse/blob/master/2022-fall/seminars/sem03-vector-diff.pdf) вы должны были обсуждать дифференцирование функции потерь MSE в матричном виде.\n",
        "\n",
        "### Задание 1.0. Градиент MSE в матричном виде (0 баллов).\n",
        "\n",
        "Напомним, что функция потерь MSE записывается в матричном виде как:\n",
        "\n",
        "$$\n",
        "    Q(w) = \\dfrac{1}{\\ell} \\left( y - Xw \\right)^T \\left( y - Xw \\right)\n",
        "$$\n",
        "\n",
        "Выпишите ниже (подсмотрев в семинар или решив самостоятельно) градиент для функции потерь MSE в матричном виде."
      ]
    },
    {
      "cell_type": "markdown",
      "metadata": {
        "pycharm": {
          "name": "#%% md\n"
        },
        "id": "TmgIwbjn-qDC"
      },
      "source": [
        "`### ваше решение тут ###`"
      ]
    },
    {
      "cell_type": "markdown",
      "metadata": {
        "pycharm": {
          "name": "#%% md\n"
        },
        "id": "TsK9CLoS-qDD"
      },
      "source": [
        "### Задание 1.1. Родительский класс BaseDescent (0.5 балла).\n",
        "\n",
        "Реализуйте функции `calc_loss` (вычисление MSE для переданных $x$ и $y$) и `predict` (предсказание $y_{pred}$ для переданных $x$) в классе `BaseDescent`.\n",
        "\n",
        "Все вычисления должны быть векторизованы."
      ]
    },
    {
      "cell_type": "code",
      "source": [
        "from sklearn.linear_model import LinearRegression\n",
        "from sklearn.metrics import mean_squared_error\n",
        "\n",
        "from dataclasses import dataclass\n",
        "from enum import auto\n",
        "from enum import Enum\n",
        "from typing import Dict\n",
        "from typing import Type\n",
        "\n",
        "import numpy as np\n",
        "\n",
        "class BaseDescent:\n",
        "    \"\"\"\n",
        "    A base class and templates for all functions\n",
        "    \"\"\"\n",
        "\n",
        "    def __init__(self, dimension: int, lambda_: float = 1e-3, loss_function: LossFunction = LossFunction.MSE):\n",
        "        \"\"\"\n",
        "        :param dimension: feature space dimension\n",
        "        :param lambda_: learning rate parameter\n",
        "        :param loss_function: optimized loss function\n",
        "        \"\"\"\n",
        "        self.w: np.ndarray = np.random.rand(dimension)\n",
        "        self.lr: LearningRate = LearningRate(lambda_=lambda_)\n",
        "        self.loss_function: LossFunction = loss_function\n",
        "\n",
        "    def step(self, x: np.ndarray, y: np.ndarray) -> np.ndarray:\n",
        "        return self.update_weights(self.calc_gradient(x, y))\n",
        "\n",
        "    def update_weights(self, gradient: np.ndarray) -> np.ndarray:\n",
        "        \"\"\"\n",
        "        Template for update_weights function\n",
        "        Update weights with respect to gradient\n",
        "        :param gradient: gradient\n",
        "        :return: weight difference (w_{k + 1} - w_k): np.ndarray\n",
        "        \"\"\"\n",
        "        pass\n",
        "\n",
        "    def calc_gradient(self, x: np.ndarray, y: np.ndarray) -> np.ndarray:\n",
        "        \"\"\"\n",
        "        Template for calc_gradient function\n",
        "        Calculate gradient of loss function with respect to weights\n",
        "        :param x: features array\n",
        "        :param y: targets array\n",
        "        :return: gradient: np.ndarray\n",
        "        \"\"\"\n",
        "        pass\n",
        "\n",
        "    def calc_loss(self, x: np.ndarray, y: np.ndarray) -> float:\n",
        "        x, y = np.array(x), np.array(y)\n",
        "        return np.square(np.subtract(x,y)).mean()\n",
        "        \n",
        "        raise NotImplementedError('BaseDescent calc_loss function not implemented')\n",
        "\n",
        "    def predict(self, x: np.ndarray) -> np.ndarray:\n",
        "\n",
        "        prediction = self.lr.predict(x)  \n",
        "        return prediction\n",
        "        raise NotImplementedError('BaseDescent predict function not implemented')"
      ],
      "metadata": {
        "id": "g-9DFWKVFXFR"
      },
      "execution_count": null,
      "outputs": []
    },
    {
      "cell_type": "code",
      "source": [
        "from sklearn.linear_model import LinearRegression\n",
        "from sklearn.metrics import mean_squared_error\n",
        "\n",
        "def calc_loss(x, y):\n",
        "  model = LinearRegression()\n",
        "  model.fit(x, y)\n",
        "  y_predict = model.predict(x)\n",
        "  mse = mean_squared_error(y, y_predict)\n",
        "  return mse\n",
        "\n",
        "def predict(x):\n",
        "  model = LinearRegression()\n",
        "  y_predict = model.predict(x)\n",
        "\n",
        "\n",
        "\n"
      ],
      "metadata": {
        "id": "vymxvvq5_yVL"
      },
      "execution_count": null,
      "outputs": []
    },
    {
      "cell_type": "markdown",
      "metadata": {
        "pycharm": {
          "name": "#%% md\n"
        },
        "id": "Rbcl0LQ6-qDE"
      },
      "source": [
        "### Задание 1.2. Полный градиентный спуск VanillaGradientDescent (0.5 балла).\n",
        "\n",
        "Реализуйте полный градиентный спуск заполнив пропуски в классе `VanillaGradientDescent` в файле `descents.py`. Для вычисления градиента используйте формулу выше. Шаг оптимизации:\n",
        "\n",
        "$$\n",
        "    w_{k + 1} = w_{k} - \\eta_{k} \\nabla_{w} Q(w_{k}).\n",
        "$$\n",
        "\n",
        "Здесь и далее функция `update_weights` должна возвращать разницу между $w_{k + 1}$ и $w_{k}$: $\\quad w_{k + 1} - w_{k} = -\\eta_{k} \\nabla_{w} Q(w_{k})$.\n",
        "\n",
        "Во всех методах градиентного спуска мы будем использовать следующую формулу для длины шага:\n",
        "\n",
        "$$\n",
        "    \\eta_{k} = \\lambda \\left(\\dfrac{s_0}{s_0 + k}\\right)^p\n",
        "$$\n",
        "\n",
        "На практике достаточно настроить параметр $\\lambda$, а остальным выставить параметры по умолчанию: $s_0 = 1, \\, p = 0.5.$"
      ]
    },
    {
      "cell_type": "code",
      "source": [
        "import numpy as np\n",
        "class VanillaGradientDescent(BaseDescent):\n",
        "    \"\"\"\n",
        "    Full gradient descent class\n",
        "    \"\"\"\n",
        "    lmd = 2\n",
        "    s0 = 1\n",
        "    p = 0.5\n",
        "\n",
        "    def update_weights(self, gradient: np.ndarray) -> np.ndarray:\n",
        "        \"\"\"\n",
        "        :return: weight difference (w_{k + 1} - w_k): np.ndarray\n",
        "        \"\"\"\n",
        "        upd = []\n",
        "        i=0\n",
        "        for grad in gradient:\n",
        "          upd.append(lmd*(s0/(s0+i)**p)*grad)\n",
        "          i+=1\n",
        "\n",
        "        return upd\n",
        "        raise NotImplementedError('VanillaGradientDescent update_weights function not implemented')\n",
        "\n",
        "    def calc_gradient(self, x: np.ndarray, y: np.ndarray) -> np.ndarray:\n",
        "\n",
        "        \n",
        "        # TODO: implement calculating gradient function\n",
        "        raise NotImplementedError('VanillaGradientDescent calc_gradient function not implemented')"
      ],
      "metadata": {
        "id": "dJ3ONQqKKmqk"
      },
      "execution_count": null,
      "outputs": []
    },
    {
      "cell_type": "markdown",
      "metadata": {
        "pycharm": {
          "name": "#%% md\n"
        },
        "id": "tAASV48G-qDF"
      },
      "source": [
        "### Лирическое-теоретическое отступление № 3\n",
        "\n",
        "Как правило, в задачах машинного обучения функционал $Q(w)$ представим в виде суммы $\\ell$ функций:\n",
        "\n",
        "$$\n",
        "    Q(w)\n",
        "    =\n",
        "    \\frac{1}{\\ell}\n",
        "    \\sum_{i = 1}^{\\ell}\n",
        "        q_i(w).\n",
        "$$\n",
        "\n",
        "В нашем домашнем задании отдельные функции $q_i(w)$ соответствуют ошибкам на отдельных объектах.\n",
        "\n",
        "Проблема метода градиентного спуска состоит в том, что на каждом шаге необходимо вычислять градиент всей суммы (будем его называть полным градиентом):\n",
        "\n",
        "$$\n",
        "    \\nabla_w Q(w)\n",
        "    =\n",
        "    \\frac{1}{\\ell}\n",
        "    \\sum_{i = 1}^{\\ell}\n",
        "        \\nabla_w q_i(w).\n",
        "$$\n",
        "\n",
        "Это может быть очень трудоёмко при больших размерах выборки. В то же время точное вычисление градиента может быть не так уж необходимо &ndash; как правило, мы делаем не очень большие шаги в сторону антиградиента, и наличие в нём неточностей не должно сильно сказаться на общей траектории.\n",
        "\n",
        "Оценить градиент суммы функций можно средним градиентов случайно взятого подмножества функций:\n",
        "\n",
        "$$\n",
        "    \\nabla_{w} Q(w_{k}) \\approx \\dfrac{1}{|B|}\\sum\\limits_{i \\in B}\\nabla_{w} q_{i}(w_{k}),\n",
        "$$\n",
        "где $B$ - это случайно выбранное подмножество индексов.\n",
        "\n",
        "В этом случае мы получим метод **стохастического градиентного спуска**."
      ]
    },
    {
      "cell_type": "code",
      "source": [
        "class VanillaGradientDescent(BaseDescent):\n",
        "    \"\"\"\n",
        "    Full gradient descent class\n",
        "    \"\"\"\n",
        "\n",
        "    def update_weights(self, gradient: np.ndarray) -> np.ndarray:\n",
        "        \"\"\"\n",
        "        :return: weight difference (w_{k + 1} - w_k): np.ndarray\n",
        "        \"\"\"\n",
        "        \n",
        "        raise NotImplementedError('VanillaGradientDescent update_weights function not implemented')\n",
        "\n",
        "    def calc_gradient(self, x: np.ndarray, y: np.ndarray) -> np.ndarray:\n",
        "        # TODO: implement calculating gradient function\n",
        "        raise NotImplementedError('VanillaGradientDescent calc_gradient function not implemented')"
      ],
      "metadata": {
        "id": "JmEAUdabIq6f"
      },
      "execution_count": null,
      "outputs": []
    },
    {
      "cell_type": "markdown",
      "metadata": {
        "pycharm": {
          "name": "#%% md\n"
        },
        "id": "Gcz2cjlE-qDG"
      },
      "source": [
        "### Задание 1.3. Стохастический градиентный спуск StochasticDescent (0.5 балла).\n",
        "\n",
        "Реализуйте стохастический градиентный спуск заполнив пропуски в классе `StochasticDescent`. Для оценки градиента используйте формулу выше (среднее градиентов случайно выбранного батча объектов). Шаг оптимизации:\n",
        "\n",
        "$$\n",
        "    w_{k + 1} = w_{k} - \\eta_{k} \\dfrac{1}{|B|}\\sum\\limits_{i \\in B}\\nabla_{w} q_{i}(w_{k}).\n",
        "$$\n",
        "\n",
        "Размер батча будет являться гиперпараметром метода, семплируйте индексы для батча объектов с помощью `np.random.randint`."
      ]
    },
    {
      "cell_type": "markdown",
      "metadata": {
        "pycharm": {
          "name": "#%% md\n"
        },
        "id": "AYTzRLFQ-qDH"
      },
      "source": [
        "### Лирическое-теоретическое отступление № 4\n",
        "\n",
        "Может оказаться, что направление антиградиента сильно меняется от шага к шагу. Например, если линии уровня функционала сильно вытянуты, то из-за ортогональности градиента линиям уровня он будет менять направление на почти противоположное на каждом шаге. Такие осцилляции будут вносить сильный шум в движение, и процесс оптимизации займёт много итераций. Чтобы избежать этого, можно усреднять векторы антиградиента с нескольких предыдущих шагов &ndash; в этом случае шум уменьшится, и такой средний вектор будет указывать в сторону общего направления движения. Введём для этого вектор инерции:\n",
        "\n",
        "\\begin{align}\n",
        "    &h_0 = 0, \\\\\n",
        "    &h_{k + 1} = \\alpha h_{k} + \\eta_k \\nabla_w Q(w_{k})\n",
        "\\end{align}\n",
        "\n",
        "Здесь $\\alpha$ &ndash; параметр метода, определяющей скорость затухания градиентов с предыдущих шагов. Разумеется, вместо вектора градиента может быть использована его аппроксимация. Чтобы сделать шаг градиентного спуска, просто сдвинем предыдущую точку на вектор инерции:\n",
        "\n",
        "$$\n",
        "    w_{k + 1} = w_{k} - h_{k + 1}.\n",
        "$$\n",
        "\n",
        "Заметим, что если по какой-то координате градиент постоянно меняет знак, то в результате усреднения градиентов в векторе инерции эта координата окажется близкой к нулю. Если же по координате знак градиента всегда одинаковый, то величина соответствующей координаты в векторе инерции будет большой, и мы будем делать большие шаги в соответствующем направлении."
      ]
    },
    {
      "cell_type": "markdown",
      "metadata": {
        "pycharm": {
          "name": "#%% md\n"
        },
        "id": "nhoDGm1k-qDH"
      },
      "source": [
        "### Задание 1.4 Метод Momentum MomentumDescent (0.5 балла).\n",
        "\n",
        "Реализуйте градиентный спуск с методом инерции заполнив пропуски в классе `MomentumDescent`. Шаг оптимизации:\n",
        "\n",
        "\\begin{align}\n",
        "    &h_0 = 0, \\\\\n",
        "    &h_{k + 1} = \\alpha h_{k} + \\eta_k \\nabla_w Q(w_{k}) \\\\\n",
        "    &w_{k + 1} = w_{k} - h_{k + 1}.\n",
        "\\end{align}\n",
        "\n",
        "$\\alpha$ будет являться гиперпараметром метода, но в данном домашнем задании мы зафиксируем её за вас $\\alpha = 0.9$."
      ]
    },
    {
      "cell_type": "markdown",
      "metadata": {
        "pycharm": {
          "name": "#%% md\n"
        },
        "id": "7_QuAasg-qDI"
      },
      "source": [
        "### Лирическое-теоретическое отступление № 5\n",
        "\n",
        "Градиентный спуск очень чувствителен к выбору длины шага. Если шаг большой, то есть риск, что мы будем перескакивать через точку минимума; если же шаг маленький, то для нахождения минимума потребуется много итераций. При этом нет способов заранее определить правильный размер шага &ndash; к тому же, схемы с постепенным уменьшением шага по мере итераций могут тоже плохо работать.\n",
        "\n",
        "В методе AdaGrad предлагается сделать свою длину шага для каждой компоненты вектора параметров. При этом шаг будет тем меньше, чем более длинные шаги мы делали на предыдущих итерациях:\n",
        "\n",
        "\\begin{align}\n",
        "    &G_{kj} = G_{k-1,j} + (\\nabla_w Q(w_{k - 1}))_j^2; \\\\\n",
        "    &w_{jk} = w_{j,k-1} - \\frac{\\eta_t}{\\sqrt{G_{kj}} + \\varepsilon} (\\nabla_w Q(w_{k - 1}))_j.\n",
        "\\end{align}\n",
        "\n",
        "Здесь $\\varepsilon$ небольшая константа, которая предотвращает деление на ноль.\n",
        "\n",
        "В данном методе можно зафксировать длину шага (например, $\\eta_k = 0.01$) и не подбирать её в процессе обучения. Отметим, что данный метод подходит для разреженных задач, в которых у каждого объекта большинство признаков равны нулю. Для признаков, у которых ненулевые значения встречаются редко, будут делаться большие шаги; если же какой-то признак часто является ненулевым, то шаги по нему будут небольшими.\n",
        "\n",
        "У метода AdaGrad есть большой недостаток: переменная $G_{kj}$ монотонно растёт, из-за чего шаги становятся всё медленнее и могут остановиться ещё до того, как достигнут минимум функционала. Проблема решается в методе RMSprop, где используется экспоненциальное затухание градиентов:\n",
        "\n",
        "$$\n",
        "    G_{kj} = \\alpha G_{k-1,j} + (1 - \\alpha) (\\nabla_w Q(w^{(k-1)}))_j^2.\n",
        "$$\n",
        "\n",
        "В этом случае размер шага по координате зависит в основном от того, насколько\n",
        "быстро мы двигались по ней на последних итерациях.\n",
        "\n",
        "Можно объединить идеи описанных выше методов: накапливать градиенты со всех прошлых шагов для\n",
        "избежания осцилляций и делать адаптивную длину шага по каждому параметру."
      ]
    },
    {
      "cell_type": "markdown",
      "metadata": {
        "pycharm": {
          "name": "#%% md\n"
        },
        "id": "wG32HeFs-qDJ"
      },
      "source": [
        "### Задание 1.5. Метод Adam (Adaptive Moment Estimation) (1.5 балла).\n",
        "\n",
        "![](https://github.com/esokolov/ml-course-hse/blob/master/2022-fall/homeworks-practice/homework-practice-03-gd/adam_meme.png?raw=1)\n",
        "\n",
        "Реализуйте градиентный спуск с методом Adam заполнив пропуски в классе `Adam`. Шаг оптимизации:\n",
        "\n",
        "\\begin{align}\n",
        "    &m_0 = 0, \\quad v_0 = 0; \\\\ \\\\\n",
        "    &m_{k + 1} = \\beta_1 m_k + (1 - \\beta_1) \\nabla_w Q(w_{k}); \\\\ \\\\\n",
        "    &v_{k + 1} = \\beta_2 v_k + (1 - \\beta_2) \\left(\\nabla_w Q(w_{k})\\right)^2; \\\\ \\\\\n",
        "    &\\widehat{m}_{k} = \\dfrac{m_k}{1 - \\beta_1^{k}}, \\quad \\widehat{v}_{k} = \\dfrac{v_k}{1 - \\beta_2^{k}}; \\\\ \\\\\n",
        "    &w_{k + 1} = w_{k} - \\dfrac{\\eta_k}{\\sqrt{\\widehat{v}_{k + 1}} + \\varepsilon} \\widehat{m}_{k + 1}.\n",
        "\\end{align}\n",
        "\n",
        "$\\beta_1 = 0.9, \\beta_2 = 0.999$ и $\\varepsilon = 10^{-8}$ будут зафиксированы за вас."
      ]
    },
    {
      "cell_type": "markdown",
      "metadata": {
        "pycharm": {
          "name": "#%% md\n"
        },
        "id": "cBSso0nw-qDJ"
      },
      "source": [
        "## Задание 2. Реализация линейной регресии (0.5 балла)\n",
        "\n",
        "В этом задании вам предстоит написать свою реализацию линейной регресии, обучаемой с использованием градиентного спуска, с опорой на подготовленные шаблоны в файле `linear_regression.py` - **LinearRegression**. По сути линейная регрессия будет оберткой, которая запускает обучение \n",
        "\n",
        "Необходимо соблюдать следующие условия:\n",
        "\n",
        "* Все вычисления должны быть векторизованы;\n",
        "* Циклы средствами python допускаются только для итераций градиентного спуска;\n",
        "* В качестве критерия останова необходимо использовать (одновременно):\n",
        "    * Квадрат евклидовой нормы разности весов на двух соседних итерациях меньше `tolerance`;\n",
        "    * Разность весов содержит наны;\n",
        "    * Достижение максимального числа итераций `max_iter`.\n",
        "* Будем считать, что все данные, которые поступают на вход имеют столбец единичек последним столбцом;\n",
        "* Чтобы проследить за сходимостью оптимизационного процесса будем использовать `loss_history`, в нём будем хранить значения функции потерь до каждого шага, начиная с нулевого (до первого шага по антиградиенту) и значение функции потерь после оптимизации."
      ]
    },
    {
      "cell_type": "markdown",
      "metadata": {
        "pycharm": {
          "name": "#%% md\n"
        },
        "id": "nHIbGWQS-qDK"
      },
      "source": [
        "## Задание 3. Проверка кода (0 баллов)"
      ]
    },
    {
      "cell_type": "code",
      "execution_count": null,
      "metadata": {
        "pycharm": {
          "name": "#%%\n"
        },
        "id": "s5Id52TC-qDK"
      },
      "outputs": [],
      "source": [
        "%load_ext autoreload"
      ]
    },
    {
      "cell_type": "code",
      "execution_count": null,
      "metadata": {
        "pycharm": {
          "name": "#%%\n"
        },
        "id": "k72iVnJQ-qDM"
      },
      "outputs": [],
      "source": [
        "%autoreload 2\n",
        "\n",
        "import numpy as np\n",
        "\n",
        "from descents import get_descent\n",
        "from linear_regression import LinearRegression"
      ]
    },
    {
      "cell_type": "code",
      "execution_count": null,
      "metadata": {
        "pycharm": {
          "name": "#%%\n"
        },
        "id": "vHt0ps7F-qDN"
      },
      "outputs": [],
      "source": [
        "num_objects = 100\n",
        "dimension = 5\n",
        "\n",
        "x = np.random.rand(num_objects, dimension)\n",
        "y = np.random.rand(num_objects)"
      ]
    },
    {
      "cell_type": "code",
      "execution_count": null,
      "metadata": {
        "pycharm": {
          "name": "#%%\n"
        },
        "id": "TDb4wTG_-qDN"
      },
      "outputs": [],
      "source": [
        "# Descents\n",
        "\n",
        "descent_config = {\n",
        "    'descent_name': 'some name that we will replace in the future',\n",
        "    'kwargs': {\n",
        "        'dimension': dimension\n",
        "    }\n",
        "}\n",
        "\n",
        "for descent_name in ['full', 'stochastic', 'momentum', 'adam']:\n",
        "    descent_config['descent_name'] = descent_name\n",
        "    descent = get_descent(descent_config)\n",
        "\n",
        "    diff = descent.step(x, y)\n",
        "    gradient = descent.calc_gradient(x, y)\n",
        "    predictions = descent.predict(x)\n",
        "\n",
        "    assert gradient.shape[0] == dimension, f'Gradient failed for descent {descent_name}'\n",
        "    assert diff.shape[0] == dimension, f'Weights failed for descent {descent_name}'\n",
        "    assert predictions.shape == y.shape, f'Prediction failed for descent {descent_name}'"
      ]
    },
    {
      "cell_type": "code",
      "execution_count": null,
      "metadata": {
        "pycharm": {
          "name": "#%%\n"
        },
        "id": "9PFRVgC3-qDO"
      },
      "outputs": [],
      "source": [
        "# LinearRegression\n",
        "\n",
        "max_iter = 10\n",
        "tolerance = 0\n",
        "\n",
        "descent_config = {\n",
        "    'descent_name': 'stochastic',\n",
        "    'kwargs': {\n",
        "        'dimension': dimension,\n",
        "        'batch_size': 10\n",
        "    }\n",
        "}\n",
        "\n",
        "regression = LinearRegression(\n",
        "    descent_config=descent_config,\n",
        "    tolerance=tolerance,\n",
        "    max_iter=max_iter\n",
        ")\n",
        "\n",
        "regression.fit(x, y)\n",
        "\n",
        "assert len(regression.loss_history) == max_iter + 1, 'Loss history failed'"
      ]
    },
    {
      "cell_type": "markdown",
      "metadata": {
        "pycharm": {
          "name": "#%% md\n"
        },
        "id": "Nylo-fy--qDO"
      },
      "source": [
        "Если ваше решение прошло все тесты локально, то теперь пришло время протестировать его в [Яндекс Контесте](https://contest.yandex.ru/contest/41257/enter/).\n",
        "\n",
        "Для каждой задачи из контеста вставьте ссылку на успешную посылку:\n",
        "\n",
        "* **VanillaGradientDescent**:\n",
        "\n",
        "\n",
        "* **StochasticDescent**:\n",
        "\n",
        "\n",
        "* **MomentumDescent**:\n",
        "\n",
        "\n",
        "* **Adam**:\n",
        "\n",
        "\n",
        "* **LinearRegression**:"
      ]
    },
    {
      "cell_type": "markdown",
      "metadata": {
        "pycharm": {
          "name": "#%% md\n"
        },
        "id": "iDnQBvy1-qDP"
      },
      "source": [
        "## Задание 4. Работа с данными (1 балл)\n",
        "\n",
        "Мы будем использовать датасет объявлений по продаже машин на немецком Ebay. В задаче предсказания целевой переменной для нас будет являться цена."
      ]
    },
    {
      "cell_type": "markdown",
      "metadata": {
        "pycharm": {
          "name": "#%% md\n"
        },
        "id": "2-V5VZLN-qDP"
      },
      "source": [
        "* Постройте график распределения целевой переменной в данных, подумайте, нужно ли заменить её на логарифм. Присутствуют ли выбросы в данных с аномальной ценой? Если да, то удалите их из данных.\n",
        "\n",
        "* Проведите исследование данных:\n",
        "    * Проанализируйте тип столбцов, постройте графики зависимости целевой переменной от признака, распределения значений признака;\n",
        "    * Подумайте, какие признаки могут быть полезными на основе этих графиков, обработайте выбросы;\n",
        "    * Подумайте, какие трансформации признаков из известных вам будет уместно применить;\n",
        "    * Разделите полезные признаки на категориальные, вещественные и те, которые не надо предобрабатывать.\n",
        "* Разделите данные на обучающую, валидационную и тестовую выборки в отношении 8:1:1."
      ]
    },
    {
      "cell_type": "code",
      "execution_count": null,
      "metadata": {
        "pycharm": {
          "name": "#%%\n"
        },
        "id": "4cgBI1_9-qDP"
      },
      "outputs": [],
      "source": [
        "import numpy as np\n",
        "import pandas as pd\n",
        "\n",
        "import matplotlib.pyplot as plt\n",
        "import seaborn as sns\n",
        "\n",
        "from descents import get_descent\n",
        "from linear_regression import LinearRegression\n",
        "\n",
        "sns.set(style='darkgrid')"
      ]
    },
    {
      "cell_type": "code",
      "execution_count": null,
      "metadata": {
        "pycharm": {
          "name": "#%%\n"
        },
        "id": "jgu6TjC8-qDQ"
      },
      "outputs": [],
      "source": [
        "data = pd.read_csv('autos.csv')"
      ]
    },
    {
      "cell_type": "code",
      "execution_count": null,
      "metadata": {
        "pycharm": {
          "name": "#%%\n"
        },
        "id": "JQMpWJfe-qDQ"
      },
      "outputs": [],
      "source": [
        "data.head()"
      ]
    },
    {
      "cell_type": "markdown",
      "metadata": {
        "pycharm": {
          "name": "#%% md\n"
        },
        "id": "E0u2-mDw-qDQ"
      },
      "source": [
        "Колонки в данных:\n",
        "\n",
        "* `brand` - название бренда автомобиля\n",
        "* `model` - название модели автомобиля\n",
        "* `vehicleType` - тип транспортного средства\n",
        "* `gearbox` - тип трансмисcии\n",
        "* `fuelType` - какой вид топлива использует автомобиль\n",
        "* `notRepairedDamage` - есть ли в автомобиле неисправность, которая еще не устранена\n",
        "* `powerPS` - мощность автомобиля в PS (метрическая лошадиная сила)\n",
        "* `kilometer` - сколько километров проехал автомобиль, пробег\n",
        "* `autoAgeMonths` - возраст автомобиля в месяцах\n",
        "\n",
        "\n",
        "* `price` - цена, указанная в объявлении о продаже автомобиля (целевая переменная)"
      ]
    },
    {
      "cell_type": "code",
      "execution_count": null,
      "metadata": {
        "pycharm": {
          "name": "#%%\n"
        },
        "id": "HHlRCWC1-qDQ"
      },
      "outputs": [],
      "source": [
        "categorical = []\n",
        "numeric = []\n",
        "other = []\n",
        "\n",
        "# YOUR CODE (EDA):"
      ]
    },
    {
      "cell_type": "code",
      "execution_count": null,
      "metadata": {
        "pycharm": {
          "name": "#%%\n"
        },
        "id": "FYNZZDnb-qDR"
      },
      "outputs": [],
      "source": [
        "data['bias'] = 1\n",
        "other += ['bias']\n",
        "\n",
        "x = data[categorical + numeric + other]\n",
        "y = data['price']"
      ]
    },
    {
      "cell_type": "code",
      "execution_count": null,
      "metadata": {
        "pycharm": {
          "name": "#%%\n"
        },
        "id": "A3hiw_xY-qDR"
      },
      "outputs": [],
      "source": [
        "from sklearn.compose import ColumnTransformer\n",
        "from sklearn.preprocessing import OneHotEncoder\n",
        "from sklearn.preprocessing import StandardScaler\n",
        "\n",
        "\n",
        "column_transformer = ColumnTransformer([\n",
        "    ('ohe', OneHotEncoder(handle_unknown='ignore'), categorical),\n",
        "    ('scaling', StandardScaler(), numeric),\n",
        "    ('other',  'passthrough', other)\n",
        "])\n",
        "\n",
        "x = column_transformer.fit_transform(x)"
      ]
    },
    {
      "cell_type": "code",
      "execution_count": null,
      "metadata": {
        "pycharm": {
          "name": "#%%\n"
        },
        "id": "uC8Ro2Sy-qDR"
      },
      "outputs": [],
      "source": [
        "# YOUR CODE (data split into train/val/test):"
      ]
    },
    {
      "cell_type": "markdown",
      "metadata": {
        "pycharm": {
          "name": "#%% md\n"
        },
        "id": "iYk0vsqv-qDS"
      },
      "source": [
        "## Задание 5. Сравнение методов градиентного спуска (2 балла)\n",
        "\n",
        "В этом задании вам предстоит сравнить методы градиентного спуска на подготовленных вами данных из предыдущего задания."
      ]
    },
    {
      "cell_type": "markdown",
      "metadata": {
        "pycharm": {
          "name": "#%% md\n"
        },
        "id": "8PYt-6t2-qDS"
      },
      "source": [
        "### Задание 5.1. Подбор оптимальной длины шага (1 балл)\n",
        "\n",
        "Подберите по валидационной выборке наилучшую длину шага $\\lambda$ для каждого метода с точки зрения ошибки. Для этого сделайте перебор по логарифмической сетке. Для каждого метода посчитайте ошибку на обучающей и тестовой выборках, посчитайте качество по метрике $R^2$, сохраните количество итераций до сходимости.\n",
        "\n",
        "Все параметры кроме `lambda_` стоит выставить равным значениям по умолчанию."
      ]
    },
    {
      "cell_type": "code",
      "execution_count": null,
      "metadata": {
        "pycharm": {
          "name": "#%%\n"
        },
        "id": "_PzShTHe-qDS"
      },
      "outputs": [],
      "source": [
        "# YOUR CODE:"
      ]
    },
    {
      "cell_type": "markdown",
      "metadata": {
        "pycharm": {
          "name": "#%% md\n"
        },
        "id": "oosA84NF-qDT"
      },
      "source": [
        "### Задание 5.2. Сравнение методов (1 балла) \n",
        "\n",
        "Постройте график зависимости ошибки на обучающей выборке от номера итерации (все методы на одном графике).\n",
        "\n",
        "Посмотрите на получившиеся результаты (таблички с метриками и график). Сравните методы между собой."
      ]
    },
    {
      "cell_type": "code",
      "execution_count": null,
      "metadata": {
        "pycharm": {
          "name": "#%%\n"
        },
        "id": "thLkfQqm-qDT"
      },
      "outputs": [],
      "source": [
        "# YOUR CODE:"
      ]
    },
    {
      "cell_type": "markdown",
      "metadata": {
        "pycharm": {
          "name": "#%% md\n"
        },
        "id": "FIT2MfRG-qDT"
      },
      "source": [
        "`### ваше решение тут ###`"
      ]
    },
    {
      "cell_type": "markdown",
      "metadata": {
        "pycharm": {
          "name": "#%% md\n"
        },
        "id": "raxI6MSy-qDT"
      },
      "source": [
        "## Задание 6. Стохастический градиентный спуск и размер батча (1 балл)\n",
        "\n",
        "В этом задании вам предстоит исследовать влияние размера батча на работу стохастического градиентного спуска. \n",
        "\n",
        "* Сделайте по несколько запусков (например, k = 10) стохастического градиентного спуска на обучающей выборке для каждого размера батча из перебираемого списка. Замерьте время в секундах и количество итераций до сходимости. Посчитайте среднее этих значений для каждого размера батча.\n",
        "* Постройте график зависимости количества шагов до сходимости от размера батча.\n",
        "* Постройте график зависимости времени до сходимости от размера батча.\n",
        "\n",
        "Посмотрите на получившиеся результаты. Какие выводы можно сделать про подбор размера батча для стохастического градиентного спуска?"
      ]
    },
    {
      "cell_type": "code",
      "execution_count": null,
      "metadata": {
        "pycharm": {
          "name": "#%%\n"
        },
        "id": "LIaDNhta-qDU"
      },
      "outputs": [],
      "source": [
        "batch_sizes = np.arange(5, 500, 10)\n",
        "\n",
        "# YOUR CODE:"
      ]
    },
    {
      "cell_type": "markdown",
      "metadata": {
        "pycharm": {
          "name": "#%% md\n"
        },
        "id": "5lQfYYH4-qDU"
      },
      "source": [
        "`### ваше решение тут ###`"
      ]
    },
    {
      "cell_type": "markdown",
      "metadata": {
        "pycharm": {
          "name": "#%% md\n"
        },
        "id": "BuBumMnh-qDU"
      },
      "source": [
        "## Задание 7. Регуляризация (1 балл)\n",
        "\n",
        "В этом задании вам предстоит исследовать влияние регуляризации на работу различных методов градиентного спуска. Напомним, регуляризация - это добавка к функции потерь, которая штрафует за норму весов. Мы будем использовать l2 регуляризацию, таким образом функция потерь приобретает следующий вид:\n",
        "\n",
        "$$\n",
        "    Q(w) = \\dfrac{1}{\\ell} \\sum\\limits_{i=1}^{\\ell} (a_w(x_i) - y_i)^2 + \\dfrac{\\mu}{2} \\| w \\|^2\n",
        "$$"
      ]
    },
    {
      "cell_type": "markdown",
      "metadata": {
        "pycharm": {
          "name": "#%% md\n"
        },
        "id": "Jy_j-6-h-qDU"
      },
      "source": [
        "Допишите класс **BaseDescentReg** в файле `descents.py`.\n",
        "\n",
        "Протестируйте ваше решение в контесте.\n",
        "\n",
        "Вставьте ссылку на успешную посылку:\n",
        "\n",
        "* **BaseDescentReg**:"
      ]
    },
    {
      "cell_type": "markdown",
      "metadata": {
        "pycharm": {
          "name": "#%% md\n"
        },
        "id": "cytPut5Y-qDV"
      },
      "source": [
        "Найдите лучшие параметры обучения с регуляризацией аналогично 5 заданию. Будем подбирать длину шага $\\lambda$ (`lambda_`) и коэффициент регуляризации $\\mu$ (`mu`).\n",
        "\n",
        "Сравните для каждого метода результаты с регуляризацией и без регуляризации (нужно опять сохранить ошибку и качество по метрике $R^2$ на обучающей и тестовой выборках и количество итераций до сходимости).\n",
        "\n",
        "Постройте для каждого метода график со значениями функции потерь MSE с регуляризацией и без регуляризации (всего должно получиться 4 графика).\n",
        "\n",
        "Посмотрите на получившиеся результаты. Какие можно сделать выводы, как регуляризация влияет на сходимость? Как изменилось качество на обучающей выборке? На тестовой? Чем вы можете объяснить это?"
      ]
    },
    {
      "cell_type": "code",
      "execution_count": null,
      "metadata": {
        "pycharm": {
          "name": "#%%\n"
        },
        "id": "TeEY9qgm-qDV"
      },
      "outputs": [],
      "source": [
        "# YOUR CODE:"
      ]
    },
    {
      "cell_type": "markdown",
      "metadata": {
        "pycharm": {
          "name": "#%% md\n"
        },
        "id": "BiIGHbfn-qDV"
      },
      "source": [
        "`### ваше решение тут ###`"
      ]
    },
    {
      "cell_type": "markdown",
      "metadata": {
        "pycharm": {
          "name": "#%% md\n"
        },
        "id": "_UeV8NBq-qDV"
      },
      "source": [
        "## Задание 8. Альтернативная функция потерь (1 балл)\n",
        "\n",
        "В этом задании вам предстоит использовать другую функцию потерь для нашей задачи регрессии. В качестве функции потерь мы выбрали **Log-Cosh**:\n",
        "\n",
        "$$\n",
        "    L(y, a)\n",
        "    =\n",
        "    \\log\\left(\\cosh(a - y)\\right).\n",
        "$$"
      ]
    },
    {
      "cell_type": "markdown",
      "metadata": {
        "pycharm": {
          "name": "#%% md\n"
        },
        "id": "ADV5wNYE-qDW"
      },
      "source": [
        "Самостоятельно продифференцируйте данную функцию потерь чтобы найти её градиент:\n",
        "\n",
        "`### ваше решение тут ###`"
      ]
    },
    {
      "cell_type": "markdown",
      "metadata": {
        "pycharm": {
          "name": "#%% md\n"
        },
        "id": "IF9RJa97-qDW"
      },
      "source": [
        "Программно реализуйте градиентный спуск с данной функцией потерь в файле `descents.py`, обучите все четыре метода (без регуляризации) аналогично 5 заданию, сравните их качество с четырьмя методами из 5 задания.\n",
        "\n",
        "Пример того, как можно запрограммировать использование нескольких функций потерь внутри одного класса градиентного спуска:\n",
        "\n",
        "\n",
        "```python\n",
        "from enum import auto\n",
        "from enum import Enum\n",
        "\n",
        "import numpy as np\n",
        "\n",
        "class LossFunction(Enum):\n",
        "    MSE = auto()\n",
        "    MAE = auto()\n",
        "    LogCosh = auto()\n",
        "    Huber = auto()\n",
        "\n",
        "...\n",
        "class BaseDescent:\n",
        "    def __init__(self, loss_function: LossFunction = LossFunction.MSE):\n",
        "        self.loss_function: LossFunction = loss_function\n",
        "\n",
        "    def calc_gradient(self, x: np.ndarray, y: np.ndarray) -> np.ndarray:\n",
        "        if self.loss_function is LossFunction.MSE:\n",
        "            return ...\n",
        "        elif self.loss_function is LossFunction.LogCosh:\n",
        "            return ...\n",
        "...\n",
        "\n",
        "```"
      ]
    },
    {
      "cell_type": "code",
      "execution_count": null,
      "metadata": {
        "pycharm": {
          "name": "#%%\n"
        },
        "id": "1JnfELpK-qDW"
      },
      "outputs": [],
      "source": [
        "# YOUR CODE:"
      ]
    },
    {
      "cell_type": "markdown",
      "metadata": {
        "pycharm": {
          "name": "#%% md\n"
        },
        "id": "PPGXUPt4-qDW"
      },
      "source": [
        "### Кулинарно-социализационный бонус. (0.5 балла).\n",
        "\n",
        "Как мы знаем, осень прекрасная пора, время пробовать новое и делиться теплом с друзьями и близкими. Выберите рецепт, который соответствует вашему настроению, приготовьте выбранное блюдо и угостите хотя бы одного человека им. Кратко опишите ваши впечатления, прикрепите рецепт и фотографии блюда и довольного гостя."
      ]
    },
    {
      "cell_type": "markdown",
      "metadata": {
        "pycharm": {
          "name": "#%% md\n"
        },
        "id": "ZWJlmBXI-qDW"
      },
      "source": [
        "`### ваш кулинарный опыт тут ###`"
      ]
    },
    {
      "cell_type": "markdown",
      "metadata": {
        "pycharm": {
          "name": "#%% md\n"
        },
        "id": "RPbyREer-qDW"
      },
      "source": [
        "### Бонус 1. Другие методы градиентного спуска (1 балл).\n",
        "\n",
        "По желанию выберите метод градиентного спуска из следующего списка и самостоятельно реализуйте его в файле `descents.py`. Обучите линейную регрессию с помощью этого метода, сравните с методами из основной части домашнего задания.\n",
        "\n",
        "`AdaMax` (вариация Adam основанная на $l_{\\infty}$), `Nadam` (вариация Adam совмещенная с методом импульса Нестерова), `AMSGrad` (ещё одна вариация Adam)."
      ]
    },
    {
      "cell_type": "code",
      "execution_count": null,
      "metadata": {
        "pycharm": {
          "name": "#%%\n"
        },
        "id": "lyZ2cZd--qDX"
      },
      "outputs": [],
      "source": [
        "# YOUR CODE:"
      ]
    },
    {
      "cell_type": "markdown",
      "metadata": {
        "pycharm": {
          "name": "#%% md\n"
        },
        "id": "urqx788A-qDX"
      },
      "source": [
        "### Бонус 2. Другие функции потерь (1 балл).\n",
        "\n",
        "Аналогично 8 заданию реализуйте две функции потерь - **MAE** и **Huber**."
      ]
    },
    {
      "cell_type": "markdown",
      "metadata": {
        "pycharm": {
          "name": "#%% md\n"
        },
        "id": "zN8trMnz-qDX"
      },
      "source": [
        "Самостоятельно продифференцируйте данные функции потерь, чтобы найти их градиенты:\n",
        "\n",
        "`### ваше решение тут ###`"
      ]
    },
    {
      "cell_type": "markdown",
      "metadata": {
        "pycharm": {
          "name": "#%% md\n"
        },
        "id": "6zEj14O6-qDX"
      },
      "source": [
        "Программно реализуйте градиентный спуск с данными функциями потерь в файле `descents.py`, обучите все четыре метода (без регуляризации) аналогично 5 заданию, сравните их качество с четырьмя методами из 5 задания.\n",
        "\n",
        "Сравните между собой *для каждого метода отдельно* качество для разных функций потерь. Какая оказалась лучше? Как вы думаете почему?"
      ]
    },
    {
      "cell_type": "code",
      "execution_count": null,
      "metadata": {
        "pycharm": {
          "name": "#%%\n"
        },
        "id": "7rP5WOzw-qDX"
      },
      "outputs": [],
      "source": [
        "# YOUR CODE:"
      ]
    }
  ],
  "metadata": {
    "kernelspec": {
      "display_name": "Python 3 (ipykernel)",
      "language": "python",
      "name": "python3"
    },
    "language_info": {
      "codemirror_mode": {
        "name": "ipython",
        "version": 3
      },
      "file_extension": ".py",
      "mimetype": "text/x-python",
      "name": "python",
      "nbconvert_exporter": "python",
      "pygments_lexer": "ipython3",
      "version": "3.10.6"
    },
    "colab": {
      "provenance": [],
      "include_colab_link": true
    }
  },
  "nbformat": 4,
  "nbformat_minor": 0
}