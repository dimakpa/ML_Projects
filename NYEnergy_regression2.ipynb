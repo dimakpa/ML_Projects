{
  "nbformat": 4,
  "nbformat_minor": 0,
  "metadata": {
    "colab": {
      "provenance": [],
      "gpuType": "T4",
      "authorship_tag": "ABX9TyNVYT+nSH96H208bKJbau9v",
      "include_colab_link": true
    },
    "kernelspec": {
      "name": "python3",
      "display_name": "Python 3"
    },
    "language_info": {
      "name": "python"
    },
    "accelerator": "TPU"
  },
  "cells": [
    {
      "cell_type": "markdown",
      "metadata": {
        "id": "view-in-github",
        "colab_type": "text"
      },
      "source": [
        "<a href=\"https://colab.research.google.com/github/dimakpa/ML_Projects/blob/main/NYEnergy_regression2.ipynb\" target=\"_parent\"><img src=\"https://colab.research.google.com/assets/colab-badge.svg\" alt=\"Open In Colab\"/></a>"
      ]
    },
    {
      "cell_type": "markdown",
      "source": [
        "## Оценка и сравнение моделей машинного обучения"
      ],
      "metadata": {
        "id": "pghsIKHRmz-3"
      }
    },
    {
      "cell_type": "markdown",
      "source": [
        "Импортируем для начала библиотеки, которые пригодятся в дальнейшем"
      ],
      "metadata": {
        "id": "MvV5QNw4nHC-"
      }
    },
    {
      "cell_type": "code",
      "execution_count": 3,
      "metadata": {
        "id": "OpPxkU2k9Rki"
      },
      "outputs": [],
      "source": [
        "# Pandas and numpy for data manipulation\n",
        "import pandas as pd\n",
        "import numpy as np\n",
        "\n",
        "# No warnings about setting value on copy of slice\n",
        "pd.options.mode.chained_assignment = None\n",
        "pd.set_option('display.max_columns', 60)\n",
        "\n",
        "# Matplotlib for visualization\n",
        "import matplotlib.pyplot as plt\n",
        "%matplotlib inline\n",
        "\n",
        "# Set default font size\n",
        "plt.rcParams['font.size'] = 24\n",
        "\n",
        "from IPython.core.pylabtools import figsize\n",
        "\n",
        "# Seaborn for visualization\n",
        "import seaborn as sns\n",
        "sns.set(font_scale = 2)\n",
        "\n",
        "# Imputing missing values and scaling values\n",
        "from sklearn.preprocessing import  MinMaxScaler\n",
        "from sklearn.impute import SimpleImputer\n",
        "\n",
        "# Machine Learning Models\n",
        "from sklearn.linear_model import LinearRegression\n",
        "from sklearn.ensemble import RandomForestRegressor, GradientBoostingRegressor\n",
        "from sklearn.svm import SVR\n",
        "from sklearn.neighbors import KNeighborsRegressor\n",
        "\n",
        "# Hyperparameter tuning\n",
        "from sklearn.model_selection import RandomizedSearchCV, GridSearchCV"
      ]
    },
    {
      "cell_type": "markdown",
      "source": [
        "Скачаем наши заготовки с гугл диска"
      ],
      "metadata": {
        "id": "5QpKnhdcprA0"
      }
    },
    {
      "cell_type": "code",
      "source": [
        "from google.colab import drive\n",
        "drive.mount('/content/drive')"
      ],
      "metadata": {
        "id": "BVewgv4XpwYM",
        "colab": {
          "base_uri": "https://localhost:8080/"
        },
        "outputId": "47b13463-731a-4c88-9ca2-5a507e2ba0f0"
      },
      "execution_count": 6,
      "outputs": [
        {
          "output_type": "stream",
          "name": "stdout",
          "text": [
            "Mounted at /content/drive\n"
          ]
        }
      ]
    },
    {
      "cell_type": "code",
      "source": [
        "# Read in data into dataframes\n",
        "train_features = pd.read_csv('/content/drive/MyDrive/Colab Notebooks/NYEnergyRegressionData/training_features.csv')\n",
        "test_features = pd.read_csv('/content/drive/MyDrive/Colab Notebooks/NYEnergyRegressionData/testing_features.csv')\n",
        "train_labels = pd.read_csv('/content/drive/MyDrive/Colab Notebooks/NYEnergyRegressionData/training_labels.csv')\n",
        "test_labels = pd.read_csv('/content/drive/MyDrive/Colab Notebooks/NYEnergyRegressionData/testing_labels.csv')\n",
        "\n",
        "# Display sizes of data\n",
        "print('Training Feature Size: ', train_features.shape)\n",
        "print('Testing Feature Size:  ', test_features.shape)\n",
        "print('Training Labels Size:  ', train_labels.shape)\n",
        "print('Testing Labels Size:   ', test_labels.shape)"
      ],
      "metadata": {
        "id": "t7AFcihgnPYD",
        "colab": {
          "base_uri": "https://localhost:8080/"
        },
        "outputId": "aa1166ba-92b8-4bca-8c8d-617fdddaa9e6"
      },
      "execution_count": 7,
      "outputs": [
        {
          "output_type": "stream",
          "name": "stdout",
          "text": [
            "Training Feature Size:  (6622, 64)\n",
            "Testing Feature Size:   (2839, 64)\n",
            "Training Labels Size:   (6622, 1)\n",
            "Testing Labels Size:    (2839, 1)\n"
          ]
        }
      ]
    },
    {
      "cell_type": "code",
      "source": [
        "train_features.head(7)"
      ],
      "metadata": {
        "id": "5X-ip5cYsk-c",
        "colab": {
          "base_uri": "https://localhost:8080/",
          "height": 501
        },
        "outputId": "0c062fbe-be7e-412d-c885-c18120bc72f5"
      },
      "execution_count": 4,
      "outputs": [
        {
          "output_type": "execute_result",
          "data": {
            "text/plain": [
              "   Order  Property Id  DOF Gross Floor Area  Year Built  \\\n",
              "0  13276      5849784               90300.0        1950   \n",
              "1   7377      4398442               52000.0        1926   \n",
              "2   9479      4665374              104700.0        1954   \n",
              "3  14774      3393340              129333.0        1992   \n",
              "4   3286      2704325              109896.0        1927   \n",
              "5   1060      2430725              182655.0        1929   \n",
              "6  10846      5737475               65400.0        1942   \n",
              "\n",
              "   Number of Buildings - Self-reported  Occupancy  Site EUI (kBtu/ft²)  \\\n",
              "0                                    1        100                126.0   \n",
              "1                                    1        100                 95.4   \n",
              "2                                    1        100                 40.4   \n",
              "3                                    1        100                157.1   \n",
              "4                                    1        100                 62.3   \n",
              "5                                    1         90                 52.9   \n",
              "6                                    1        100                 66.8   \n",
              "\n",
              "   Weather Normalized Site Electricity Intensity (kWh/ft²)  \\\n",
              "0                                                5.2         \n",
              "1                                                4.7         \n",
              "2                                                3.8         \n",
              "3                                               16.9         \n",
              "4                                                3.5         \n",
              "5                                                9.7         \n",
              "6                                                3.0         \n",
              "\n",
              "   Weather Normalized Site Natural Gas Intensity (therms/ft²)  \\\n",
              "0                                                1.2            \n",
              "1                                                0.9            \n",
              "2                                                0.3            \n",
              "3                                                1.1            \n",
              "4                                                0.0            \n",
              "5                                                0.2            \n",
              "6                                                0.6            \n",
              "\n",
              "   Water Intensity (All Water Sources) (gal/ft²)   Latitude  Longitude  \\\n",
              "0                                          99.41        NaN        NaN   \n",
              "1                                            NaN  40.835496 -73.887745   \n",
              "2                                            NaN  40.663206 -73.949469   \n",
              "3                                            NaN  40.622968 -74.078742   \n",
              "4                                          28.65  40.782421 -73.972622   \n",
              "5                                           4.80  40.725136 -74.004438   \n",
              "6                                          67.14  40.637833 -73.973045   \n",
              "\n",
              "   Community Board  Census Tract  log_Direct GHG Emissions (Metric Tons CO2e)  \\\n",
              "0              NaN           NaN                                     6.088818   \n",
              "1              3.0         161.0                                     5.384036   \n",
              "2              9.0         329.0                                     5.017280   \n",
              "3              1.0          27.0                                     6.510853   \n",
              "4              7.0         165.0                                     6.123589   \n",
              "5              2.0          37.0                                     5.516649   \n",
              "6             12.0         490.0                                     5.426271   \n",
              "\n",
              "   log_Water Intensity (All Water Sources) (gal/ft²)  Borough_Staten Island  \\\n",
              "0                                           4.599253                      0   \n",
              "1                                                NaN                      0   \n",
              "2                                                NaN                      0   \n",
              "3                                                NaN                      1   \n",
              "4                                           3.355153                      0   \n",
              "5                                           1.568616                      0   \n",
              "6                                           4.206780                      0   \n",
              "\n",
              "   Largest Property Use Type_Adult Education  \\\n",
              "0                                          0   \n",
              "1                                          0   \n",
              "2                                          0   \n",
              "3                                          0   \n",
              "4                                          0   \n",
              "5                                          0   \n",
              "6                                          0   \n",
              "\n",
              "   Largest Property Use Type_Automobile Dealership  \\\n",
              "0                                                0   \n",
              "1                                                0   \n",
              "2                                                0   \n",
              "3                                                0   \n",
              "4                                                0   \n",
              "5                                                0   \n",
              "6                                                0   \n",
              "\n",
              "   Largest Property Use Type_Bank Branch  \\\n",
              "0                                      0   \n",
              "1                                      0   \n",
              "2                                      0   \n",
              "3                                      0   \n",
              "4                                      0   \n",
              "5                                      0   \n",
              "6                                      0   \n",
              "\n",
              "   Largest Property Use Type_College/University  \\\n",
              "0                                             0   \n",
              "1                                             0   \n",
              "2                                             0   \n",
              "3                                             0   \n",
              "4                                             0   \n",
              "5                                             0   \n",
              "6                                             0   \n",
              "\n",
              "   Largest Property Use Type_Convenience Store without Gas Station  \\\n",
              "0                                                  0                 \n",
              "1                                                  0                 \n",
              "2                                                  0                 \n",
              "3                                                  0                 \n",
              "4                                                  0                 \n",
              "5                                                  0                 \n",
              "6                                                  0                 \n",
              "\n",
              "   Largest Property Use Type_Courthouse  \\\n",
              "0                                     0   \n",
              "1                                     0   \n",
              "2                                     0   \n",
              "3                                     0   \n",
              "4                                     0   \n",
              "5                                     0   \n",
              "6                                     0   \n",
              "\n",
              "   Largest Property Use Type_Distribution Center  \\\n",
              "0                                              0   \n",
              "1                                              0   \n",
              "2                                              0   \n",
              "3                                              0   \n",
              "4                                              0   \n",
              "5                                              0   \n",
              "6                                              0   \n",
              "\n",
              "   Largest Property Use Type_Enclosed Mall  \\\n",
              "0                                        0   \n",
              "1                                        0   \n",
              "2                                        0   \n",
              "3                                        0   \n",
              "4                                        0   \n",
              "5                                        0   \n",
              "6                                        0   \n",
              "\n",
              "   Largest Property Use Type_Financial Office  \\\n",
              "0                                           0   \n",
              "1                                           0   \n",
              "2                                           0   \n",
              "3                                           0   \n",
              "4                                           0   \n",
              "5                                           0   \n",
              "6                                           0   \n",
              "\n",
              "   Largest Property Use Type_Hospital (General Medical & Surgical)  \\\n",
              "0                                                  0                 \n",
              "1                                                  0                 \n",
              "2                                                  0                 \n",
              "3                                                  0                 \n",
              "4                                                  0                 \n",
              "5                                                  0                 \n",
              "6                                                  0                 \n",
              "\n",
              "   Largest Property Use Type_Hotel  Largest Property Use Type_K-12 School  \\\n",
              "0                                0                                      0   \n",
              "1                                0                                      0   \n",
              "2                                0                                      0   \n",
              "3                                0                                      0   \n",
              "4                                0                                      0   \n",
              "5                                0                                      0   \n",
              "6                                0                                      0   \n",
              "\n",
              "   Largest Property Use Type_Library  ...  \\\n",
              "0                                  0  ...   \n",
              "1                                  0  ...   \n",
              "2                                  0  ...   \n",
              "3                                  0  ...   \n",
              "4                                  0  ...   \n",
              "5                                  0  ...   \n",
              "6                                  0  ...   \n",
              "\n",
              "   Largest Property Use Type_Multifamily Housing  \\\n",
              "0                                              1   \n",
              "1                                              1   \n",
              "2                                              1   \n",
              "3                                              0   \n",
              "4                                              1   \n",
              "5                                              0   \n",
              "6                                              1   \n",
              "\n",
              "   Largest Property Use Type_Museum  \\\n",
              "0                                 0   \n",
              "1                                 0   \n",
              "2                                 0   \n",
              "3                                 0   \n",
              "4                                 0   \n",
              "5                                 0   \n",
              "6                                 0   \n",
              "\n",
              "   Largest Property Use Type_Non-Refrigerated Warehouse  \\\n",
              "0                                                  0      \n",
              "1                                                  0      \n",
              "2                                                  0      \n",
              "3                                                  0      \n",
              "4                                                  0      \n",
              "5                                                  0      \n",
              "6                                                  0      \n",
              "\n",
              "   Largest Property Use Type_Other  \\\n",
              "0                                0   \n",
              "1                                0   \n",
              "2                                0   \n",
              "3                                0   \n",
              "4                                0   \n",
              "5                                0   \n",
              "6                                0   \n",
              "\n",
              "   Largest Property Use Type_Other - Education  \\\n",
              "0                                            0   \n",
              "1                                            0   \n",
              "2                                            0   \n",
              "3                                            0   \n",
              "4                                            0   \n",
              "5                                            0   \n",
              "6                                            0   \n",
              "\n",
              "   Largest Property Use Type_Other - Entertainment/Public Assembly  \\\n",
              "0                                                  0                 \n",
              "1                                                  0                 \n",
              "2                                                  0                 \n",
              "3                                                  0                 \n",
              "4                                                  0                 \n",
              "5                                                  0                 \n",
              "6                                                  0                 \n",
              "\n",
              "   Largest Property Use Type_Other - Lodging/Residential  \\\n",
              "0                                                  0       \n",
              "1                                                  0       \n",
              "2                                                  0       \n",
              "3                                                  0       \n",
              "4                                                  0       \n",
              "5                                                  0       \n",
              "6                                                  0       \n",
              "\n",
              "   Largest Property Use Type_Other - Mall  \\\n",
              "0                                       0   \n",
              "1                                       0   \n",
              "2                                       0   \n",
              "3                                       0   \n",
              "4                                       0   \n",
              "5                                       0   \n",
              "6                                       0   \n",
              "\n",
              "   Largest Property Use Type_Other - Public Services  \\\n",
              "0                                                  0   \n",
              "1                                                  0   \n",
              "2                                                  0   \n",
              "3                                                  0   \n",
              "4                                                  0   \n",
              "5                                                  0   \n",
              "6                                                  0   \n",
              "\n",
              "   Largest Property Use Type_Other - Recreation  \\\n",
              "0                                             0   \n",
              "1                                             0   \n",
              "2                                             0   \n",
              "3                                             0   \n",
              "4                                             0   \n",
              "5                                             0   \n",
              "6                                             0   \n",
              "\n",
              "   Largest Property Use Type_Other - Services  \\\n",
              "0                                           0   \n",
              "1                                           0   \n",
              "2                                           0   \n",
              "3                                           0   \n",
              "4                                           0   \n",
              "5                                           0   \n",
              "6                                           0   \n",
              "\n",
              "   Largest Property Use Type_Other - Specialty Hospital  \\\n",
              "0                                                  0      \n",
              "1                                                  0      \n",
              "2                                                  0      \n",
              "3                                                  0      \n",
              "4                                                  0      \n",
              "5                                                  0      \n",
              "6                                                  0      \n",
              "\n",
              "   Largest Property Use Type_Outpatient Rehabilitation/Physical Therapy  \\\n",
              "0                                                  0                      \n",
              "1                                                  0                      \n",
              "2                                                  0                      \n",
              "3                                                  0                      \n",
              "4                                                  0                      \n",
              "5                                                  0                      \n",
              "6                                                  0                      \n",
              "\n",
              "   Largest Property Use Type_Parking  \\\n",
              "0                                  0   \n",
              "1                                  0   \n",
              "2                                  0   \n",
              "3                                  0   \n",
              "4                                  0   \n",
              "5                                  0   \n",
              "6                                  0   \n",
              "\n",
              "   Largest Property Use Type_Performing Arts  \\\n",
              "0                                          0   \n",
              "1                                          0   \n",
              "2                                          0   \n",
              "3                                          0   \n",
              "4                                          0   \n",
              "5                                          0   \n",
              "6                                          0   \n",
              "\n",
              "   Largest Property Use Type_Pre-school/Daycare  \\\n",
              "0                                             0   \n",
              "1                                             0   \n",
              "2                                             0   \n",
              "3                                             0   \n",
              "4                                             0   \n",
              "5                                             0   \n",
              "6                                             0   \n",
              "\n",
              "   Largest Property Use Type_Refrigerated Warehouse  \\\n",
              "0                                                 0   \n",
              "1                                                 0   \n",
              "2                                                 0   \n",
              "3                                                 0   \n",
              "4                                                 0   \n",
              "5                                                 0   \n",
              "6                                                 0   \n",
              "\n",
              "   Largest Property Use Type_Repair Services (Vehicle, Shoe, Locksmith, etc.)  \\\n",
              "0                                                  0                            \n",
              "1                                                  0                            \n",
              "2                                                  0                            \n",
              "3                                                  0                            \n",
              "4                                                  0                            \n",
              "5                                                  0                            \n",
              "6                                                  0                            \n",
              "\n",
              "   Largest Property Use Type_Residence Hall/Dormitory  \\\n",
              "0                                                  0    \n",
              "1                                                  0    \n",
              "2                                                  0    \n",
              "3                                                  0    \n",
              "4                                                  0    \n",
              "5                                                  0    \n",
              "6                                                  0    \n",
              "\n",
              "   Largest Property Use Type_Residential Care Facility  \\\n",
              "0                                                  0     \n",
              "1                                                  0     \n",
              "2                                                  0     \n",
              "3                                                  0     \n",
              "4                                                  0     \n",
              "5                                                  0     \n",
              "6                                                  0     \n",
              "\n",
              "   Largest Property Use Type_Restaurant  \\\n",
              "0                                     0   \n",
              "1                                     0   \n",
              "2                                     0   \n",
              "3                                     0   \n",
              "4                                     0   \n",
              "5                                     0   \n",
              "6                                     0   \n",
              "\n",
              "   Largest Property Use Type_Retail Store  \\\n",
              "0                                       0   \n",
              "1                                       0   \n",
              "2                                       0   \n",
              "3                                       0   \n",
              "4                                       0   \n",
              "5                                       0   \n",
              "6                                       0   \n",
              "\n",
              "   Largest Property Use Type_Self-Storage Facility  \\\n",
              "0                                                0   \n",
              "1                                                0   \n",
              "2                                                0   \n",
              "3                                                0   \n",
              "4                                                0   \n",
              "5                                                0   \n",
              "6                                                0   \n",
              "\n",
              "   Largest Property Use Type_Senior Care Community  \\\n",
              "0                                                0   \n",
              "1                                                0   \n",
              "2                                                0   \n",
              "3                                                1   \n",
              "4                                                0   \n",
              "5                                                0   \n",
              "6                                                0   \n",
              "\n",
              "   Largest Property Use Type_Social/Meeting Hall  \\\n",
              "0                                              0   \n",
              "1                                              0   \n",
              "2                                              0   \n",
              "3                                              0   \n",
              "4                                              0   \n",
              "5                                              0   \n",
              "6                                              0   \n",
              "\n",
              "   Largest Property Use Type_Strip Mall  \\\n",
              "0                                     0   \n",
              "1                                     0   \n",
              "2                                     0   \n",
              "3                                     0   \n",
              "4                                     0   \n",
              "5                                     0   \n",
              "6                                     0   \n",
              "\n",
              "   Largest Property Use Type_Supermarket/Grocery Store  \\\n",
              "0                                                  0     \n",
              "1                                                  0     \n",
              "2                                                  0     \n",
              "3                                                  0     \n",
              "4                                                  0     \n",
              "5                                                  0     \n",
              "6                                                  0     \n",
              "\n",
              "   Largest Property Use Type_Urgent Care/Clinic/Other Outpatient  \\\n",
              "0                                                  0               \n",
              "1                                                  0               \n",
              "2                                                  0               \n",
              "3                                                  0               \n",
              "4                                                  0               \n",
              "5                                                  0               \n",
              "6                                                  0               \n",
              "\n",
              "   Largest Property Use Type_Wholesale Club/Supercenter  \\\n",
              "0                                                  0      \n",
              "1                                                  0      \n",
              "2                                                  0      \n",
              "3                                                  0      \n",
              "4                                                  0      \n",
              "5                                                  0      \n",
              "6                                                  0      \n",
              "\n",
              "   Largest Property Use Type_Worship Facility  \n",
              "0                                           0  \n",
              "1                                           0  \n",
              "2                                           0  \n",
              "3                                           0  \n",
              "4                                           0  \n",
              "5                                           0  \n",
              "6                                           0  \n",
              "\n",
              "[7 rows x 64 columns]"
            ],
            "text/html": [
              "\n",
              "  <div id=\"df-2f062861-b654-4fa6-aec9-66dc43cc04ff\">\n",
              "    <div class=\"colab-df-container\">\n",
              "      <div>\n",
              "<style scoped>\n",
              "    .dataframe tbody tr th:only-of-type {\n",
              "        vertical-align: middle;\n",
              "    }\n",
              "\n",
              "    .dataframe tbody tr th {\n",
              "        vertical-align: top;\n",
              "    }\n",
              "\n",
              "    .dataframe thead th {\n",
              "        text-align: right;\n",
              "    }\n",
              "</style>\n",
              "<table border=\"1\" class=\"dataframe\">\n",
              "  <thead>\n",
              "    <tr style=\"text-align: right;\">\n",
              "      <th></th>\n",
              "      <th>Order</th>\n",
              "      <th>Property Id</th>\n",
              "      <th>DOF Gross Floor Area</th>\n",
              "      <th>Year Built</th>\n",
              "      <th>Number of Buildings - Self-reported</th>\n",
              "      <th>Occupancy</th>\n",
              "      <th>Site EUI (kBtu/ft²)</th>\n",
              "      <th>Weather Normalized Site Electricity Intensity (kWh/ft²)</th>\n",
              "      <th>Weather Normalized Site Natural Gas Intensity (therms/ft²)</th>\n",
              "      <th>Water Intensity (All Water Sources) (gal/ft²)</th>\n",
              "      <th>Latitude</th>\n",
              "      <th>Longitude</th>\n",
              "      <th>Community Board</th>\n",
              "      <th>Census Tract</th>\n",
              "      <th>log_Direct GHG Emissions (Metric Tons CO2e)</th>\n",
              "      <th>log_Water Intensity (All Water Sources) (gal/ft²)</th>\n",
              "      <th>Borough_Staten Island</th>\n",
              "      <th>Largest Property Use Type_Adult Education</th>\n",
              "      <th>Largest Property Use Type_Automobile Dealership</th>\n",
              "      <th>Largest Property Use Type_Bank Branch</th>\n",
              "      <th>Largest Property Use Type_College/University</th>\n",
              "      <th>Largest Property Use Type_Convenience Store without Gas Station</th>\n",
              "      <th>Largest Property Use Type_Courthouse</th>\n",
              "      <th>Largest Property Use Type_Distribution Center</th>\n",
              "      <th>Largest Property Use Type_Enclosed Mall</th>\n",
              "      <th>Largest Property Use Type_Financial Office</th>\n",
              "      <th>Largest Property Use Type_Hospital (General Medical &amp; Surgical)</th>\n",
              "      <th>Largest Property Use Type_Hotel</th>\n",
              "      <th>Largest Property Use Type_K-12 School</th>\n",
              "      <th>Largest Property Use Type_Library</th>\n",
              "      <th>...</th>\n",
              "      <th>Largest Property Use Type_Multifamily Housing</th>\n",
              "      <th>Largest Property Use Type_Museum</th>\n",
              "      <th>Largest Property Use Type_Non-Refrigerated Warehouse</th>\n",
              "      <th>Largest Property Use Type_Other</th>\n",
              "      <th>Largest Property Use Type_Other - Education</th>\n",
              "      <th>Largest Property Use Type_Other - Entertainment/Public Assembly</th>\n",
              "      <th>Largest Property Use Type_Other - Lodging/Residential</th>\n",
              "      <th>Largest Property Use Type_Other - Mall</th>\n",
              "      <th>Largest Property Use Type_Other - Public Services</th>\n",
              "      <th>Largest Property Use Type_Other - Recreation</th>\n",
              "      <th>Largest Property Use Type_Other - Services</th>\n",
              "      <th>Largest Property Use Type_Other - Specialty Hospital</th>\n",
              "      <th>Largest Property Use Type_Outpatient Rehabilitation/Physical Therapy</th>\n",
              "      <th>Largest Property Use Type_Parking</th>\n",
              "      <th>Largest Property Use Type_Performing Arts</th>\n",
              "      <th>Largest Property Use Type_Pre-school/Daycare</th>\n",
              "      <th>Largest Property Use Type_Refrigerated Warehouse</th>\n",
              "      <th>Largest Property Use Type_Repair Services (Vehicle, Shoe, Locksmith, etc.)</th>\n",
              "      <th>Largest Property Use Type_Residence Hall/Dormitory</th>\n",
              "      <th>Largest Property Use Type_Residential Care Facility</th>\n",
              "      <th>Largest Property Use Type_Restaurant</th>\n",
              "      <th>Largest Property Use Type_Retail Store</th>\n",
              "      <th>Largest Property Use Type_Self-Storage Facility</th>\n",
              "      <th>Largest Property Use Type_Senior Care Community</th>\n",
              "      <th>Largest Property Use Type_Social/Meeting Hall</th>\n",
              "      <th>Largest Property Use Type_Strip Mall</th>\n",
              "      <th>Largest Property Use Type_Supermarket/Grocery Store</th>\n",
              "      <th>Largest Property Use Type_Urgent Care/Clinic/Other Outpatient</th>\n",
              "      <th>Largest Property Use Type_Wholesale Club/Supercenter</th>\n",
              "      <th>Largest Property Use Type_Worship Facility</th>\n",
              "    </tr>\n",
              "  </thead>\n",
              "  <tbody>\n",
              "    <tr>\n",
              "      <th>0</th>\n",
              "      <td>13276</td>\n",
              "      <td>5849784</td>\n",
              "      <td>90300.0</td>\n",
              "      <td>1950</td>\n",
              "      <td>1</td>\n",
              "      <td>100</td>\n",
              "      <td>126.0</td>\n",
              "      <td>5.2</td>\n",
              "      <td>1.2</td>\n",
              "      <td>99.41</td>\n",
              "      <td>NaN</td>\n",
              "      <td>NaN</td>\n",
              "      <td>NaN</td>\n",
              "      <td>NaN</td>\n",
              "      <td>6.088818</td>\n",
              "      <td>4.599253</td>\n",
              "      <td>0</td>\n",
              "      <td>0</td>\n",
              "      <td>0</td>\n",
              "      <td>0</td>\n",
              "      <td>0</td>\n",
              "      <td>0</td>\n",
              "      <td>0</td>\n",
              "      <td>0</td>\n",
              "      <td>0</td>\n",
              "      <td>0</td>\n",
              "      <td>0</td>\n",
              "      <td>0</td>\n",
              "      <td>0</td>\n",
              "      <td>0</td>\n",
              "      <td>...</td>\n",
              "      <td>1</td>\n",
              "      <td>0</td>\n",
              "      <td>0</td>\n",
              "      <td>0</td>\n",
              "      <td>0</td>\n",
              "      <td>0</td>\n",
              "      <td>0</td>\n",
              "      <td>0</td>\n",
              "      <td>0</td>\n",
              "      <td>0</td>\n",
              "      <td>0</td>\n",
              "      <td>0</td>\n",
              "      <td>0</td>\n",
              "      <td>0</td>\n",
              "      <td>0</td>\n",
              "      <td>0</td>\n",
              "      <td>0</td>\n",
              "      <td>0</td>\n",
              "      <td>0</td>\n",
              "      <td>0</td>\n",
              "      <td>0</td>\n",
              "      <td>0</td>\n",
              "      <td>0</td>\n",
              "      <td>0</td>\n",
              "      <td>0</td>\n",
              "      <td>0</td>\n",
              "      <td>0</td>\n",
              "      <td>0</td>\n",
              "      <td>0</td>\n",
              "      <td>0</td>\n",
              "    </tr>\n",
              "    <tr>\n",
              "      <th>1</th>\n",
              "      <td>7377</td>\n",
              "      <td>4398442</td>\n",
              "      <td>52000.0</td>\n",
              "      <td>1926</td>\n",
              "      <td>1</td>\n",
              "      <td>100</td>\n",
              "      <td>95.4</td>\n",
              "      <td>4.7</td>\n",
              "      <td>0.9</td>\n",
              "      <td>NaN</td>\n",
              "      <td>40.835496</td>\n",
              "      <td>-73.887745</td>\n",
              "      <td>3.0</td>\n",
              "      <td>161.0</td>\n",
              "      <td>5.384036</td>\n",
              "      <td>NaN</td>\n",
              "      <td>0</td>\n",
              "      <td>0</td>\n",
              "      <td>0</td>\n",
              "      <td>0</td>\n",
              "      <td>0</td>\n",
              "      <td>0</td>\n",
              "      <td>0</td>\n",
              "      <td>0</td>\n",
              "      <td>0</td>\n",
              "      <td>0</td>\n",
              "      <td>0</td>\n",
              "      <td>0</td>\n",
              "      <td>0</td>\n",
              "      <td>0</td>\n",
              "      <td>...</td>\n",
              "      <td>1</td>\n",
              "      <td>0</td>\n",
              "      <td>0</td>\n",
              "      <td>0</td>\n",
              "      <td>0</td>\n",
              "      <td>0</td>\n",
              "      <td>0</td>\n",
              "      <td>0</td>\n",
              "      <td>0</td>\n",
              "      <td>0</td>\n",
              "      <td>0</td>\n",
              "      <td>0</td>\n",
              "      <td>0</td>\n",
              "      <td>0</td>\n",
              "      <td>0</td>\n",
              "      <td>0</td>\n",
              "      <td>0</td>\n",
              "      <td>0</td>\n",
              "      <td>0</td>\n",
              "      <td>0</td>\n",
              "      <td>0</td>\n",
              "      <td>0</td>\n",
              "      <td>0</td>\n",
              "      <td>0</td>\n",
              "      <td>0</td>\n",
              "      <td>0</td>\n",
              "      <td>0</td>\n",
              "      <td>0</td>\n",
              "      <td>0</td>\n",
              "      <td>0</td>\n",
              "    </tr>\n",
              "    <tr>\n",
              "      <th>2</th>\n",
              "      <td>9479</td>\n",
              "      <td>4665374</td>\n",
              "      <td>104700.0</td>\n",
              "      <td>1954</td>\n",
              "      <td>1</td>\n",
              "      <td>100</td>\n",
              "      <td>40.4</td>\n",
              "      <td>3.8</td>\n",
              "      <td>0.3</td>\n",
              "      <td>NaN</td>\n",
              "      <td>40.663206</td>\n",
              "      <td>-73.949469</td>\n",
              "      <td>9.0</td>\n",
              "      <td>329.0</td>\n",
              "      <td>5.017280</td>\n",
              "      <td>NaN</td>\n",
              "      <td>0</td>\n",
              "      <td>0</td>\n",
              "      <td>0</td>\n",
              "      <td>0</td>\n",
              "      <td>0</td>\n",
              "      <td>0</td>\n",
              "      <td>0</td>\n",
              "      <td>0</td>\n",
              "      <td>0</td>\n",
              "      <td>0</td>\n",
              "      <td>0</td>\n",
              "      <td>0</td>\n",
              "      <td>0</td>\n",
              "      <td>0</td>\n",
              "      <td>...</td>\n",
              "      <td>1</td>\n",
              "      <td>0</td>\n",
              "      <td>0</td>\n",
              "      <td>0</td>\n",
              "      <td>0</td>\n",
              "      <td>0</td>\n",
              "      <td>0</td>\n",
              "      <td>0</td>\n",
              "      <td>0</td>\n",
              "      <td>0</td>\n",
              "      <td>0</td>\n",
              "      <td>0</td>\n",
              "      <td>0</td>\n",
              "      <td>0</td>\n",
              "      <td>0</td>\n",
              "      <td>0</td>\n",
              "      <td>0</td>\n",
              "      <td>0</td>\n",
              "      <td>0</td>\n",
              "      <td>0</td>\n",
              "      <td>0</td>\n",
              "      <td>0</td>\n",
              "      <td>0</td>\n",
              "      <td>0</td>\n",
              "      <td>0</td>\n",
              "      <td>0</td>\n",
              "      <td>0</td>\n",
              "      <td>0</td>\n",
              "      <td>0</td>\n",
              "      <td>0</td>\n",
              "    </tr>\n",
              "    <tr>\n",
              "      <th>3</th>\n",
              "      <td>14774</td>\n",
              "      <td>3393340</td>\n",
              "      <td>129333.0</td>\n",
              "      <td>1992</td>\n",
              "      <td>1</td>\n",
              "      <td>100</td>\n",
              "      <td>157.1</td>\n",
              "      <td>16.9</td>\n",
              "      <td>1.1</td>\n",
              "      <td>NaN</td>\n",
              "      <td>40.622968</td>\n",
              "      <td>-74.078742</td>\n",
              "      <td>1.0</td>\n",
              "      <td>27.0</td>\n",
              "      <td>6.510853</td>\n",
              "      <td>NaN</td>\n",
              "      <td>1</td>\n",
              "      <td>0</td>\n",
              "      <td>0</td>\n",
              "      <td>0</td>\n",
              "      <td>0</td>\n",
              "      <td>0</td>\n",
              "      <td>0</td>\n",
              "      <td>0</td>\n",
              "      <td>0</td>\n",
              "      <td>0</td>\n",
              "      <td>0</td>\n",
              "      <td>0</td>\n",
              "      <td>0</td>\n",
              "      <td>0</td>\n",
              "      <td>...</td>\n",
              "      <td>0</td>\n",
              "      <td>0</td>\n",
              "      <td>0</td>\n",
              "      <td>0</td>\n",
              "      <td>0</td>\n",
              "      <td>0</td>\n",
              "      <td>0</td>\n",
              "      <td>0</td>\n",
              "      <td>0</td>\n",
              "      <td>0</td>\n",
              "      <td>0</td>\n",
              "      <td>0</td>\n",
              "      <td>0</td>\n",
              "      <td>0</td>\n",
              "      <td>0</td>\n",
              "      <td>0</td>\n",
              "      <td>0</td>\n",
              "      <td>0</td>\n",
              "      <td>0</td>\n",
              "      <td>0</td>\n",
              "      <td>0</td>\n",
              "      <td>0</td>\n",
              "      <td>0</td>\n",
              "      <td>1</td>\n",
              "      <td>0</td>\n",
              "      <td>0</td>\n",
              "      <td>0</td>\n",
              "      <td>0</td>\n",
              "      <td>0</td>\n",
              "      <td>0</td>\n",
              "    </tr>\n",
              "    <tr>\n",
              "      <th>4</th>\n",
              "      <td>3286</td>\n",
              "      <td>2704325</td>\n",
              "      <td>109896.0</td>\n",
              "      <td>1927</td>\n",
              "      <td>1</td>\n",
              "      <td>100</td>\n",
              "      <td>62.3</td>\n",
              "      <td>3.5</td>\n",
              "      <td>0.0</td>\n",
              "      <td>28.65</td>\n",
              "      <td>40.782421</td>\n",
              "      <td>-73.972622</td>\n",
              "      <td>7.0</td>\n",
              "      <td>165.0</td>\n",
              "      <td>6.123589</td>\n",
              "      <td>3.355153</td>\n",
              "      <td>0</td>\n",
              "      <td>0</td>\n",
              "      <td>0</td>\n",
              "      <td>0</td>\n",
              "      <td>0</td>\n",
              "      <td>0</td>\n",
              "      <td>0</td>\n",
              "      <td>0</td>\n",
              "      <td>0</td>\n",
              "      <td>0</td>\n",
              "      <td>0</td>\n",
              "      <td>0</td>\n",
              "      <td>0</td>\n",
              "      <td>0</td>\n",
              "      <td>...</td>\n",
              "      <td>1</td>\n",
              "      <td>0</td>\n",
              "      <td>0</td>\n",
              "      <td>0</td>\n",
              "      <td>0</td>\n",
              "      <td>0</td>\n",
              "      <td>0</td>\n",
              "      <td>0</td>\n",
              "      <td>0</td>\n",
              "      <td>0</td>\n",
              "      <td>0</td>\n",
              "      <td>0</td>\n",
              "      <td>0</td>\n",
              "      <td>0</td>\n",
              "      <td>0</td>\n",
              "      <td>0</td>\n",
              "      <td>0</td>\n",
              "      <td>0</td>\n",
              "      <td>0</td>\n",
              "      <td>0</td>\n",
              "      <td>0</td>\n",
              "      <td>0</td>\n",
              "      <td>0</td>\n",
              "      <td>0</td>\n",
              "      <td>0</td>\n",
              "      <td>0</td>\n",
              "      <td>0</td>\n",
              "      <td>0</td>\n",
              "      <td>0</td>\n",
              "      <td>0</td>\n",
              "    </tr>\n",
              "    <tr>\n",
              "      <th>5</th>\n",
              "      <td>1060</td>\n",
              "      <td>2430725</td>\n",
              "      <td>182655.0</td>\n",
              "      <td>1929</td>\n",
              "      <td>1</td>\n",
              "      <td>90</td>\n",
              "      <td>52.9</td>\n",
              "      <td>9.7</td>\n",
              "      <td>0.2</td>\n",
              "      <td>4.80</td>\n",
              "      <td>40.725136</td>\n",
              "      <td>-74.004438</td>\n",
              "      <td>2.0</td>\n",
              "      <td>37.0</td>\n",
              "      <td>5.516649</td>\n",
              "      <td>1.568616</td>\n",
              "      <td>0</td>\n",
              "      <td>0</td>\n",
              "      <td>0</td>\n",
              "      <td>0</td>\n",
              "      <td>0</td>\n",
              "      <td>0</td>\n",
              "      <td>0</td>\n",
              "      <td>0</td>\n",
              "      <td>0</td>\n",
              "      <td>0</td>\n",
              "      <td>0</td>\n",
              "      <td>0</td>\n",
              "      <td>0</td>\n",
              "      <td>0</td>\n",
              "      <td>...</td>\n",
              "      <td>0</td>\n",
              "      <td>0</td>\n",
              "      <td>0</td>\n",
              "      <td>0</td>\n",
              "      <td>0</td>\n",
              "      <td>0</td>\n",
              "      <td>0</td>\n",
              "      <td>0</td>\n",
              "      <td>0</td>\n",
              "      <td>0</td>\n",
              "      <td>0</td>\n",
              "      <td>0</td>\n",
              "      <td>0</td>\n",
              "      <td>0</td>\n",
              "      <td>0</td>\n",
              "      <td>0</td>\n",
              "      <td>0</td>\n",
              "      <td>0</td>\n",
              "      <td>0</td>\n",
              "      <td>0</td>\n",
              "      <td>0</td>\n",
              "      <td>0</td>\n",
              "      <td>0</td>\n",
              "      <td>0</td>\n",
              "      <td>0</td>\n",
              "      <td>0</td>\n",
              "      <td>0</td>\n",
              "      <td>0</td>\n",
              "      <td>0</td>\n",
              "      <td>0</td>\n",
              "    </tr>\n",
              "    <tr>\n",
              "      <th>6</th>\n",
              "      <td>10846</td>\n",
              "      <td>5737475</td>\n",
              "      <td>65400.0</td>\n",
              "      <td>1942</td>\n",
              "      <td>1</td>\n",
              "      <td>100</td>\n",
              "      <td>66.8</td>\n",
              "      <td>3.0</td>\n",
              "      <td>0.6</td>\n",
              "      <td>67.14</td>\n",
              "      <td>40.637833</td>\n",
              "      <td>-73.973045</td>\n",
              "      <td>12.0</td>\n",
              "      <td>490.0</td>\n",
              "      <td>5.426271</td>\n",
              "      <td>4.206780</td>\n",
              "      <td>0</td>\n",
              "      <td>0</td>\n",
              "      <td>0</td>\n",
              "      <td>0</td>\n",
              "      <td>0</td>\n",
              "      <td>0</td>\n",
              "      <td>0</td>\n",
              "      <td>0</td>\n",
              "      <td>0</td>\n",
              "      <td>0</td>\n",
              "      <td>0</td>\n",
              "      <td>0</td>\n",
              "      <td>0</td>\n",
              "      <td>0</td>\n",
              "      <td>...</td>\n",
              "      <td>1</td>\n",
              "      <td>0</td>\n",
              "      <td>0</td>\n",
              "      <td>0</td>\n",
              "      <td>0</td>\n",
              "      <td>0</td>\n",
              "      <td>0</td>\n",
              "      <td>0</td>\n",
              "      <td>0</td>\n",
              "      <td>0</td>\n",
              "      <td>0</td>\n",
              "      <td>0</td>\n",
              "      <td>0</td>\n",
              "      <td>0</td>\n",
              "      <td>0</td>\n",
              "      <td>0</td>\n",
              "      <td>0</td>\n",
              "      <td>0</td>\n",
              "      <td>0</td>\n",
              "      <td>0</td>\n",
              "      <td>0</td>\n",
              "      <td>0</td>\n",
              "      <td>0</td>\n",
              "      <td>0</td>\n",
              "      <td>0</td>\n",
              "      <td>0</td>\n",
              "      <td>0</td>\n",
              "      <td>0</td>\n",
              "      <td>0</td>\n",
              "      <td>0</td>\n",
              "    </tr>\n",
              "  </tbody>\n",
              "</table>\n",
              "<p>7 rows × 64 columns</p>\n",
              "</div>\n",
              "      <button class=\"colab-df-convert\" onclick=\"convertToInteractive('df-2f062861-b654-4fa6-aec9-66dc43cc04ff')\"\n",
              "              title=\"Convert this dataframe to an interactive table.\"\n",
              "              style=\"display:none;\">\n",
              "        \n",
              "  <svg xmlns=\"http://www.w3.org/2000/svg\" height=\"24px\"viewBox=\"0 0 24 24\"\n",
              "       width=\"24px\">\n",
              "    <path d=\"M0 0h24v24H0V0z\" fill=\"none\"/>\n",
              "    <path d=\"M18.56 5.44l.94 2.06.94-2.06 2.06-.94-2.06-.94-.94-2.06-.94 2.06-2.06.94zm-11 1L8.5 8.5l.94-2.06 2.06-.94-2.06-.94L8.5 2.5l-.94 2.06-2.06.94zm10 10l.94 2.06.94-2.06 2.06-.94-2.06-.94-.94-2.06-.94 2.06-2.06.94z\"/><path d=\"M17.41 7.96l-1.37-1.37c-.4-.4-.92-.59-1.43-.59-.52 0-1.04.2-1.43.59L10.3 9.45l-7.72 7.72c-.78.78-.78 2.05 0 2.83L4 21.41c.39.39.9.59 1.41.59.51 0 1.02-.2 1.41-.59l7.78-7.78 2.81-2.81c.8-.78.8-2.07 0-2.86zM5.41 20L4 18.59l7.72-7.72 1.47 1.35L5.41 20z\"/>\n",
              "  </svg>\n",
              "      </button>\n",
              "      \n",
              "  <style>\n",
              "    .colab-df-container {\n",
              "      display:flex;\n",
              "      flex-wrap:wrap;\n",
              "      gap: 12px;\n",
              "    }\n",
              "\n",
              "    .colab-df-convert {\n",
              "      background-color: #E8F0FE;\n",
              "      border: none;\n",
              "      border-radius: 50%;\n",
              "      cursor: pointer;\n",
              "      display: none;\n",
              "      fill: #1967D2;\n",
              "      height: 32px;\n",
              "      padding: 0 0 0 0;\n",
              "      width: 32px;\n",
              "    }\n",
              "\n",
              "    .colab-df-convert:hover {\n",
              "      background-color: #E2EBFA;\n",
              "      box-shadow: 0px 1px 2px rgba(60, 64, 67, 0.3), 0px 1px 3px 1px rgba(60, 64, 67, 0.15);\n",
              "      fill: #174EA6;\n",
              "    }\n",
              "\n",
              "    [theme=dark] .colab-df-convert {\n",
              "      background-color: #3B4455;\n",
              "      fill: #D2E3FC;\n",
              "    }\n",
              "\n",
              "    [theme=dark] .colab-df-convert:hover {\n",
              "      background-color: #434B5C;\n",
              "      box-shadow: 0px 1px 3px 1px rgba(0, 0, 0, 0.15);\n",
              "      filter: drop-shadow(0px 1px 2px rgba(0, 0, 0, 0.3));\n",
              "      fill: #FFFFFF;\n",
              "    }\n",
              "  </style>\n",
              "\n",
              "      <script>\n",
              "        const buttonEl =\n",
              "          document.querySelector('#df-2f062861-b654-4fa6-aec9-66dc43cc04ff button.colab-df-convert');\n",
              "        buttonEl.style.display =\n",
              "          google.colab.kernel.accessAllowed ? 'block' : 'none';\n",
              "\n",
              "        async function convertToInteractive(key) {\n",
              "          const element = document.querySelector('#df-2f062861-b654-4fa6-aec9-66dc43cc04ff');\n",
              "          const dataTable =\n",
              "            await google.colab.kernel.invokeFunction('convertToInteractive',\n",
              "                                                     [key], {});\n",
              "          if (!dataTable) return;\n",
              "\n",
              "          const docLinkHtml = 'Like what you see? Visit the ' +\n",
              "            '<a target=\"_blank\" href=https://colab.research.google.com/notebooks/data_table.ipynb>data table notebook</a>'\n",
              "            + ' to learn more about interactive tables.';\n",
              "          element.innerHTML = '';\n",
              "          dataTable['output_type'] = 'display_data';\n",
              "          await google.colab.output.renderOutput(dataTable, element);\n",
              "          const docLink = document.createElement('div');\n",
              "          docLink.innerHTML = docLinkHtml;\n",
              "          element.appendChild(docLink);\n",
              "        }\n",
              "      </script>\n",
              "    </div>\n",
              "  </div>\n",
              "  "
            ]
          },
          "metadata": {},
          "execution_count": 4
        }
      ]
    },
    {
      "cell_type": "code",
      "source": [
        "# Function to calculate missing values by column\n",
        "def missing_values_table(df):\n",
        "        # Total missing values\n",
        "        mis_val = df.isnull().sum()\n",
        "\n",
        "        # Percentage of missing values\n",
        "        mis_val_percent = 100 * df.isnull().sum() / len(df)\n",
        "\n",
        "        # Make a table with the results\n",
        "        mis_val_table = pd.concat([mis_val, mis_val_percent], axis=1)\n",
        "\n",
        "        # Rename the columns\n",
        "        mis_val_table_ren_columns = mis_val_table.rename(\n",
        "        columns = {0 : 'Missing Values', 1 : '% of Total Values'})\n",
        "\n",
        "        # Sort the table by percentage of missing descending\n",
        "        mis_val_table_ren_columns = mis_val_table_ren_columns[\n",
        "            mis_val_table_ren_columns.iloc[:,1] != 0].sort_values(\n",
        "        '% of Total Values', ascending=False).round(1)\n",
        "\n",
        "        # Print some summary information\n",
        "        print (\"Your selected dataframe has \" + str(df.shape[1]) + \" columns.\\n\"\n",
        "            \"There are \" + str(mis_val_table_ren_columns.shape[0]) +\n",
        "              \" columns that have missing values.\")\n",
        "\n",
        "        # Return the dataframe with missing information\n",
        "        return mis_val_table_ren_columns"
      ],
      "metadata": {
        "id": "e2LdH-ppsqV6"
      },
      "execution_count": 5,
      "outputs": []
    },
    {
      "cell_type": "markdown",
      "source": [
        "Проверили снова данные, которых не хватает"
      ],
      "metadata": {
        "id": "et5uI3i0tbZt"
      }
    },
    {
      "cell_type": "code",
      "source": [
        "missing_values_table(train_features)"
      ],
      "metadata": {
        "id": "FhUG39-_tdDW",
        "colab": {
          "base_uri": "https://localhost:8080/",
          "height": 397
        },
        "outputId": "bc319947-72c3-45aa-f356-ed4c0d147a5e"
      },
      "execution_count": 6,
      "outputs": [
        {
          "output_type": "stream",
          "name": "stdout",
          "text": [
            "Your selected dataframe has 64 columns.\n",
            "There are 10 columns that have missing values.\n"
          ]
        },
        {
          "output_type": "execute_result",
          "data": {
            "text/plain": [
              "                                                    Missing Values  \\\n",
              "log_Water Intensity (All Water Sources) (gal/ft²)             2155   \n",
              "Water Intensity (All Water Sources) (gal/ft²)                 2120   \n",
              "Latitude                                                      1252   \n",
              "Longitude                                                     1252   \n",
              "Community Board                                               1252   \n",
              "Census Tract                                                  1252   \n",
              "Weather Normalized Site Natural Gas Intensity (...             973   \n",
              "log_Direct GHG Emissions (Metric Tons CO2e)                    428   \n",
              "Weather Normalized Site Electricity Intensity (...             326   \n",
              "DOF Gross Floor Area                                            32   \n",
              "\n",
              "                                                    % of Total Values  \n",
              "log_Water Intensity (All Water Sources) (gal/ft²)                32.5  \n",
              "Water Intensity (All Water Sources) (gal/ft²)                    32.0  \n",
              "Latitude                                                         18.9  \n",
              "Longitude                                                        18.9  \n",
              "Community Board                                                  18.9  \n",
              "Census Tract                                                     18.9  \n",
              "Weather Normalized Site Natural Gas Intensity (...               14.7  \n",
              "log_Direct GHG Emissions (Metric Tons CO2e)                       6.5  \n",
              "Weather Normalized Site Electricity Intensity (...                4.9  \n",
              "DOF Gross Floor Area                                              0.5  "
            ],
            "text/html": [
              "\n",
              "  <div id=\"df-f1bb6e5e-4b5c-475b-a999-fc88e4a785f5\">\n",
              "    <div class=\"colab-df-container\">\n",
              "      <div>\n",
              "<style scoped>\n",
              "    .dataframe tbody tr th:only-of-type {\n",
              "        vertical-align: middle;\n",
              "    }\n",
              "\n",
              "    .dataframe tbody tr th {\n",
              "        vertical-align: top;\n",
              "    }\n",
              "\n",
              "    .dataframe thead th {\n",
              "        text-align: right;\n",
              "    }\n",
              "</style>\n",
              "<table border=\"1\" class=\"dataframe\">\n",
              "  <thead>\n",
              "    <tr style=\"text-align: right;\">\n",
              "      <th></th>\n",
              "      <th>Missing Values</th>\n",
              "      <th>% of Total Values</th>\n",
              "    </tr>\n",
              "  </thead>\n",
              "  <tbody>\n",
              "    <tr>\n",
              "      <th>log_Water Intensity (All Water Sources) (gal/ft²)</th>\n",
              "      <td>2155</td>\n",
              "      <td>32.5</td>\n",
              "    </tr>\n",
              "    <tr>\n",
              "      <th>Water Intensity (All Water Sources) (gal/ft²)</th>\n",
              "      <td>2120</td>\n",
              "      <td>32.0</td>\n",
              "    </tr>\n",
              "    <tr>\n",
              "      <th>Latitude</th>\n",
              "      <td>1252</td>\n",
              "      <td>18.9</td>\n",
              "    </tr>\n",
              "    <tr>\n",
              "      <th>Longitude</th>\n",
              "      <td>1252</td>\n",
              "      <td>18.9</td>\n",
              "    </tr>\n",
              "    <tr>\n",
              "      <th>Community Board</th>\n",
              "      <td>1252</td>\n",
              "      <td>18.9</td>\n",
              "    </tr>\n",
              "    <tr>\n",
              "      <th>Census Tract</th>\n",
              "      <td>1252</td>\n",
              "      <td>18.9</td>\n",
              "    </tr>\n",
              "    <tr>\n",
              "      <th>Weather Normalized Site Natural Gas Intensity (therms/ft²)</th>\n",
              "      <td>973</td>\n",
              "      <td>14.7</td>\n",
              "    </tr>\n",
              "    <tr>\n",
              "      <th>log_Direct GHG Emissions (Metric Tons CO2e)</th>\n",
              "      <td>428</td>\n",
              "      <td>6.5</td>\n",
              "    </tr>\n",
              "    <tr>\n",
              "      <th>Weather Normalized Site Electricity Intensity (kWh/ft²)</th>\n",
              "      <td>326</td>\n",
              "      <td>4.9</td>\n",
              "    </tr>\n",
              "    <tr>\n",
              "      <th>DOF Gross Floor Area</th>\n",
              "      <td>32</td>\n",
              "      <td>0.5</td>\n",
              "    </tr>\n",
              "  </tbody>\n",
              "</table>\n",
              "</div>\n",
              "      <button class=\"colab-df-convert\" onclick=\"convertToInteractive('df-f1bb6e5e-4b5c-475b-a999-fc88e4a785f5')\"\n",
              "              title=\"Convert this dataframe to an interactive table.\"\n",
              "              style=\"display:none;\">\n",
              "        \n",
              "  <svg xmlns=\"http://www.w3.org/2000/svg\" height=\"24px\"viewBox=\"0 0 24 24\"\n",
              "       width=\"24px\">\n",
              "    <path d=\"M0 0h24v24H0V0z\" fill=\"none\"/>\n",
              "    <path d=\"M18.56 5.44l.94 2.06.94-2.06 2.06-.94-2.06-.94-.94-2.06-.94 2.06-2.06.94zm-11 1L8.5 8.5l.94-2.06 2.06-.94-2.06-.94L8.5 2.5l-.94 2.06-2.06.94zm10 10l.94 2.06.94-2.06 2.06-.94-2.06-.94-.94-2.06-.94 2.06-2.06.94z\"/><path d=\"M17.41 7.96l-1.37-1.37c-.4-.4-.92-.59-1.43-.59-.52 0-1.04.2-1.43.59L10.3 9.45l-7.72 7.72c-.78.78-.78 2.05 0 2.83L4 21.41c.39.39.9.59 1.41.59.51 0 1.02-.2 1.41-.59l7.78-7.78 2.81-2.81c.8-.78.8-2.07 0-2.86zM5.41 20L4 18.59l7.72-7.72 1.47 1.35L5.41 20z\"/>\n",
              "  </svg>\n",
              "      </button>\n",
              "      \n",
              "  <style>\n",
              "    .colab-df-container {\n",
              "      display:flex;\n",
              "      flex-wrap:wrap;\n",
              "      gap: 12px;\n",
              "    }\n",
              "\n",
              "    .colab-df-convert {\n",
              "      background-color: #E8F0FE;\n",
              "      border: none;\n",
              "      border-radius: 50%;\n",
              "      cursor: pointer;\n",
              "      display: none;\n",
              "      fill: #1967D2;\n",
              "      height: 32px;\n",
              "      padding: 0 0 0 0;\n",
              "      width: 32px;\n",
              "    }\n",
              "\n",
              "    .colab-df-convert:hover {\n",
              "      background-color: #E2EBFA;\n",
              "      box-shadow: 0px 1px 2px rgba(60, 64, 67, 0.3), 0px 1px 3px 1px rgba(60, 64, 67, 0.15);\n",
              "      fill: #174EA6;\n",
              "    }\n",
              "\n",
              "    [theme=dark] .colab-df-convert {\n",
              "      background-color: #3B4455;\n",
              "      fill: #D2E3FC;\n",
              "    }\n",
              "\n",
              "    [theme=dark] .colab-df-convert:hover {\n",
              "      background-color: #434B5C;\n",
              "      box-shadow: 0px 1px 3px 1px rgba(0, 0, 0, 0.15);\n",
              "      filter: drop-shadow(0px 1px 2px rgba(0, 0, 0, 0.3));\n",
              "      fill: #FFFFFF;\n",
              "    }\n",
              "  </style>\n",
              "\n",
              "      <script>\n",
              "        const buttonEl =\n",
              "          document.querySelector('#df-f1bb6e5e-4b5c-475b-a999-fc88e4a785f5 button.colab-df-convert');\n",
              "        buttonEl.style.display =\n",
              "          google.colab.kernel.accessAllowed ? 'block' : 'none';\n",
              "\n",
              "        async function convertToInteractive(key) {\n",
              "          const element = document.querySelector('#df-f1bb6e5e-4b5c-475b-a999-fc88e4a785f5');\n",
              "          const dataTable =\n",
              "            await google.colab.kernel.invokeFunction('convertToInteractive',\n",
              "                                                     [key], {});\n",
              "          if (!dataTable) return;\n",
              "\n",
              "          const docLinkHtml = 'Like what you see? Visit the ' +\n",
              "            '<a target=\"_blank\" href=https://colab.research.google.com/notebooks/data_table.ipynb>data table notebook</a>'\n",
              "            + ' to learn more about interactive tables.';\n",
              "          element.innerHTML = '';\n",
              "          dataTable['output_type'] = 'display_data';\n",
              "          await google.colab.output.renderOutput(dataTable, element);\n",
              "          const docLink = document.createElement('div');\n",
              "          docLink.innerHTML = docLinkHtml;\n",
              "          element.appendChild(docLink);\n",
              "        }\n",
              "      </script>\n",
              "    </div>\n",
              "  </div>\n",
              "  "
            ]
          },
          "metadata": {},
          "execution_count": 6
        }
      ]
    },
    {
      "cell_type": "markdown",
      "source": [
        "Посмотрим целевую переменную, которую нужно исследовать Energy Star от колиества построек"
      ],
      "metadata": {
        "id": "Uhj5hguXt1a2"
      }
    },
    {
      "cell_type": "code",
      "source": [
        "figsize(8, 8)\n",
        "plt.style.use('fivethirtyeight')\n",
        "plt.hist(train_labels['score'].dropna(), bins = 100);\n",
        "plt.xlabel('Score'); plt.ylabel('Number of Buildings');\n",
        "plt.title('ENERGY Star Score Distribution');"
      ],
      "metadata": {
        "id": "ubBFOGq8uFzO",
        "colab": {
          "base_uri": "https://localhost:8080/",
          "height": 777
        },
        "outputId": "2440289c-6de9-4b70-ce7c-02cfe9c1fd78"
      },
      "execution_count": 7,
      "outputs": [
        {
          "output_type": "display_data",
          "data": {
            "text/plain": [
              "<Figure size 800x800 with 1 Axes>"
            ],
            "image/png": "[encoded data removed]"
          },
          "metadata": {}
        }
      ]
    },
    {
      "cell_type": "markdown",
      "source": [
        "Стандартные модели машинного обучения не могут работать с пропущенными значениями, а это значит, что мы должны найти способ заполнить их или отбросить любые функции с пропущенными значениями. Поскольку в первой части мы уже удалили объекты с более чем 50% отсутствующими значениями, здесь мы сосредоточимся на заполнении этих отсутствующих значений, процесс, известный как вменение. Мы будем использовать относительно простой метод замены отсутствующих значений медианой столбца."
      ],
      "metadata": {
        "id": "wwdjlJY-us36"
      }
    },
    {
      "cell_type": "markdown",
      "source": [
        "Создаем объект Imputer Scikit-learn, чтобы заполнить пропущенные значения медианой столбца."
      ],
      "metadata": {
        "id": "ZORBG33MvqnB"
      }
    },
    {
      "cell_type": "code",
      "source": [
        "# Create an imputer object with a median filling strategy\n",
        "imputer = SimpleImputer(missing_values=np.nan, strategy='median')\n",
        "\n",
        "# Train on the training features\n",
        "imputer.fit(train_features)\n",
        "\n",
        "# Transform both training data and testing data\n",
        "X = imputer.transform(train_features)\n",
        "X_test = imputer.transform(test_features)"
      ],
      "metadata": {
        "id": "YV2LjQh5v3ET"
      },
      "execution_count": 8,
      "outputs": []
    },
    {
      "cell_type": "markdown",
      "source": [
        "Проверка на количество пропущенных значений"
      ],
      "metadata": {
        "id": "zfzCaboW5Wn6"
      }
    },
    {
      "cell_type": "code",
      "source": [
        "print('Missing values in training features: ', np.sum(np.isnan(X)))\n",
        "print('Missing values in testing features:  ', np.sum(np.isnan(X_test)))"
      ],
      "metadata": {
        "id": "RUA4yTlAwvtt",
        "colab": {
          "base_uri": "https://localhost:8080/"
        },
        "outputId": "9788ba66-3974-48de-bbaa-ef8615eb80ff"
      },
      "execution_count": 9,
      "outputs": [
        {
          "output_type": "stream",
          "name": "stdout",
          "text": [
            "Missing values in training features:  0\n",
            "Missing values in testing features:   0\n"
          ]
        }
      ]
    },
    {
      "cell_type": "markdown",
      "source": [
        "Нужно убедится, то все знаения конечны"
      ],
      "metadata": {
        "id": "is74mbDQ5f3x"
      }
    },
    {
      "cell_type": "code",
      "source": [
        "print(np.where(~np.isfinite(X)))\n",
        "print(np.where(~np.isfinite(X_test)))"
      ],
      "metadata": {
        "id": "FYtCfdVV5i3d",
        "colab": {
          "base_uri": "https://localhost:8080/"
        },
        "outputId": "726c4868-8c7f-4e25-cec3-0bfd49e8d717"
      },
      "execution_count": 10,
      "outputs": [
        {
          "output_type": "stream",
          "name": "stdout",
          "text": [
            "(array([], dtype=int64), array([], dtype=int64))\n",
            "(array([], dtype=int64), array([], dtype=int64))\n"
          ]
        }
      ]
    },
    {
      "cell_type": "markdown",
      "source": [
        "## Масштабирование функций"
      ],
      "metadata": {
        "id": "AVTyAFfi52hW"
      }
    },
    {
      "cell_type": "markdown",
      "source": [
        "Последний шаг, который нужно сделать, прежде чем мы сможем построить наши модели, — масштабировать функции. Это необходимо, потому что функции находятся в разных единицах, и мы хотим нормализовать функции, чтобы единицы не влияли на алгоритм. Линейная регрессия и случайный лес не требуют масштабирования признаков, но другие методы, такие как машины опорных векторов и k ближайших соседей, требуют его, поскольку они учитывают евклидово расстояние между наблюдениями. По этой причине рекомендуется масштабировать функции при сравнении нескольких алгоритмов."
      ],
      "metadata": {
        "id": "99rNOjvD55l9"
      }
    },
    {
      "cell_type": "markdown",
      "source": [
        "Существует два способа масштабирования функций:\n",
        "\n",
        "1. Для каждого значения вычтите среднее значение признака и разделите на стандартное отклонение признака. Это известно как стандартизация и приводит к тому, что каждая функция имеет среднее значение 0 и стандартное отклонение.\n",
        "\n",
        "2. Для каждого значения вычтите минимальное значение функции и разделите на максимальное минус минимальное значение функции (диапазон). Это гарантирует, что все значения функции находятся в диапазоне от 0 до 1, и называется масштабированием до диапазона или нормализацией."
      ],
      "metadata": {
        "id": "oH6ibRdZ6H9p"
      }
    },
    {
      "cell_type": "code",
      "source": [
        "# Create the scaler object with a range of 0-1\n",
        "scaler = MinMaxScaler(feature_range=(0, 1))\n",
        "\n",
        "# Fit on the training data\n",
        "scaler.fit(X)\n",
        "\n",
        "# Transform both the training and testing data\n",
        "X = scaler.transform(X)\n",
        "X_test = scaler.transform(X_test)"
      ],
      "metadata": {
        "id": "RJgzlfd_5jZi"
      },
      "execution_count": 9,
      "outputs": []
    },
    {
      "cell_type": "code",
      "source": [
        "# Convert y to one-dimensional array (vector)\n",
        "y = np.array(train_labels).reshape((-1, ))\n",
        "y_test = np.array(test_labels).reshape((-1, ))"
      ],
      "metadata": {
        "id": "ktUe2GhS6lBW"
      },
      "execution_count": 10,
      "outputs": []
    },
    {
      "cell_type": "markdown",
      "source": [
        "## Модели для оценивания"
      ],
      "metadata": {
        "id": "nA1mgxxm62er"
      }
    },
    {
      "cell_type": "markdown",
      "source": [
        "1. Linear Regression\n",
        "2. Support Vector Machine Regression\n",
        "3. Random Forest Regression\n",
        "4. Gradient Boosting Regression\n",
        "5. K-Nearest Neighbors Regression"
      ],
      "metadata": {
        "id": "bGuj867n66gV"
      }
    },
    {
      "cell_type": "markdown",
      "source": [
        "Сначала мы просто определим базовую производительность каждой модели, а затем мы выберем наиболее эффективную модель для дальнейшей оптимизации с помощью настройки гиперпараметров.Гиперпараметры по умолчанию заставят модель работать, но почти всегда их нужно корректировать с помощью поиска, чтобы найти лучшие настройки для нашей задачи!"
      ],
      "metadata": {
        "id": "3E08Rvin7SzI"
      }
    },
    {
      "cell_type": "markdown",
      "source": [
        "Функция подсчета MAE"
      ],
      "metadata": {
        "id": "umi-YK2b7nEe"
      }
    },
    {
      "cell_type": "code",
      "source": [
        "def mae(y_true, y_pred):\n",
        "    return np.mean(abs(y_true - y_pred))"
      ],
      "metadata": {
        "id": "gzpQrzQm7pwp"
      },
      "execution_count": 11,
      "outputs": []
    },
    {
      "cell_type": "markdown",
      "source": [
        "Функция, которая принимает модель, обуает модель и оценивает на тестовой выборке"
      ],
      "metadata": {
        "id": "CESWk70-7wR-"
      }
    },
    {
      "cell_type": "code",
      "source": [
        "def fit_and_evaluate(model):\n",
        "\n",
        "    # Train the model\n",
        "    model.fit(X, y)\n",
        "\n",
        "    # Make predictions and evalute\n",
        "    model_pred = model.predict(X_test)\n",
        "    model_mae = mae(y_test, model_pred)\n",
        "\n",
        "    # Return the performance metric\n",
        "    return model_mae"
      ],
      "metadata": {
        "id": "SK2lA0Pa7qE8"
      },
      "execution_count": 12,
      "outputs": []
    },
    {
      "cell_type": "markdown",
      "source": [
        "Модель линейной регрессии"
      ],
      "metadata": {
        "id": "f3ig5xFO76fO"
      }
    },
    {
      "cell_type": "code",
      "source": [
        "lr = LinearRegression()\n",
        "lr_mae = fit_and_evaluate(lr)\n",
        "\n",
        "print('Linear Regression Performance on the test set: MAE = %0.4f' % lr_mae)"
      ],
      "metadata": {
        "id": "Ni8NihEp730u",
        "colab": {
          "base_uri": "https://localhost:8080/"
        },
        "outputId": "77b1893c-4eb1-4504-de06-9588756f46d8"
      },
      "execution_count": 15,
      "outputs": [
        {
          "output_type": "stream",
          "name": "stdout",
          "text": [
            "Linear Regression Performance on the test set: MAE = 13.4651\n"
          ]
        }
      ]
    },
    {
      "cell_type": "markdown",
      "source": [
        "Метод опорных векторов SVM"
      ],
      "metadata": {
        "id": "B4BhYqzd8CQG"
      }
    },
    {
      "cell_type": "code",
      "source": [
        "svm = SVR(C = 1000, gamma = 0.1)\n",
        "svm_mae = fit_and_evaluate(svm)\n",
        "\n",
        "print('Support Vector Machine Regression Performance on the test set: MAE = %0.4f' % svm_mae)"
      ],
      "metadata": {
        "id": "0KnzHPQl79oy",
        "colab": {
          "base_uri": "https://localhost:8080/"
        },
        "outputId": "65963482-511a-4835-beb7-36ba3a5f8d6c"
      },
      "execution_count": 16,
      "outputs": [
        {
          "output_type": "stream",
          "name": "stdout",
          "text": [
            "Support Vector Machine Regression Performance on the test set: MAE = 10.9337\n"
          ]
        }
      ]
    },
    {
      "cell_type": "markdown",
      "source": [
        "Метод рандомных лесов random forest"
      ],
      "metadata": {
        "id": "5CiqYEjM8Kxr"
      }
    },
    {
      "cell_type": "code",
      "source": [
        "random_forest = RandomForestRegressor(random_state=60)\n",
        "random_forest_mae = fit_and_evaluate(random_forest)\n",
        "\n",
        "print('Random Forest Regression Performance on the test set: MAE = %0.4f' % random_forest_mae)"
      ],
      "metadata": {
        "id": "gWn6KZRT8Fwm",
        "colab": {
          "base_uri": "https://localhost:8080/"
        },
        "outputId": "6d50fe6f-168f-4754-d8dc-34d61c736453"
      },
      "execution_count": 17,
      "outputs": [
        {
          "output_type": "stream",
          "name": "stdout",
          "text": [
            "Random Forest Regression Performance on the test set: MAE = 9.5231\n"
          ]
        }
      ]
    },
    {
      "cell_type": "markdown",
      "source": [
        "Градиентный бустинг"
      ],
      "metadata": {
        "id": "bXaF8Tju8RIN"
      }
    },
    {
      "cell_type": "code",
      "source": [
        "gradient_boosted = GradientBoostingRegressor(random_state=60)\n",
        "gradient_boosted_mae = fit_and_evaluate(gradient_boosted)\n",
        "\n",
        "print('Gradient Boosted Regression Performance on the test set: MAE = %0.4f' % gradient_boosted_mae)"
      ],
      "metadata": {
        "id": "MKjEOxv_8PM-",
        "colab": {
          "base_uri": "https://localhost:8080/"
        },
        "outputId": "ae214561-1f92-436f-ed30-f615ac9d878b"
      },
      "execution_count": 18,
      "outputs": [
        {
          "output_type": "stream",
          "name": "stdout",
          "text": [
            "Gradient Boosted Regression Performance on the test set: MAE = 10.0116\n"
          ]
        }
      ]
    },
    {
      "cell_type": "markdown",
      "source": [
        "Метод KNN (k-близжайших соседей)"
      ],
      "metadata": {
        "id": "-KSeM_dc8WsB"
      }
    },
    {
      "cell_type": "code",
      "source": [
        "knn = KNeighborsRegressor(n_neighbors=10)\n",
        "knn_mae = fit_and_evaluate(knn)\n",
        "\n",
        "print('K-Nearest Neighbors Regression Performance on the test set: MAE = %0.4f' % knn_mae)"
      ],
      "metadata": {
        "id": "Q9dtyfhI8Tyf",
        "colab": {
          "base_uri": "https://localhost:8080/"
        },
        "outputId": "f27c41b0-dd92-4416-b25b-83ab6166b599"
      },
      "execution_count": 19,
      "outputs": [
        {
          "output_type": "stream",
          "name": "stdout",
          "text": [
            "K-Nearest Neighbors Regression Performance on the test set: MAE = 13.0131\n"
          ]
        }
      ]
    },
    {
      "cell_type": "markdown",
      "source": [
        "Построим график моделей"
      ],
      "metadata": {
        "id": "TbkeIzV38qSl"
      }
    },
    {
      "cell_type": "code",
      "source": [
        "plt.style.use('fivethirtyeight')\n",
        "figsize(8, 6)\n",
        "\n",
        "\n",
        "model_comparison = pd.DataFrame({'model': ['Linear Regression', 'Support Vector Machine',\n",
        "                                           'Random Forest', 'Gradient Boosted',\n",
        "                                            'K-Nearest Neighbors'],\n",
        "                                 'mae': [lr_mae, svm_mae, random_forest_mae,\n",
        "                                         gradient_boosted_mae, knn_mae]})\n",
        "\n",
        "\n",
        "model_comparison.sort_values('mae', ascending = False).plot(x = 'model', y = 'mae', kind = 'barh',\n",
        "                                                           color = 'red', edgecolor = 'black')\n",
        "\n",
        "plt.ylabel(''); plt.yticks(size = 14); plt.xlabel('Mean Absolute Error'); plt.xticks(size = 14)\n",
        "plt.title('Model Comparison on Test MAE', size = 20);"
      ],
      "metadata": {
        "id": "CYbxeKEk8iM9",
        "colab": {
          "base_uri": "https://localhost:8080/",
          "height": 547
        },
        "outputId": "488f0bd9-d5c0-420a-9a52-5674dff84277"
      },
      "execution_count": 20,
      "outputs": [
        {
          "output_type": "display_data",
          "data": {
            "text/plain": [
              "<Figure size 800x600 with 1 Axes>"
            ],
            "image/png": "[encoded data removed]"
          },
          "metadata": {}
        }
      ]
    },
    {
      "cell_type": "markdown",
      "source": [
        "Сравнение не сильно честное, потому что метод рандомного леса и градиентного бустинга не сильно зависит от начальных параметров, поэтому и результаты превосходят."
      ],
      "metadata": {
        "id": "l-o-Jxo09V0P"
      }
    },
    {
      "cell_type": "markdown",
      "source": [
        "Мы будем использовать метод градинтного бустинга. \"**Учитывая полученные здесь результаты, я сосредоточусь на использовании GradientBoostingRegressor. Это реализация Scikit-Learn Gradient Boosted Trees, которая выиграла множество соревнований Kaggle за последние несколько лет. Версия Scikit-Learn, как правило, медленнее, чем версия XGBoost, но здесь мы будем придерживаться Scikit-Learn, потому что синтаксис более знаком.**\""
      ],
      "metadata": {
        "id": "F5uhB4d19jWT"
      }
    },
    {
      "cell_type": "markdown",
      "source": [
        "## Оптимизация модели"
      ],
      "metadata": {
        "id": "Feminxjw90cN"
      }
    },
    {
      "cell_type": "markdown",
      "source": [
        "Сейчас мы будем заниматься поиском наиболее подходящих гиппараметров."
      ],
      "metadata": {
        "id": "YmCP_gnd94dD"
      }
    },
    {
      "cell_type": "markdown",
      "source": [
        "### Гипперпараметры"
      ],
      "metadata": {
        "id": "9-yK3Zel_umG"
      }
    },
    {
      "cell_type": "markdown",
      "source": [
        "Параметры модели — это то, что модель узнает во время обучения, например веса в линейной регрессии.\n",
        "А гипперпараметры - это настройки модели, которые задаются перед запуском, их как раз и настраивает специалист по моделям обуения. Настройка гиперпараметров модели контролирует баланс недостаточной и избыточной подгонки в модели.\n",
        "\n",
        "Подбирать гипперпараметры важно, на каждый набор данных будет разный набор. Этот процесс долгий, поэтому его научились автоматизировать. Есть библиоткеа TPOT. Однако здесь мы будем подбирать вручную."
      ],
      "metadata": {
        "id": "ATMtLCsI-j8R"
      }
    },
    {
      "cell_type": "markdown",
      "source": [
        "### Настройка гиперпараметров со случайным поиском и перекрестной проверкой"
      ],
      "metadata": {
        "id": "K2TO6H07_2yx"
      }
    },
    {
      "cell_type": "markdown",
      "source": [
        "Случайный поиск относится к методу, в котором мы выбираем гиперпараметры для оценки: мы определяем диапазон параметров, а затем случайным образом выбираем комбинации для проверки\n",
        "Перекрестная проверка — это метод, используемый для оценки производительности гиперпараметров."
      ],
      "metadata": {
        "id": "99JdNUQ2AGln"
      }
    },
    {
      "cell_type": "markdown",
      "source": [
        "Сначала создаем сетку гипперпараметров, которые могут быт использованы, затем выполняем итеративный процесс: случайным образом выбираем набор гиперпараметров из сетки, оцениваем гиперпараметры с помощью 4-кратной перекрестной проверки, а затем выбираем гиперпараметры с наилучшей производительностью."
      ],
      "metadata": {
        "id": "XpHvquxnA1HY"
      }
    },
    {
      "cell_type": "code",
      "source": [
        "# Loss function to be optimized\n",
        "loss = ['ls', 'lad', 'huber']\n",
        "\n",
        "# Number of trees used in the boosting process\n",
        "n_estimators = [100, 500, 900, 1100, 1500]\n",
        "\n",
        "# Maximum depth of each tree\n",
        "max_depth = [2, 3, 5, 10, 15]\n",
        "\n",
        "# Minimum number of samples per leaf\n",
        "min_samples_leaf = [1, 2, 4, 6, 8]\n",
        "\n",
        "# Minimum number of samples to split a node\n",
        "min_samples_split = [2, 4, 6, 10]\n",
        "\n",
        "# Maximum number of features to consider for making splits\n",
        "max_features = ['auto', 'sqrt', 'log2', None]\n",
        "\n",
        "# Define the grid of hyperparameters to search\n",
        "hyperparameter_grid = {'loss': loss,\n",
        "                       'n_estimators': n_estimators,\n",
        "                       'max_depth': max_depth,\n",
        "                       'min_samples_leaf': min_samples_leaf,\n",
        "                       'min_samples_split': min_samples_split,\n",
        "                       'max_features': max_features}"
      ],
      "metadata": {
        "id": "D4wWgUSz80c-"
      },
      "execution_count": 21,
      "outputs": []
    },
    {
      "cell_type": "markdown",
      "source": [
        "Мы выбрали 6 различных гиперпараметров для настройки регрессора, повышающего градиент. Все они будут влиять на модель различными способами, которые трудно определить заранее, и единственный способ найти наилучшую комбинацию для конкретной проблемы — это проверить их. Потому что нет теории, которая могла бы сказать нам, какие из них будут работать лучше всего, нам просто нужно их оценить, как в эксперименте!\n",
        "\n",
        "RandomizedSearchCV найдет за нас наилучший набор по данной сетке"
      ],
      "metadata": {
        "id": "lxQCZa4cBS57"
      }
    },
    {
      "cell_type": "markdown",
      "source": [
        "*   оценщик: модель\n",
        "*   param_distributions: распределение параметров, которое мы определили\n",
        "*   cv : количество кратностей, используемых для k-кратной перекрестной проверки\n",
        "*   n_iter: количество различных комбинаций, которые нужно попробовать\n",
        "*   оценка: какую метрику использовать при оценке кандидатов\n",
        "*   n_jobs: количество ядер для параллельного запуска (-1 будет использовать все доступные)\n",
        "*   verbose: сколько информации отображать (1 отображает ограниченное количество)\n",
        "*   return_train_score: возвращает оценку обучения для каждой складки перекрестной проверки.\n",
        "*   random_state: исправляет используемый генератор случайных чисел, поэтому мы получаем одинаковые результаты при каждом запуске."
      ],
      "metadata": {
        "id": "6LXsUCKfByND"
      }
    },
    {
      "cell_type": "markdown",
      "source": [],
      "metadata": {
        "id": "tl_JKC8SCOiI"
      }
    },
    {
      "cell_type": "markdown",
      "source": [
        "RandomizedSearchCV обучается как и все модели"
      ],
      "metadata": {
        "id": "pFNrdf5RCPoY"
      }
    },
    {
      "cell_type": "code",
      "source": [
        "# Create the model to use for hyperparameter tuning\n",
        "model = GradientBoostingRegressor(random_state = 42)\n",
        "\n",
        "# Set up the random search with 4-fold cross validation\n",
        "random_cv = RandomizedSearchCV(estimator=model,\n",
        "                               param_distributions=hyperparameter_grid,\n",
        "                               cv=4, n_iter=25,\n",
        "                               scoring = 'neg_mean_absolute_error',\n",
        "                               n_jobs = -1, verbose = 1,\n",
        "                               return_train_score = True,\n",
        "                               random_state=42)"
      ],
      "metadata": {
        "id": "MyHZdepOCFWG"
      },
      "execution_count": 22,
      "outputs": []
    },
    {
      "cell_type": "code",
      "source": [
        "\n",
        "# Fit on the training data\n",
        "random_cv.fit(X, y)"
      ],
      "metadata": {
        "id": "T5fn68pACI5f",
        "colab": {
          "base_uri": "https://localhost:8080/",
          "height": 1000
        },
        "outputId": "7537ae56-8847-41d3-a76c-df43b75b5e6b"
      },
      "execution_count": 23,
      "outputs": [
        {
          "output_type": "stream",
          "name": "stdout",
          "text": [
            "Fitting 4 folds for each of 25 candidates, totalling 100 fits\n"
          ]
        },
        {
          "output_type": "stream",
          "name": "stderr",
          "text": [
            "/usr/local/lib/python3.10/dist-packages/sklearn/model_selection/_validation.py:378: FitFailedWarning: \n",
            "56 fits failed out of a total of 100.\n",
            "The score on these train-test partitions for these parameters will be set to nan.\n",
            "If these failures are not expected, you can try to debug them by setting error_score='raise'.\n",
            "\n",
            "Below are more details about the failures:\n",
            "--------------------------------------------------------------------------------\n",
            "6 fits failed with the following error:\n",
            "Traceback (most recent call last):\n",
            "  File \"/usr/local/lib/python3.10/dist-packages/sklearn/model_selection/_validation.py\", line 686, in _fit_and_score\n",
            "    estimator.fit(X_train, y_train, **fit_params)\n",
            "  File \"/usr/local/lib/python3.10/dist-packages/sklearn/ensemble/_gb.py\", line 420, in fit\n",
            "    self._validate_params()\n",
            "  File \"/usr/local/lib/python3.10/dist-packages/sklearn/base.py\", line 600, in _validate_params\n",
            "    validate_parameter_constraints(\n",
            "  File \"/usr/local/lib/python3.10/dist-packages/sklearn/utils/_param_validation.py\", line 97, in validate_parameter_constraints\n",
            "    raise InvalidParameterError(\n",
            "sklearn.utils._param_validation.InvalidParameterError: The 'loss' parameter of GradientBoostingRegressor must be a str among {'squared_error', 'huber', 'quantile', 'absolute_error'}. Got 'ls' instead.\n",
            "\n",
            "--------------------------------------------------------------------------------\n",
            "18 fits failed with the following error:\n",
            "Traceback (most recent call last):\n",
            "  File \"/usr/local/lib/python3.10/dist-packages/sklearn/model_selection/_validation.py\", line 686, in _fit_and_score\n",
            "    estimator.fit(X_train, y_train, **fit_params)\n",
            "  File \"/usr/local/lib/python3.10/dist-packages/sklearn/ensemble/_gb.py\", line 420, in fit\n",
            "    self._validate_params()\n",
            "  File \"/usr/local/lib/python3.10/dist-packages/sklearn/base.py\", line 600, in _validate_params\n",
            "    validate_parameter_constraints(\n",
            "  File \"/usr/local/lib/python3.10/dist-packages/sklearn/utils/_param_validation.py\", line 97, in validate_parameter_constraints\n",
            "    raise InvalidParameterError(\n",
            "sklearn.utils._param_validation.InvalidParameterError: The 'loss' parameter of GradientBoostingRegressor must be a str among {'absolute_error', 'squared_error', 'huber', 'quantile'}. Got 'ls' instead.\n",
            "\n",
            "--------------------------------------------------------------------------------\n",
            "12 fits failed with the following error:\n",
            "Traceback (most recent call last):\n",
            "  File \"/usr/local/lib/python3.10/dist-packages/sklearn/model_selection/_validation.py\", line 686, in _fit_and_score\n",
            "    estimator.fit(X_train, y_train, **fit_params)\n",
            "  File \"/usr/local/lib/python3.10/dist-packages/sklearn/ensemble/_gb.py\", line 420, in fit\n",
            "    self._validate_params()\n",
            "  File \"/usr/local/lib/python3.10/dist-packages/sklearn/base.py\", line 600, in _validate_params\n",
            "    validate_parameter_constraints(\n",
            "  File \"/usr/local/lib/python3.10/dist-packages/sklearn/utils/_param_validation.py\", line 97, in validate_parameter_constraints\n",
            "    raise InvalidParameterError(\n",
            "sklearn.utils._param_validation.InvalidParameterError: The 'loss' parameter of GradientBoostingRegressor must be a str among {'squared_error', 'huber', 'quantile', 'absolute_error'}. Got 'lad' instead.\n",
            "\n",
            "--------------------------------------------------------------------------------\n",
            "20 fits failed with the following error:\n",
            "Traceback (most recent call last):\n",
            "  File \"/usr/local/lib/python3.10/dist-packages/sklearn/model_selection/_validation.py\", line 686, in _fit_and_score\n",
            "    estimator.fit(X_train, y_train, **fit_params)\n",
            "  File \"/usr/local/lib/python3.10/dist-packages/sklearn/ensemble/_gb.py\", line 420, in fit\n",
            "    self._validate_params()\n",
            "  File \"/usr/local/lib/python3.10/dist-packages/sklearn/base.py\", line 600, in _validate_params\n",
            "    validate_parameter_constraints(\n",
            "  File \"/usr/local/lib/python3.10/dist-packages/sklearn/utils/_param_validation.py\", line 97, in validate_parameter_constraints\n",
            "    raise InvalidParameterError(\n",
            "sklearn.utils._param_validation.InvalidParameterError: The 'loss' parameter of GradientBoostingRegressor must be a str among {'absolute_error', 'squared_error', 'huber', 'quantile'}. Got 'lad' instead.\n",
            "\n",
            "  warnings.warn(some_fits_failed_message, FitFailedWarning)\n",
            "/usr/local/lib/python3.10/dist-packages/sklearn/model_selection/_search.py:952: UserWarning: One or more of the test scores are non-finite: [         nan  -9.64124233  -9.3777932   -9.04207431          nan\n",
            "          nan -10.30289104          nan  -9.77616549  -9.18680544\n",
            "  -9.36963339          nan          nan          nan          nan\n",
            "          nan          nan          nan  -9.98153933          nan\n",
            "  -9.77737806  -9.45328181          nan -11.34750616          nan]\n",
            "  warnings.warn(\n",
            "/usr/local/lib/python3.10/dist-packages/sklearn/model_selection/_search.py:952: UserWarning: One or more of the train scores are non-finite: [            nan -5.19193445e+00 -1.60733582e-01 -4.44082043e+00\n",
            "             nan             nan -4.65781009e-02             nan\n",
            " -1.68745678e-01 -6.97672874e+00 -4.00079422e-01             nan\n",
            "             nan             nan             nan             nan\n",
            "             nan             nan -2.54740123e-03             nan\n",
            " -3.38759467e-01 -5.67842513e+00             nan -1.06061872e+01\n",
            "             nan]\n",
            "  warnings.warn(\n"
          ]
        },
        {
          "output_type": "execute_result",
          "data": {
            "text/plain": [
              "RandomizedSearchCV(cv=4, estimator=GradientBoostingRegressor(random_state=42),\n",
              "                   n_iter=25, n_jobs=-1,\n",
              "                   param_distributions={'loss': ['ls', 'lad', 'huber'],\n",
              "                                        'max_depth': [2, 3, 5, 10, 15],\n",
              "                                        'max_features': ['auto', 'sqrt', 'log2',\n",
              "                                                         None],\n",
              "                                        'min_samples_leaf': [1, 2, 4, 6, 8],\n",
              "                                        'min_samples_split': [2, 4, 6, 10],\n",
              "                                        'n_estimators': [100, 500, 900, 1100,\n",
              "                                                         1500]},\n",
              "                   random_state=42, return_train_score=True,\n",
              "                   scoring='neg_mean_absolute_error', verbose=1)"
            ],
            "text/html": [
              "<style>#sk-container-id-1 {color: black;background-color: white;}#sk-container-id-1 pre{padding: 0;}#sk-container-id-1 div.sk-toggleable {background-color: white;}#sk-container-id-1 label.sk-toggleable__label {cursor: pointer;display: block;width: 100%;margin-bottom: 0;padding: 0.3em;box-sizing: border-box;text-align: center;}#sk-container-id-1 label.sk-toggleable__label-arrow:before {content: \"▸\";float: left;margin-right: 0.25em;color: #696969;}#sk-container-id-1 label.sk-toggleable__label-arrow:hover:before {color: black;}#sk-container-id-1 div.sk-estimator:hover label.sk-toggleable__label-arrow:before {color: black;}#sk-container-id-1 div.sk-toggleable__content {max-height: 0;max-width: 0;overflow: hidden;text-align: left;background-color: #f0f8ff;}#sk-container-id-1 div.sk-toggleable__content pre {margin: 0.2em;color: black;border-radius: 0.25em;background-color: #f0f8ff;}#sk-container-id-1 input.sk-toggleable__control:checked~div.sk-toggleable__content {max-height: 200px;max-width: 100%;overflow: auto;}#sk-container-id-1 input.sk-toggleable__control:checked~label.sk-toggleable__label-arrow:before {content: \"▾\";}#sk-container-id-1 div.sk-estimator input.sk-toggleable__control:checked~label.sk-toggleable__label {background-color: #d4ebff;}#sk-container-id-1 div.sk-label input.sk-toggleable__control:checked~label.sk-toggleable__label {background-color: #d4ebff;}#sk-container-id-1 input.sk-hidden--visually {border: 0;clip: rect(1px 1px 1px 1px);clip: rect(1px, 1px, 1px, 1px);height: 1px;margin: -1px;overflow: hidden;padding: 0;position: absolute;width: 1px;}#sk-container-id-1 div.sk-estimator {font-family: monospace;background-color: #f0f8ff;border: 1px dotted black;border-radius: 0.25em;box-sizing: border-box;margin-bottom: 0.5em;}#sk-container-id-1 div.sk-estimator:hover {background-color: #d4ebff;}#sk-container-id-1 div.sk-parallel-item::after {content: \"\";width: 100%;border-bottom: 1px solid gray;flex-grow: 1;}#sk-container-id-1 div.sk-label:hover label.sk-toggleable__label {background-color: #d4ebff;}#sk-container-id-1 div.sk-serial::before {content: \"\";position: absolute;border-left: 1px solid gray;box-sizing: border-box;top: 0;bottom: 0;left: 50%;z-index: 0;}#sk-container-id-1 div.sk-serial {display: flex;flex-direction: column;align-items: center;background-color: white;padding-right: 0.2em;padding-left: 0.2em;position: relative;}#sk-container-id-1 div.sk-item {position: relative;z-index: 1;}#sk-container-id-1 div.sk-parallel {display: flex;align-items: stretch;justify-content: center;background-color: white;position: relative;}#sk-container-id-1 div.sk-item::before, #sk-container-id-1 div.sk-parallel-item::before {content: \"\";position: absolute;border-left: 1px solid gray;box-sizing: border-box;top: 0;bottom: 0;left: 50%;z-index: -1;}#sk-container-id-1 div.sk-parallel-item {display: flex;flex-direction: column;z-index: 1;position: relative;background-color: white;}#sk-container-id-1 div.sk-parallel-item:first-child::after {align-self: flex-end;width: 50%;}#sk-container-id-1 div.sk-parallel-item:last-child::after {align-self: flex-start;width: 50%;}#sk-container-id-1 div.sk-parallel-item:only-child::after {width: 0;}#sk-container-id-1 div.sk-dashed-wrapped {border: 1px dashed gray;margin: 0 0.4em 0.5em 0.4em;box-sizing: border-box;padding-bottom: 0.4em;background-color: white;}#sk-container-id-1 div.sk-label label {font-family: monospace;font-weight: bold;display: inline-block;line-height: 1.2em;}#sk-container-id-1 div.sk-label-container {text-align: center;}#sk-container-id-1 div.sk-container {/* jupyter's `normalize.less` sets `[hidden] { display: none; }` but bootstrap.min.css set `[hidden] { display: none !important; }` so we also need the `!important` here to be able to override the default hidden behavior on the sphinx rendered scikit-learn.org. See: https://github.com/scikit-learn/scikit-learn/issues/21755 */display: inline-block !important;position: relative;}#sk-container-id-1 div.sk-text-repr-fallback {display: none;}</style><div id=\"sk-container-id-1\" class=\"sk-top-container\"><div class=\"sk-text-repr-fallback\"><pre>RandomizedSearchCV(cv=4, estimator=GradientBoostingRegressor(random_state=42),\n",
              "                   n_iter=25, n_jobs=-1,\n",
              "                   param_distributions={&#x27;loss&#x27;: [&#x27;ls&#x27;, &#x27;lad&#x27;, &#x27;huber&#x27;],\n",
              "                                        &#x27;max_depth&#x27;: [2, 3, 5, 10, 15],\n",
              "                                        &#x27;max_features&#x27;: [&#x27;auto&#x27;, &#x27;sqrt&#x27;, &#x27;log2&#x27;,\n",
              "                                                         None],\n",
              "                                        &#x27;min_samples_leaf&#x27;: [1, 2, 4, 6, 8],\n",
              "                                        &#x27;min_samples_split&#x27;: [2, 4, 6, 10],\n",
              "                                        &#x27;n_estimators&#x27;: [100, 500, 900, 1100,\n",
              "                                                         1500]},\n",
              "                   random_state=42, return_train_score=True,\n",
              "                   scoring=&#x27;neg_mean_absolute_error&#x27;, verbose=1)</pre><b>In a Jupyter environment, please rerun this cell to show the HTML representation or trust the notebook. <br />On GitHub, the HTML representation is unable to render, please try loading this page with nbviewer.org.</b></div><div class=\"sk-container\" hidden><div class=\"sk-item sk-dashed-wrapped\"><div class=\"sk-label-container\"><div class=\"sk-label sk-toggleable\"><input class=\"sk-toggleable__control sk-hidden--visually\" id=\"sk-estimator-id-1\" type=\"checkbox\" ><label for=\"sk-estimator-id-1\" class=\"sk-toggleable__label sk-toggleable__label-arrow\">RandomizedSearchCV</label><div class=\"sk-toggleable__content\"><pre>RandomizedSearchCV(cv=4, estimator=GradientBoostingRegressor(random_state=42),\n",
              "                   n_iter=25, n_jobs=-1,\n",
              "                   param_distributions={&#x27;loss&#x27;: [&#x27;ls&#x27;, &#x27;lad&#x27;, &#x27;huber&#x27;],\n",
              "                                        &#x27;max_depth&#x27;: [2, 3, 5, 10, 15],\n",
              "                                        &#x27;max_features&#x27;: [&#x27;auto&#x27;, &#x27;sqrt&#x27;, &#x27;log2&#x27;,\n",
              "                                                         None],\n",
              "                                        &#x27;min_samples_leaf&#x27;: [1, 2, 4, 6, 8],\n",
              "                                        &#x27;min_samples_split&#x27;: [2, 4, 6, 10],\n",
              "                                        &#x27;n_estimators&#x27;: [100, 500, 900, 1100,\n",
              "                                                         1500]},\n",
              "                   random_state=42, return_train_score=True,\n",
              "                   scoring=&#x27;neg_mean_absolute_error&#x27;, verbose=1)</pre></div></div></div><div class=\"sk-parallel\"><div class=\"sk-parallel-item\"><div class=\"sk-item\"><div class=\"sk-label-container\"><div class=\"sk-label sk-toggleable\"><input class=\"sk-toggleable__control sk-hidden--visually\" id=\"sk-estimator-id-2\" type=\"checkbox\" ><label for=\"sk-estimator-id-2\" class=\"sk-toggleable__label sk-toggleable__label-arrow\">estimator: GradientBoostingRegressor</label><div class=\"sk-toggleable__content\"><pre>GradientBoostingRegressor(random_state=42)</pre></div></div></div><div class=\"sk-serial\"><div class=\"sk-item\"><div class=\"sk-estimator sk-toggleable\"><input class=\"sk-toggleable__control sk-hidden--visually\" id=\"sk-estimator-id-3\" type=\"checkbox\" ><label for=\"sk-estimator-id-3\" class=\"sk-toggleable__label sk-toggleable__label-arrow\">GradientBoostingRegressor</label><div class=\"sk-toggleable__content\"><pre>GradientBoostingRegressor(random_state=42)</pre></div></div></div></div></div></div></div></div></div></div>"
            ]
          },
          "metadata": {},
          "execution_count": 23
        }
      ]
    },
    {
      "cell_type": "markdown",
      "source": [
        "Мы можем получить результаты рандомизированного поиска в фрейме данных и отсортировать значения по производительности."
      ],
      "metadata": {
        "id": "qmrwXcGTCk_v"
      }
    },
    {
      "cell_type": "code",
      "source": [
        "random_results = pd.DataFrame(random_cv.cv_results_).sort_values('mean_test_score', ascending = False)\n",
        "\n",
        "random_results.head(10)"
      ],
      "metadata": {
        "id": "WgcBbIxZCnTn",
        "colab": {
          "base_uri": "https://localhost:8080/",
          "height": 947
        },
        "outputId": "0fab35cc-55d9-46a6-ab98-b997588cc821"
      },
      "execution_count": 24,
      "outputs": [
        {
          "output_type": "execute_result",
          "data": {
            "text/plain": [
              "    mean_fit_time  std_fit_time  mean_score_time  std_score_time  \\\n",
              "3       28.510570      0.168819         0.021009        0.000495   \n",
              "9       18.061206      0.537665         0.019563        0.006985   \n",
              "10     134.986434      1.727136         0.107466        0.039885   \n",
              "2       82.625786      1.396269         0.047763        0.001399   \n",
              "21       8.983834      0.723275         0.029258        0.009339   \n",
              "1        4.866566      0.105734         0.013598        0.004241   \n",
              "8      120.017798      1.580058         0.197046        0.059702   \n",
              "20      47.847750      0.993560         0.069717        0.017914   \n",
              "18     158.783001      2.303685         0.120908        0.038355   \n",
              "6      262.286267      6.344749         0.292318        0.089704   \n",
              "\n",
              "   param_n_estimators param_min_samples_split param_min_samples_leaf  \\\n",
              "3                 500                       6                      8   \n",
              "9                 500                       4                      2   \n",
              "10               1100                      10                      6   \n",
              "2                 500                       4                      2   \n",
              "21                500                       6                      4   \n",
              "1                 100                       6                      8   \n",
              "8                1500                       6                      2   \n",
              "20                500                       6                      1   \n",
              "18                500                       6                      1   \n",
              "6                1500                       6                      2   \n",
              "\n",
              "   param_max_features param_max_depth param_loss  \\\n",
              "3                None               5      huber   \n",
              "9                auto               3      huber   \n",
              "10               None              10      huber   \n",
              "2                auto              10      huber   \n",
              "21               log2               5      huber   \n",
              "1                sqrt              10      huber   \n",
              "8                sqrt              10      huber   \n",
              "20               sqrt              10      huber   \n",
              "18               auto              15      huber   \n",
              "6                sqrt              15      huber   \n",
              "\n",
              "                                               params  split0_test_score  \\\n",
              "3   {'n_estimators': 500, 'min_samples_split': 6, ...          -8.872066   \n",
              "9   {'n_estimators': 500, 'min_samples_split': 4, ...          -9.062882   \n",
              "10  {'n_estimators': 1100, 'min_samples_split': 10...          -9.193406   \n",
              "2   {'n_estimators': 500, 'min_samples_split': 4, ...          -9.333559   \n",
              "21  {'n_estimators': 500, 'min_samples_split': 6, ...          -9.365194   \n",
              "1   {'n_estimators': 100, 'min_samples_split': 6, ...          -9.654491   \n",
              "8   {'n_estimators': 1500, 'min_samples_split': 6,...          -9.630076   \n",
              "20  {'n_estimators': 500, 'min_samples_split': 6, ...          -9.638482   \n",
              "18  {'n_estimators': 500, 'min_samples_split': 6, ...         -10.075558   \n",
              "6   {'n_estimators': 1500, 'min_samples_split': 6,...         -10.192961   \n",
              "\n",
              "    split1_test_score  split2_test_score  split3_test_score  mean_test_score  \\\n",
              "3           -8.904065          -9.317120          -9.075047        -9.042074   \n",
              "9           -9.043722          -9.442664          -9.197954        -9.186805   \n",
              "10          -9.254552          -9.565642          -9.464933        -9.369633   \n",
              "2           -9.249347          -9.599790          -9.328477        -9.377793   \n",
              "21          -9.286988          -9.751767          -9.409179        -9.453282   \n",
              "1           -9.563284          -9.760660          -9.586534        -9.641242   \n",
              "8           -9.751876          -9.864687          -9.858023        -9.776165   \n",
              "20          -9.814223          -9.977284          -9.679523        -9.777378   \n",
              "18          -9.962943          -9.872734         -10.014923        -9.981539   \n",
              "6          -10.142236         -10.379401         -10.496965       -10.302891   \n",
              "\n",
              "    std_test_score  rank_test_score  split0_train_score  split1_train_score  \\\n",
              "3         0.176555                1           -4.384343           -4.326121   \n",
              "9         0.159231                2           -6.955777           -7.088986   \n",
              "10        0.151493                3           -0.376942           -0.419973   \n",
              "2         0.132448                4           -0.167582           -0.180290   \n",
              "21        0.177800                5           -5.733003           -5.742441   \n",
              "1         0.076659                6           -5.115850           -5.197363   \n",
              "8         0.095484                7           -0.170151           -0.165999   \n",
              "20        0.132465                8           -0.337679           -0.349448   \n",
              "18        0.074395                9           -0.002302           -0.002840   \n",
              "6         0.142665               10           -0.045627           -0.050662   \n",
              "\n",
              "    split2_train_score  split3_train_score  mean_train_score  std_train_score  \n",
              "3            -4.823009           -4.229809         -4.440820         0.227453  \n",
              "9            -6.913108           -6.949044         -6.976729         0.066811  \n",
              "10           -0.417745           -0.385657         -0.400079         0.019047  \n",
              "2            -0.155735           -0.139327         -0.160734         0.015104  \n",
              "21           -5.571781           -5.666476         -5.678425         0.068177  \n",
              "1            -5.223395           -5.231130         -5.191934         0.045674  \n",
              "8            -0.176790           -0.162043         -0.168746         0.005458  \n",
              "20           -0.353501           -0.314410         -0.338759         0.015212  \n",
              "18           -0.002414           -0.002634         -0.002547         0.000207  \n",
              "6            -0.049548           -0.040476         -0.046578         0.003989  "
            ],
            "text/html": [
              "\n",
              "  <div id=\"df-2a54ec8c-0c5c-4fb3-ae1b-a91294ed0166\">\n",
              "    <div class=\"colab-df-container\">\n",
              "      <div>\n",
              "<style scoped>\n",
              "    .dataframe tbody tr th:only-of-type {\n",
              "        vertical-align: middle;\n",
              "    }\n",
              "\n",
              "    .dataframe tbody tr th {\n",
              "        vertical-align: top;\n",
              "    }\n",
              "\n",
              "    .dataframe thead th {\n",
              "        text-align: right;\n",
              "    }\n",
              "</style>\n",
              "<table border=\"1\" class=\"dataframe\">\n",
              "  <thead>\n",
              "    <tr style=\"text-align: right;\">\n",
              "      <th></th>\n",
              "      <th>mean_fit_time</th>\n",
              "      <th>std_fit_time</th>\n",
              "      <th>mean_score_time</th>\n",
              "      <th>std_score_time</th>\n",
              "      <th>param_n_estimators</th>\n",
              "      <th>param_min_samples_split</th>\n",
              "      <th>param_min_samples_leaf</th>\n",
              "      <th>param_max_features</th>\n",
              "      <th>param_max_depth</th>\n",
              "      <th>param_loss</th>\n",
              "      <th>params</th>\n",
              "      <th>split0_test_score</th>\n",
              "      <th>split1_test_score</th>\n",
              "      <th>split2_test_score</th>\n",
              "      <th>split3_test_score</th>\n",
              "      <th>mean_test_score</th>\n",
              "      <th>std_test_score</th>\n",
              "      <th>rank_test_score</th>\n",
              "      <th>split0_train_score</th>\n",
              "      <th>split1_train_score</th>\n",
              "      <th>split2_train_score</th>\n",
              "      <th>split3_train_score</th>\n",
              "      <th>mean_train_score</th>\n",
              "      <th>std_train_score</th>\n",
              "    </tr>\n",
              "  </thead>\n",
              "  <tbody>\n",
              "    <tr>\n",
              "      <th>3</th>\n",
              "      <td>28.510570</td>\n",
              "      <td>0.168819</td>\n",
              "      <td>0.021009</td>\n",
              "      <td>0.000495</td>\n",
              "      <td>500</td>\n",
              "      <td>6</td>\n",
              "      <td>8</td>\n",
              "      <td>None</td>\n",
              "      <td>5</td>\n",
              "      <td>huber</td>\n",
              "      <td>{'n_estimators': 500, 'min_samples_split': 6, ...</td>\n",
              "      <td>-8.872066</td>\n",
              "      <td>-8.904065</td>\n",
              "      <td>-9.317120</td>\n",
              "      <td>-9.075047</td>\n",
              "      <td>-9.042074</td>\n",
              "      <td>0.176555</td>\n",
              "      <td>1</td>\n",
              "      <td>-4.384343</td>\n",
              "      <td>-4.326121</td>\n",
              "      <td>-4.823009</td>\n",
              "      <td>-4.229809</td>\n",
              "      <td>-4.440820</td>\n",
              "      <td>0.227453</td>\n",
              "    </tr>\n",
              "    <tr>\n",
              "      <th>9</th>\n",
              "      <td>18.061206</td>\n",
              "      <td>0.537665</td>\n",
              "      <td>0.019563</td>\n",
              "      <td>0.006985</td>\n",
              "      <td>500</td>\n",
              "      <td>4</td>\n",
              "      <td>2</td>\n",
              "      <td>auto</td>\n",
              "      <td>3</td>\n",
              "      <td>huber</td>\n",
              "      <td>{'n_estimators': 500, 'min_samples_split': 4, ...</td>\n",
              "      <td>-9.062882</td>\n",
              "      <td>-9.043722</td>\n",
              "      <td>-9.442664</td>\n",
              "      <td>-9.197954</td>\n",
              "      <td>-9.186805</td>\n",
              "      <td>0.159231</td>\n",
              "      <td>2</td>\n",
              "      <td>-6.955777</td>\n",
              "      <td>-7.088986</td>\n",
              "      <td>-6.913108</td>\n",
              "      <td>-6.949044</td>\n",
              "      <td>-6.976729</td>\n",
              "      <td>0.066811</td>\n",
              "    </tr>\n",
              "    <tr>\n",
              "      <th>10</th>\n",
              "      <td>134.986434</td>\n",
              "      <td>1.727136</td>\n",
              "      <td>0.107466</td>\n",
              "      <td>0.039885</td>\n",
              "      <td>1100</td>\n",
              "      <td>10</td>\n",
              "      <td>6</td>\n",
              "      <td>None</td>\n",
              "      <td>10</td>\n",
              "      <td>huber</td>\n",
              "      <td>{'n_estimators': 1100, 'min_samples_split': 10...</td>\n",
              "      <td>-9.193406</td>\n",
              "      <td>-9.254552</td>\n",
              "      <td>-9.565642</td>\n",
              "      <td>-9.464933</td>\n",
              "      <td>-9.369633</td>\n",
              "      <td>0.151493</td>\n",
              "      <td>3</td>\n",
              "      <td>-0.376942</td>\n",
              "      <td>-0.419973</td>\n",
              "      <td>-0.417745</td>\n",
              "      <td>-0.385657</td>\n",
              "      <td>-0.400079</td>\n",
              "      <td>0.019047</td>\n",
              "    </tr>\n",
              "    <tr>\n",
              "      <th>2</th>\n",
              "      <td>82.625786</td>\n",
              "      <td>1.396269</td>\n",
              "      <td>0.047763</td>\n",
              "      <td>0.001399</td>\n",
              "      <td>500</td>\n",
              "      <td>4</td>\n",
              "      <td>2</td>\n",
              "      <td>auto</td>\n",
              "      <td>10</td>\n",
              "      <td>huber</td>\n",
              "      <td>{'n_estimators': 500, 'min_samples_split': 4, ...</td>\n",
              "      <td>-9.333559</td>\n",
              "      <td>-9.249347</td>\n",
              "      <td>-9.599790</td>\n",
              "      <td>-9.328477</td>\n",
              "      <td>-9.377793</td>\n",
              "      <td>0.132448</td>\n",
              "      <td>4</td>\n",
              "      <td>-0.167582</td>\n",
              "      <td>-0.180290</td>\n",
              "      <td>-0.155735</td>\n",
              "      <td>-0.139327</td>\n",
              "      <td>-0.160734</td>\n",
              "      <td>0.015104</td>\n",
              "    </tr>\n",
              "    <tr>\n",
              "      <th>21</th>\n",
              "      <td>8.983834</td>\n",
              "      <td>0.723275</td>\n",
              "      <td>0.029258</td>\n",
              "      <td>0.009339</td>\n",
              "      <td>500</td>\n",
              "      <td>6</td>\n",
              "      <td>4</td>\n",
              "      <td>log2</td>\n",
              "      <td>5</td>\n",
              "      <td>huber</td>\n",
              "      <td>{'n_estimators': 500, 'min_samples_split': 6, ...</td>\n",
              "      <td>-9.365194</td>\n",
              "      <td>-9.286988</td>\n",
              "      <td>-9.751767</td>\n",
              "      <td>-9.409179</td>\n",
              "      <td>-9.453282</td>\n",
              "      <td>0.177800</td>\n",
              "      <td>5</td>\n",
              "      <td>-5.733003</td>\n",
              "      <td>-5.742441</td>\n",
              "      <td>-5.571781</td>\n",
              "      <td>-5.666476</td>\n",
              "      <td>-5.678425</td>\n",
              "      <td>0.068177</td>\n",
              "    </tr>\n",
              "    <tr>\n",
              "      <th>1</th>\n",
              "      <td>4.866566</td>\n",
              "      <td>0.105734</td>\n",
              "      <td>0.013598</td>\n",
              "      <td>0.004241</td>\n",
              "      <td>100</td>\n",
              "      <td>6</td>\n",
              "      <td>8</td>\n",
              "      <td>sqrt</td>\n",
              "      <td>10</td>\n",
              "      <td>huber</td>\n",
              "      <td>{'n_estimators': 100, 'min_samples_split': 6, ...</td>\n",
              "      <td>-9.654491</td>\n",
              "      <td>-9.563284</td>\n",
              "      <td>-9.760660</td>\n",
              "      <td>-9.586534</td>\n",
              "      <td>-9.641242</td>\n",
              "      <td>0.076659</td>\n",
              "      <td>6</td>\n",
              "      <td>-5.115850</td>\n",
              "      <td>-5.197363</td>\n",
              "      <td>-5.223395</td>\n",
              "      <td>-5.231130</td>\n",
              "      <td>-5.191934</td>\n",
              "      <td>0.045674</td>\n",
              "    </tr>\n",
              "    <tr>\n",
              "      <th>8</th>\n",
              "      <td>120.017798</td>\n",
              "      <td>1.580058</td>\n",
              "      <td>0.197046</td>\n",
              "      <td>0.059702</td>\n",
              "      <td>1500</td>\n",
              "      <td>6</td>\n",
              "      <td>2</td>\n",
              "      <td>sqrt</td>\n",
              "      <td>10</td>\n",
              "      <td>huber</td>\n",
              "      <td>{'n_estimators': 1500, 'min_samples_split': 6,...</td>\n",
              "      <td>-9.630076</td>\n",
              "      <td>-9.751876</td>\n",
              "      <td>-9.864687</td>\n",
              "      <td>-9.858023</td>\n",
              "      <td>-9.776165</td>\n",
              "      <td>0.095484</td>\n",
              "      <td>7</td>\n",
              "      <td>-0.170151</td>\n",
              "      <td>-0.165999</td>\n",
              "      <td>-0.176790</td>\n",
              "      <td>-0.162043</td>\n",
              "      <td>-0.168746</td>\n",
              "      <td>0.005458</td>\n",
              "    </tr>\n",
              "    <tr>\n",
              "      <th>20</th>\n",
              "      <td>47.847750</td>\n",
              "      <td>0.993560</td>\n",
              "      <td>0.069717</td>\n",
              "      <td>0.017914</td>\n",
              "      <td>500</td>\n",
              "      <td>6</td>\n",
              "      <td>1</td>\n",
              "      <td>sqrt</td>\n",
              "      <td>10</td>\n",
              "      <td>huber</td>\n",
              "      <td>{'n_estimators': 500, 'min_samples_split': 6, ...</td>\n",
              "      <td>-9.638482</td>\n",
              "      <td>-9.814223</td>\n",
              "      <td>-9.977284</td>\n",
              "      <td>-9.679523</td>\n",
              "      <td>-9.777378</td>\n",
              "      <td>0.132465</td>\n",
              "      <td>8</td>\n",
              "      <td>-0.337679</td>\n",
              "      <td>-0.349448</td>\n",
              "      <td>-0.353501</td>\n",
              "      <td>-0.314410</td>\n",
              "      <td>-0.338759</td>\n",
              "      <td>0.015212</td>\n",
              "    </tr>\n",
              "    <tr>\n",
              "      <th>18</th>\n",
              "      <td>158.783001</td>\n",
              "      <td>2.303685</td>\n",
              "      <td>0.120908</td>\n",
              "      <td>0.038355</td>\n",
              "      <td>500</td>\n",
              "      <td>6</td>\n",
              "      <td>1</td>\n",
              "      <td>auto</td>\n",
              "      <td>15</td>\n",
              "      <td>huber</td>\n",
              "      <td>{'n_estimators': 500, 'min_samples_split': 6, ...</td>\n",
              "      <td>-10.075558</td>\n",
              "      <td>-9.962943</td>\n",
              "      <td>-9.872734</td>\n",
              "      <td>-10.014923</td>\n",
              "      <td>-9.981539</td>\n",
              "      <td>0.074395</td>\n",
              "      <td>9</td>\n",
              "      <td>-0.002302</td>\n",
              "      <td>-0.002840</td>\n",
              "      <td>-0.002414</td>\n",
              "      <td>-0.002634</td>\n",
              "      <td>-0.002547</td>\n",
              "      <td>0.000207</td>\n",
              "    </tr>\n",
              "    <tr>\n",
              "      <th>6</th>\n",
              "      <td>262.286267</td>\n",
              "      <td>6.344749</td>\n",
              "      <td>0.292318</td>\n",
              "      <td>0.089704</td>\n",
              "      <td>1500</td>\n",
              "      <td>6</td>\n",
              "      <td>2</td>\n",
              "      <td>sqrt</td>\n",
              "      <td>15</td>\n",
              "      <td>huber</td>\n",
              "      <td>{'n_estimators': 1500, 'min_samples_split': 6,...</td>\n",
              "      <td>-10.192961</td>\n",
              "      <td>-10.142236</td>\n",
              "      <td>-10.379401</td>\n",
              "      <td>-10.496965</td>\n",
              "      <td>-10.302891</td>\n",
              "      <td>0.142665</td>\n",
              "      <td>10</td>\n",
              "      <td>-0.045627</td>\n",
              "      <td>-0.050662</td>\n",
              "      <td>-0.049548</td>\n",
              "      <td>-0.040476</td>\n",
              "      <td>-0.046578</td>\n",
              "      <td>0.003989</td>\n",
              "    </tr>\n",
              "  </tbody>\n",
              "</table>\n",
              "</div>\n",
              "      <button class=\"colab-df-convert\" onclick=\"convertToInteractive('df-2a54ec8c-0c5c-4fb3-ae1b-a91294ed0166')\"\n",
              "              title=\"Convert this dataframe to an interactive table.\"\n",
              "              style=\"display:none;\">\n",
              "        \n",
              "  <svg xmlns=\"http://www.w3.org/2000/svg\" height=\"24px\"viewBox=\"0 0 24 24\"\n",
              "       width=\"24px\">\n",
              "    <path d=\"M0 0h24v24H0V0z\" fill=\"none\"/>\n",
              "    <path d=\"M18.56 5.44l.94 2.06.94-2.06 2.06-.94-2.06-.94-.94-2.06-.94 2.06-2.06.94zm-11 1L8.5 8.5l.94-2.06 2.06-.94-2.06-.94L8.5 2.5l-.94 2.06-2.06.94zm10 10l.94 2.06.94-2.06 2.06-.94-2.06-.94-.94-2.06-.94 2.06-2.06.94z\"/><path d=\"M17.41 7.96l-1.37-1.37c-.4-.4-.92-.59-1.43-.59-.52 0-1.04.2-1.43.59L10.3 9.45l-7.72 7.72c-.78.78-.78 2.05 0 2.83L4 21.41c.39.39.9.59 1.41.59.51 0 1.02-.2 1.41-.59l7.78-7.78 2.81-2.81c.8-.78.8-2.07 0-2.86zM5.41 20L4 18.59l7.72-7.72 1.47 1.35L5.41 20z\"/>\n",
              "  </svg>\n",
              "      </button>\n",
              "      \n",
              "  <style>\n",
              "    .colab-df-container {\n",
              "      display:flex;\n",
              "      flex-wrap:wrap;\n",
              "      gap: 12px;\n",
              "    }\n",
              "\n",
              "    .colab-df-convert {\n",
              "      background-color: #E8F0FE;\n",
              "      border: none;\n",
              "      border-radius: 50%;\n",
              "      cursor: pointer;\n",
              "      display: none;\n",
              "      fill: #1967D2;\n",
              "      height: 32px;\n",
              "      padding: 0 0 0 0;\n",
              "      width: 32px;\n",
              "    }\n",
              "\n",
              "    .colab-df-convert:hover {\n",
              "      background-color: #E2EBFA;\n",
              "      box-shadow: 0px 1px 2px rgba(60, 64, 67, 0.3), 0px 1px 3px 1px rgba(60, 64, 67, 0.15);\n",
              "      fill: #174EA6;\n",
              "    }\n",
              "\n",
              "    [theme=dark] .colab-df-convert {\n",
              "      background-color: #3B4455;\n",
              "      fill: #D2E3FC;\n",
              "    }\n",
              "\n",
              "    [theme=dark] .colab-df-convert:hover {\n",
              "      background-color: #434B5C;\n",
              "      box-shadow: 0px 1px 3px 1px rgba(0, 0, 0, 0.15);\n",
              "      filter: drop-shadow(0px 1px 2px rgba(0, 0, 0, 0.3));\n",
              "      fill: #FFFFFF;\n",
              "    }\n",
              "  </style>\n",
              "\n",
              "      <script>\n",
              "        const buttonEl =\n",
              "          document.querySelector('#df-2a54ec8c-0c5c-4fb3-ae1b-a91294ed0166 button.colab-df-convert');\n",
              "        buttonEl.style.display =\n",
              "          google.colab.kernel.accessAllowed ? 'block' : 'none';\n",
              "\n",
              "        async function convertToInteractive(key) {\n",
              "          const element = document.querySelector('#df-2a54ec8c-0c5c-4fb3-ae1b-a91294ed0166');\n",
              "          const dataTable =\n",
              "            await google.colab.kernel.invokeFunction('convertToInteractive',\n",
              "                                                     [key], {});\n",
              "          if (!dataTable) return;\n",
              "\n",
              "          const docLinkHtml = 'Like what you see? Visit the ' +\n",
              "            '<a target=\"_blank\" href=https://colab.research.google.com/notebooks/data_table.ipynb>data table notebook</a>'\n",
              "            + ' to learn more about interactive tables.';\n",
              "          element.innerHTML = '';\n",
              "          dataTable['output_type'] = 'display_data';\n",
              "          await google.colab.output.renderOutput(dataTable, element);\n",
              "          const docLink = document.createElement('div');\n",
              "          docLink.innerHTML = docLinkHtml;\n",
              "          element.appendChild(docLink);\n",
              "        }\n",
              "      </script>\n",
              "    </div>\n",
              "  </div>\n",
              "  "
            ]
          },
          "metadata": {},
          "execution_count": 24
        }
      ]
    },
    {
      "cell_type": "code",
      "source": [
        "random_cv.best_estimator_"
      ],
      "metadata": {
        "id": "UrHRLWG0CsG4",
        "colab": {
          "base_uri": "https://localhost:8080/",
          "height": 109
        },
        "outputId": "0a152c6a-59f3-4db1-9ac3-028d83b6b6a9"
      },
      "execution_count": 25,
      "outputs": [
        {
          "output_type": "execute_result",
          "data": {
            "text/plain": [
              "GradientBoostingRegressor(loss='huber', max_depth=5, min_samples_leaf=8,\n",
              "                          min_samples_split=6, n_estimators=500,\n",
              "                          random_state=42)"
            ],
            "text/html": [
              "<style>#sk-container-id-2 {color: black;background-color: white;}#sk-container-id-2 pre{padding: 0;}#sk-container-id-2 div.sk-toggleable {background-color: white;}#sk-container-id-2 label.sk-toggleable__label {cursor: pointer;display: block;width: 100%;margin-bottom: 0;padding: 0.3em;box-sizing: border-box;text-align: center;}#sk-container-id-2 label.sk-toggleable__label-arrow:before {content: \"▸\";float: left;margin-right: 0.25em;color: #696969;}#sk-container-id-2 label.sk-toggleable__label-arrow:hover:before {color: black;}#sk-container-id-2 div.sk-estimator:hover label.sk-toggleable__label-arrow:before {color: black;}#sk-container-id-2 div.sk-toggleable__content {max-height: 0;max-width: 0;overflow: hidden;text-align: left;background-color: #f0f8ff;}#sk-container-id-2 div.sk-toggleable__content pre {margin: 0.2em;color: black;border-radius: 0.25em;background-color: #f0f8ff;}#sk-container-id-2 input.sk-toggleable__control:checked~div.sk-toggleable__content {max-height: 200px;max-width: 100%;overflow: auto;}#sk-container-id-2 input.sk-toggleable__control:checked~label.sk-toggleable__label-arrow:before {content: \"▾\";}#sk-container-id-2 div.sk-estimator input.sk-toggleable__control:checked~label.sk-toggleable__label {background-color: #d4ebff;}#sk-container-id-2 div.sk-label input.sk-toggleable__control:checked~label.sk-toggleable__label {background-color: #d4ebff;}#sk-container-id-2 input.sk-hidden--visually {border: 0;clip: rect(1px 1px 1px 1px);clip: rect(1px, 1px, 1px, 1px);height: 1px;margin: -1px;overflow: hidden;padding: 0;position: absolute;width: 1px;}#sk-container-id-2 div.sk-estimator {font-family: monospace;background-color: #f0f8ff;border: 1px dotted black;border-radius: 0.25em;box-sizing: border-box;margin-bottom: 0.5em;}#sk-container-id-2 div.sk-estimator:hover {background-color: #d4ebff;}#sk-container-id-2 div.sk-parallel-item::after {content: \"\";width: 100%;border-bottom: 1px solid gray;flex-grow: 1;}#sk-container-id-2 div.sk-label:hover label.sk-toggleable__label {background-color: #d4ebff;}#sk-container-id-2 div.sk-serial::before {content: \"\";position: absolute;border-left: 1px solid gray;box-sizing: border-box;top: 0;bottom: 0;left: 50%;z-index: 0;}#sk-container-id-2 div.sk-serial {display: flex;flex-direction: column;align-items: center;background-color: white;padding-right: 0.2em;padding-left: 0.2em;position: relative;}#sk-container-id-2 div.sk-item {position: relative;z-index: 1;}#sk-container-id-2 div.sk-parallel {display: flex;align-items: stretch;justify-content: center;background-color: white;position: relative;}#sk-container-id-2 div.sk-item::before, #sk-container-id-2 div.sk-parallel-item::before {content: \"\";position: absolute;border-left: 1px solid gray;box-sizing: border-box;top: 0;bottom: 0;left: 50%;z-index: -1;}#sk-container-id-2 div.sk-parallel-item {display: flex;flex-direction: column;z-index: 1;position: relative;background-color: white;}#sk-container-id-2 div.sk-parallel-item:first-child::after {align-self: flex-end;width: 50%;}#sk-container-id-2 div.sk-parallel-item:last-child::after {align-self: flex-start;width: 50%;}#sk-container-id-2 div.sk-parallel-item:only-child::after {width: 0;}#sk-container-id-2 div.sk-dashed-wrapped {border: 1px dashed gray;margin: 0 0.4em 0.5em 0.4em;box-sizing: border-box;padding-bottom: 0.4em;background-color: white;}#sk-container-id-2 div.sk-label label {font-family: monospace;font-weight: bold;display: inline-block;line-height: 1.2em;}#sk-container-id-2 div.sk-label-container {text-align: center;}#sk-container-id-2 div.sk-container {/* jupyter's `normalize.less` sets `[hidden] { display: none; }` but bootstrap.min.css set `[hidden] { display: none !important; }` so we also need the `!important` here to be able to override the default hidden behavior on the sphinx rendered scikit-learn.org. See: https://github.com/scikit-learn/scikit-learn/issues/21755 */display: inline-block !important;position: relative;}#sk-container-id-2 div.sk-text-repr-fallback {display: none;}</style><div id=\"sk-container-id-2\" class=\"sk-top-container\"><div class=\"sk-text-repr-fallback\"><pre>GradientBoostingRegressor(loss=&#x27;huber&#x27;, max_depth=5, min_samples_leaf=8,\n",
              "                          min_samples_split=6, n_estimators=500,\n",
              "                          random_state=42)</pre><b>In a Jupyter environment, please rerun this cell to show the HTML representation or trust the notebook. <br />On GitHub, the HTML representation is unable to render, please try loading this page with nbviewer.org.</b></div><div class=\"sk-container\" hidden><div class=\"sk-item\"><div class=\"sk-estimator sk-toggleable\"><input class=\"sk-toggleable__control sk-hidden--visually\" id=\"sk-estimator-id-4\" type=\"checkbox\" checked><label for=\"sk-estimator-id-4\" class=\"sk-toggleable__label sk-toggleable__label-arrow\">GradientBoostingRegressor</label><div class=\"sk-toggleable__content\"><pre>GradientBoostingRegressor(loss=&#x27;huber&#x27;, max_depth=5, min_samples_leaf=8,\n",
              "                          min_samples_split=6, n_estimators=500,\n",
              "                          random_state=42)</pre></div></div></div></div></div>"
            ]
          },
          "metadata": {},
          "execution_count": 25
        }
      ]
    },
    {
      "cell_type": "markdown",
      "source": [
        "Использование случайного поиска — хороший способ сузить круг возможных гиперпараметров. Изначально мы понятия не имели, какая комбинация будет работать лучше всего, но это, по крайней мере, сужает диапазон вариантов.\n",
        "\n",
        "Мы могли бы использовать результаты случайного поиска для информирования поиска по сетке, создав сетку с гиперпараметрами, близкими к тем, которые лучше всего работали во время рандомизированного поиска. Однако вместо повторной оценки всех этих параметров я сосредоточусь на одном — количестве деревьев в лесу (n_estimators).\n",
        "\n",
        "Здесь мы будем использовать поиск по сетке с сеткой, которая имеет только гиперпараметр n_estimators. Мы оценим ряд деревьев, а затем построим график обучения и тестирования, чтобы понять, что увеличение количества деревьев делает для нашей модели."
      ],
      "metadata": {
        "id": "M-3CrnSwC4so"
      }
    },
    {
      "cell_type": "code",
      "source": [
        "trees_grid = {'n_estimators': [100, 150, 200, 250, 300, 350, 400, 450, 500, 550, 600, 650, 700, 750, 800]}\n",
        "\n",
        "model = GradientBoostingRegressor(loss='huber',\n",
        "                                  max_depth=5,\n",
        "                                  min_samples_leaf=8,\n",
        "                                  min_samples_split=6,\n",
        "                                  max_features = None,\n",
        "                                  random_state = 42)\n",
        "\n",
        "# Grid Search Object using the trees range and the random forest model\n",
        "grid_search = GridSearchCV(estimator = model, param_grid=trees_grid, cv = 4,\n",
        "                           scoring = 'neg_mean_absolute_error', verbose = 1,\n",
        "                           n_jobs = -1, return_train_score = True)"
      ],
      "metadata": {
        "id": "iDBPfCUDDQ6z"
      },
      "execution_count": 4,
      "outputs": []
    },
    {
      "cell_type": "code",
      "source": [
        "# Fit the grid search\n",
        "grid_search.fit(X, y)"
      ],
      "metadata": {
        "colab": {
          "base_uri": "https://localhost:8080/",
          "height": 134
        },
        "id": "i-DLeB7MDSmg",
        "outputId": "4b6742bc-04de-4c52-9111-7024b930e107"
      },
      "execution_count": 13,
      "outputs": [
        {
          "output_type": "stream",
          "name": "stdout",
          "text": [
            "Fitting 4 folds for each of 15 candidates, totalling 60 fits\n"
          ]
        },
        {
          "output_type": "execute_result",
          "data": {
            "text/plain": [
              "GridSearchCV(cv=4,\n",
              "             estimator=GradientBoostingRegressor(loss='huber', max_depth=5,\n",
              "                                                 min_samples_leaf=8,\n",
              "                                                 min_samples_split=6,\n",
              "                                                 random_state=42),\n",
              "             n_jobs=-1,\n",
              "             param_grid={'n_estimators': [100, 150, 200, 250, 300, 350, 400,\n",
              "                                          450, 500, 550, 600, 650, 700, 750,\n",
              "                                          800]},\n",
              "             return_train_score=True, scoring='neg_mean_absolute_error',\n",
              "             verbose=1)"
            ],
            "text/html": [
              "<style>#sk-container-id-1 {color: black;background-color: white;}#sk-container-id-1 pre{padding: 0;}#sk-container-id-1 div.sk-toggleable {background-color: white;}#sk-container-id-1 label.sk-toggleable__label {cursor: pointer;display: block;width: 100%;margin-bottom: 0;padding: 0.3em;box-sizing: border-box;text-align: center;}#sk-container-id-1 label.sk-toggleable__label-arrow:before {content: \"▸\";float: left;margin-right: 0.25em;color: #696969;}#sk-container-id-1 label.sk-toggleable__label-arrow:hover:before {color: black;}#sk-container-id-1 div.sk-estimator:hover label.sk-toggleable__label-arrow:before {color: black;}#sk-container-id-1 div.sk-toggleable__content {max-height: 0;max-width: 0;overflow: hidden;text-align: left;background-color: #f0f8ff;}#sk-container-id-1 div.sk-toggleable__content pre {margin: 0.2em;color: black;border-radius: 0.25em;background-color: #f0f8ff;}#sk-container-id-1 input.sk-toggleable__control:checked~div.sk-toggleable__content {max-height: 200px;max-width: 100%;overflow: auto;}#sk-container-id-1 input.sk-toggleable__control:checked~label.sk-toggleable__label-arrow:before {content: \"▾\";}#sk-container-id-1 div.sk-estimator input.sk-toggleable__control:checked~label.sk-toggleable__label {background-color: #d4ebff;}#sk-container-id-1 div.sk-label input.sk-toggleable__control:checked~label.sk-toggleable__label {background-color: #d4ebff;}#sk-container-id-1 input.sk-hidden--visually {border: 0;clip: rect(1px 1px 1px 1px);clip: rect(1px, 1px, 1px, 1px);height: 1px;margin: -1px;overflow: hidden;padding: 0;position: absolute;width: 1px;}#sk-container-id-1 div.sk-estimator {font-family: monospace;background-color: #f0f8ff;border: 1px dotted black;border-radius: 0.25em;box-sizing: border-box;margin-bottom: 0.5em;}#sk-container-id-1 div.sk-estimator:hover {background-color: #d4ebff;}#sk-container-id-1 div.sk-parallel-item::after {content: \"\";width: 100%;border-bottom: 1px solid gray;flex-grow: 1;}#sk-container-id-1 div.sk-label:hover label.sk-toggleable__label {background-color: #d4ebff;}#sk-container-id-1 div.sk-serial::before {content: \"\";position: absolute;border-left: 1px solid gray;box-sizing: border-box;top: 0;bottom: 0;left: 50%;z-index: 0;}#sk-container-id-1 div.sk-serial {display: flex;flex-direction: column;align-items: center;background-color: white;padding-right: 0.2em;padding-left: 0.2em;position: relative;}#sk-container-id-1 div.sk-item {position: relative;z-index: 1;}#sk-container-id-1 div.sk-parallel {display: flex;align-items: stretch;justify-content: center;background-color: white;position: relative;}#sk-container-id-1 div.sk-item::before, #sk-container-id-1 div.sk-parallel-item::before {content: \"\";position: absolute;border-left: 1px solid gray;box-sizing: border-box;top: 0;bottom: 0;left: 50%;z-index: -1;}#sk-container-id-1 div.sk-parallel-item {display: flex;flex-direction: column;z-index: 1;position: relative;background-color: white;}#sk-container-id-1 div.sk-parallel-item:first-child::after {align-self: flex-end;width: 50%;}#sk-container-id-1 div.sk-parallel-item:last-child::after {align-self: flex-start;width: 50%;}#sk-container-id-1 div.sk-parallel-item:only-child::after {width: 0;}#sk-container-id-1 div.sk-dashed-wrapped {border: 1px dashed gray;margin: 0 0.4em 0.5em 0.4em;box-sizing: border-box;padding-bottom: 0.4em;background-color: white;}#sk-container-id-1 div.sk-label label {font-family: monospace;font-weight: bold;display: inline-block;line-height: 1.2em;}#sk-container-id-1 div.sk-label-container {text-align: center;}#sk-container-id-1 div.sk-container {/* jupyter's `normalize.less` sets `[hidden] { display: none; }` but bootstrap.min.css set `[hidden] { display: none !important; }` so we also need the `!important` here to be able to override the default hidden behavior on the sphinx rendered scikit-learn.org. See: https://github.com/scikit-learn/scikit-learn/issues/21755 */display: inline-block !important;position: relative;}#sk-container-id-1 div.sk-text-repr-fallback {display: none;}</style><div id=\"sk-container-id-1\" class=\"sk-top-container\"><div class=\"sk-text-repr-fallback\"><pre>GridSearchCV(cv=4,\n",
              "             estimator=GradientBoostingRegressor(loss=&#x27;huber&#x27;, max_depth=5,\n",
              "                                                 min_samples_leaf=8,\n",
              "                                                 min_samples_split=6,\n",
              "                                                 random_state=42),\n",
              "             n_jobs=-1,\n",
              "             param_grid={&#x27;n_estimators&#x27;: [100, 150, 200, 250, 300, 350, 400,\n",
              "                                          450, 500, 550, 600, 650, 700, 750,\n",
              "                                          800]},\n",
              "             return_train_score=True, scoring=&#x27;neg_mean_absolute_error&#x27;,\n",
              "             verbose=1)</pre><b>In a Jupyter environment, please rerun this cell to show the HTML representation or trust the notebook. <br />On GitHub, the HTML representation is unable to render, please try loading this page with nbviewer.org.</b></div><div class=\"sk-container\" hidden><div class=\"sk-item sk-dashed-wrapped\"><div class=\"sk-label-container\"><div class=\"sk-label sk-toggleable\"><input class=\"sk-toggleable__control sk-hidden--visually\" id=\"sk-estimator-id-1\" type=\"checkbox\" ><label for=\"sk-estimator-id-1\" class=\"sk-toggleable__label sk-toggleable__label-arrow\">GridSearchCV</label><div class=\"sk-toggleable__content\"><pre>GridSearchCV(cv=4,\n",
              "             estimator=GradientBoostingRegressor(loss=&#x27;huber&#x27;, max_depth=5,\n",
              "                                                 min_samples_leaf=8,\n",
              "                                                 min_samples_split=6,\n",
              "                                                 random_state=42),\n",
              "             n_jobs=-1,\n",
              "             param_grid={&#x27;n_estimators&#x27;: [100, 150, 200, 250, 300, 350, 400,\n",
              "                                          450, 500, 550, 600, 650, 700, 750,\n",
              "                                          800]},\n",
              "             return_train_score=True, scoring=&#x27;neg_mean_absolute_error&#x27;,\n",
              "             verbose=1)</pre></div></div></div><div class=\"sk-parallel\"><div class=\"sk-parallel-item\"><div class=\"sk-item\"><div class=\"sk-label-container\"><div class=\"sk-label sk-toggleable\"><input class=\"sk-toggleable__control sk-hidden--visually\" id=\"sk-estimator-id-2\" type=\"checkbox\" ><label for=\"sk-estimator-id-2\" class=\"sk-toggleable__label sk-toggleable__label-arrow\">estimator: GradientBoostingRegressor</label><div class=\"sk-toggleable__content\"><pre>GradientBoostingRegressor(loss=&#x27;huber&#x27;, max_depth=5, min_samples_leaf=8,\n",
              "                          min_samples_split=6, random_state=42)</pre></div></div></div><div class=\"sk-serial\"><div class=\"sk-item\"><div class=\"sk-estimator sk-toggleable\"><input class=\"sk-toggleable__control sk-hidden--visually\" id=\"sk-estimator-id-3\" type=\"checkbox\" ><label for=\"sk-estimator-id-3\" class=\"sk-toggleable__label sk-toggleable__label-arrow\">GradientBoostingRegressor</label><div class=\"sk-toggleable__content\"><pre>GradientBoostingRegressor(loss=&#x27;huber&#x27;, max_depth=5, min_samples_leaf=8,\n",
              "                          min_samples_split=6, random_state=42)</pre></div></div></div></div></div></div></div></div></div></div>"
            ]
          },
          "metadata": {},
          "execution_count": 13
        }
      ]
    },
    {
      "cell_type": "code",
      "source": [
        "# Get the results into a dataframe\n",
        "results = pd.DataFrame(grid_search.cv_results_)\n",
        "\n",
        "# Plot the training and testing error vs number of trees\n",
        "figsize(8, 8)\n",
        "plt.style.use('fivethirtyeight')\n",
        "plt.plot(results['param_n_estimators'], -1 * results['mean_test_score'], label = 'Testing Error')\n",
        "plt.plot(results['param_n_estimators'], -1 * results['mean_train_score'], label = 'Training Error')\n",
        "plt.xlabel('Number of Trees'); plt.ylabel('Mean Abosolute Error'); plt.legend();\n",
        "plt.title('Performance vs Number of Trees');"
      ],
      "metadata": {
        "id": "0VUZlVxLDUOA",
        "colab": {
          "base_uri": "https://localhost:8080/",
          "height": 777
        },
        "outputId": "5cbc15f2-c137-4705-e74c-4a131071783e"
      },
      "execution_count": 14,
      "outputs": [
        {
          "output_type": "display_data",
          "data": {
            "text/plain": [
              "<Figure size 800x800 with 1 Axes>"
            ],
            "image/png": "[encoded data removed]"
          },
          "metadata": {}
        }
      ]
    },
    {
      "cell_type": "code",
      "source": [
        "results.sort_values('mean_test_score', ascending = False).head(5)"
      ],
      "metadata": {
        "id": "zB2IIkpTDdPX",
        "colab": {
          "base_uri": "https://localhost:8080/",
          "height": 357
        },
        "outputId": "fc47082e-798a-428a-fb0b-39146750794d"
      },
      "execution_count": 15,
      "outputs": [
        {
          "output_type": "execute_result",
          "data": {
            "text/plain": [
              "   mean_fit_time  std_fit_time  mean_score_time  std_score_time  \\\n",
              "2      14.159671      0.643823         0.019367        0.007917   \n",
              "1      10.913230      1.026643         0.012780        0.005424   \n",
              "3      18.265004      0.239935         0.018082        0.005403   \n",
              "4      20.523191      0.158401         0.016476        0.000532   \n",
              "5      24.853436      1.263567         0.025492        0.013082   \n",
              "\n",
              "  param_n_estimators                 params  split0_test_score  \\\n",
              "2                200  {'n_estimators': 200}          -8.831720   \n",
              "1                150  {'n_estimators': 150}          -8.822777   \n",
              "3                250  {'n_estimators': 250}          -8.841388   \n",
              "4                300  {'n_estimators': 300}          -8.851876   \n",
              "5                350  {'n_estimators': 350}          -8.885733   \n",
              "\n",
              "   split1_test_score  split2_test_score  split3_test_score  mean_test_score  \\\n",
              "2          -8.866122          -9.237441          -9.001288        -8.984143   \n",
              "1          -8.865641          -9.241935          -9.028693        -8.989762   \n",
              "3          -8.869993          -9.234708          -9.014632        -8.990180   \n",
              "4          -8.871549          -9.243276          -9.023097        -8.997450   \n",
              "5          -8.876912          -9.256010          -9.044168        -9.015706   \n",
              "\n",
              "   std_test_score  rank_test_score  split0_train_score  split1_train_score  \\\n",
              "2        0.159386                1           -6.265894           -6.159290   \n",
              "1        0.164618                2           -6.754404           -6.629251   \n",
              "3        0.155705                3           -5.884608           -5.762076   \n",
              "4        0.156629                4           -5.547992           -5.418679   \n",
              "5        0.153877                5           -5.220089           -5.111781   \n",
              "\n",
              "   split2_train_score  split3_train_score  mean_train_score  std_train_score  \n",
              "2           -6.217617           -6.056113         -6.174728         0.078196  \n",
              "1           -6.657734           -6.569515         -6.652726         0.066781  \n",
              "3           -5.833154           -5.663796         -5.785909         0.082845  \n",
              "4           -5.543205           -5.320502         -5.457595         0.094617  \n",
              "5           -5.333096           -4.973288         -5.159564         0.133003  "
            ],
            "text/html": [
              "\n",
              "  <div id=\"df-149c780e-4685-44be-ad93-39a68a2fef0f\">\n",
              "    <div class=\"colab-df-container\">\n",
              "      <div>\n",
              "<style scoped>\n",
              "    .dataframe tbody tr th:only-of-type {\n",
              "        vertical-align: middle;\n",
              "    }\n",
              "\n",
              "    .dataframe tbody tr th {\n",
              "        vertical-align: top;\n",
              "    }\n",
              "\n",
              "    .dataframe thead th {\n",
              "        text-align: right;\n",
              "    }\n",
              "</style>\n",
              "<table border=\"1\" class=\"dataframe\">\n",
              "  <thead>\n",
              "    <tr style=\"text-align: right;\">\n",
              "      <th></th>\n",
              "      <th>mean_fit_time</th>\n",
              "      <th>std_fit_time</th>\n",
              "      <th>mean_score_time</th>\n",
              "      <th>std_score_time</th>\n",
              "      <th>param_n_estimators</th>\n",
              "      <th>params</th>\n",
              "      <th>split0_test_score</th>\n",
              "      <th>split1_test_score</th>\n",
              "      <th>split2_test_score</th>\n",
              "      <th>split3_test_score</th>\n",
              "      <th>mean_test_score</th>\n",
              "      <th>std_test_score</th>\n",
              "      <th>rank_test_score</th>\n",
              "      <th>split0_train_score</th>\n",
              "      <th>split1_train_score</th>\n",
              "      <th>split2_train_score</th>\n",
              "      <th>split3_train_score</th>\n",
              "      <th>mean_train_score</th>\n",
              "      <th>std_train_score</th>\n",
              "    </tr>\n",
              "  </thead>\n",
              "  <tbody>\n",
              "    <tr>\n",
              "      <th>2</th>\n",
              "      <td>14.159671</td>\n",
              "      <td>0.643823</td>\n",
              "      <td>0.019367</td>\n",
              "      <td>0.007917</td>\n",
              "      <td>200</td>\n",
              "      <td>{'n_estimators': 200}</td>\n",
              "      <td>-8.831720</td>\n",
              "      <td>-8.866122</td>\n",
              "      <td>-9.237441</td>\n",
              "      <td>-9.001288</td>\n",
              "      <td>-8.984143</td>\n",
              "      <td>0.159386</td>\n",
              "      <td>1</td>\n",
              "      <td>-6.265894</td>\n",
              "      <td>-6.159290</td>\n",
              "      <td>-6.217617</td>\n",
              "      <td>-6.056113</td>\n",
              "      <td>-6.174728</td>\n",
              "      <td>0.078196</td>\n",
              "    </tr>\n",
              "    <tr>\n",
              "      <th>1</th>\n",
              "      <td>10.913230</td>\n",
              "      <td>1.026643</td>\n",
              "      <td>0.012780</td>\n",
              "      <td>0.005424</td>\n",
              "      <td>150</td>\n",
              "      <td>{'n_estimators': 150}</td>\n",
              "      <td>-8.822777</td>\n",
              "      <td>-8.865641</td>\n",
              "      <td>-9.241935</td>\n",
              "      <td>-9.028693</td>\n",
              "      <td>-8.989762</td>\n",
              "      <td>0.164618</td>\n",
              "      <td>2</td>\n",
              "      <td>-6.754404</td>\n",
              "      <td>-6.629251</td>\n",
              "      <td>-6.657734</td>\n",
              "      <td>-6.569515</td>\n",
              "      <td>-6.652726</td>\n",
              "      <td>0.066781</td>\n",
              "    </tr>\n",
              "    <tr>\n",
              "      <th>3</th>\n",
              "      <td>18.265004</td>\n",
              "      <td>0.239935</td>\n",
              "      <td>0.018082</td>\n",
              "      <td>0.005403</td>\n",
              "      <td>250</td>\n",
              "      <td>{'n_estimators': 250}</td>\n",
              "      <td>-8.841388</td>\n",
              "      <td>-8.869993</td>\n",
              "      <td>-9.234708</td>\n",
              "      <td>-9.014632</td>\n",
              "      <td>-8.990180</td>\n",
              "      <td>0.155705</td>\n",
              "      <td>3</td>\n",
              "      <td>-5.884608</td>\n",
              "      <td>-5.762076</td>\n",
              "      <td>-5.833154</td>\n",
              "      <td>-5.663796</td>\n",
              "      <td>-5.785909</td>\n",
              "      <td>0.082845</td>\n",
              "    </tr>\n",
              "    <tr>\n",
              "      <th>4</th>\n",
              "      <td>20.523191</td>\n",
              "      <td>0.158401</td>\n",
              "      <td>0.016476</td>\n",
              "      <td>0.000532</td>\n",
              "      <td>300</td>\n",
              "      <td>{'n_estimators': 300}</td>\n",
              "      <td>-8.851876</td>\n",
              "      <td>-8.871549</td>\n",
              "      <td>-9.243276</td>\n",
              "      <td>-9.023097</td>\n",
              "      <td>-8.997450</td>\n",
              "      <td>0.156629</td>\n",
              "      <td>4</td>\n",
              "      <td>-5.547992</td>\n",
              "      <td>-5.418679</td>\n",
              "      <td>-5.543205</td>\n",
              "      <td>-5.320502</td>\n",
              "      <td>-5.457595</td>\n",
              "      <td>0.094617</td>\n",
              "    </tr>\n",
              "    <tr>\n",
              "      <th>5</th>\n",
              "      <td>24.853436</td>\n",
              "      <td>1.263567</td>\n",
              "      <td>0.025492</td>\n",
              "      <td>0.013082</td>\n",
              "      <td>350</td>\n",
              "      <td>{'n_estimators': 350}</td>\n",
              "      <td>-8.885733</td>\n",
              "      <td>-8.876912</td>\n",
              "      <td>-9.256010</td>\n",
              "      <td>-9.044168</td>\n",
              "      <td>-9.015706</td>\n",
              "      <td>0.153877</td>\n",
              "      <td>5</td>\n",
              "      <td>-5.220089</td>\n",
              "      <td>-5.111781</td>\n",
              "      <td>-5.333096</td>\n",
              "      <td>-4.973288</td>\n",
              "      <td>-5.159564</td>\n",
              "      <td>0.133003</td>\n",
              "    </tr>\n",
              "  </tbody>\n",
              "</table>\n",
              "</div>\n",
              "      <button class=\"colab-df-convert\" onclick=\"convertToInteractive('df-149c780e-4685-44be-ad93-39a68a2fef0f')\"\n",
              "              title=\"Convert this dataframe to an interactive table.\"\n",
              "              style=\"display:none;\">\n",
              "        \n",
              "  <svg xmlns=\"http://www.w3.org/2000/svg\" height=\"24px\"viewBox=\"0 0 24 24\"\n",
              "       width=\"24px\">\n",
              "    <path d=\"M0 0h24v24H0V0z\" fill=\"none\"/>\n",
              "    <path d=\"M18.56 5.44l.94 2.06.94-2.06 2.06-.94-2.06-.94-.94-2.06-.94 2.06-2.06.94zm-11 1L8.5 8.5l.94-2.06 2.06-.94-2.06-.94L8.5 2.5l-.94 2.06-2.06.94zm10 10l.94 2.06.94-2.06 2.06-.94-2.06-.94-.94-2.06-.94 2.06-2.06.94z\"/><path d=\"M17.41 7.96l-1.37-1.37c-.4-.4-.92-.59-1.43-.59-.52 0-1.04.2-1.43.59L10.3 9.45l-7.72 7.72c-.78.78-.78 2.05 0 2.83L4 21.41c.39.39.9.59 1.41.59.51 0 1.02-.2 1.41-.59l7.78-7.78 2.81-2.81c.8-.78.8-2.07 0-2.86zM5.41 20L4 18.59l7.72-7.72 1.47 1.35L5.41 20z\"/>\n",
              "  </svg>\n",
              "      </button>\n",
              "      \n",
              "  <style>\n",
              "    .colab-df-container {\n",
              "      display:flex;\n",
              "      flex-wrap:wrap;\n",
              "      gap: 12px;\n",
              "    }\n",
              "\n",
              "    .colab-df-convert {\n",
              "      background-color: #E8F0FE;\n",
              "      border: none;\n",
              "      border-radius: 50%;\n",
              "      cursor: pointer;\n",
              "      display: none;\n",
              "      fill: #1967D2;\n",
              "      height: 32px;\n",
              "      padding: 0 0 0 0;\n",
              "      width: 32px;\n",
              "    }\n",
              "\n",
              "    .colab-df-convert:hover {\n",
              "      background-color: #E2EBFA;\n",
              "      box-shadow: 0px 1px 2px rgba(60, 64, 67, 0.3), 0px 1px 3px 1px rgba(60, 64, 67, 0.15);\n",
              "      fill: #174EA6;\n",
              "    }\n",
              "\n",
              "    [theme=dark] .colab-df-convert {\n",
              "      background-color: #3B4455;\n",
              "      fill: #D2E3FC;\n",
              "    }\n",
              "\n",
              "    [theme=dark] .colab-df-convert:hover {\n",
              "      background-color: #434B5C;\n",
              "      box-shadow: 0px 1px 3px 1px rgba(0, 0, 0, 0.15);\n",
              "      filter: drop-shadow(0px 1px 2px rgba(0, 0, 0, 0.3));\n",
              "      fill: #FFFFFF;\n",
              "    }\n",
              "  </style>\n",
              "\n",
              "      <script>\n",
              "        const buttonEl =\n",
              "          document.querySelector('#df-149c780e-4685-44be-ad93-39a68a2fef0f button.colab-df-convert');\n",
              "        buttonEl.style.display =\n",
              "          google.colab.kernel.accessAllowed ? 'block' : 'none';\n",
              "\n",
              "        async function convertToInteractive(key) {\n",
              "          const element = document.querySelector('#df-149c780e-4685-44be-ad93-39a68a2fef0f');\n",
              "          const dataTable =\n",
              "            await google.colab.kernel.invokeFunction('convertToInteractive',\n",
              "                                                     [key], {});\n",
              "          if (!dataTable) return;\n",
              "\n",
              "          const docLinkHtml = 'Like what you see? Visit the ' +\n",
              "            '<a target=\"_blank\" href=https://colab.research.google.com/notebooks/data_table.ipynb>data table notebook</a>'\n",
              "            + ' to learn more about interactive tables.';\n",
              "          element.innerHTML = '';\n",
              "          dataTable['output_type'] = 'display_data';\n",
              "          await google.colab.output.renderOutput(dataTable, element);\n",
              "          const docLink = document.createElement('div');\n",
              "          docLink.innerHTML = docLinkHtml;\n",
              "          element.appendChild(docLink);\n",
              "        }\n",
              "      </script>\n",
              "    </div>\n",
              "  </div>\n",
              "  "
            ]
          },
          "metadata": {},
          "execution_count": 15
        }
      ]
    },
    {
      "cell_type": "markdown",
      "source": [
        "Всегда будет разница между ошибкой обучения и ошибкой тестирования (ошибка обучения всегда ниже), но если есть значительная разница, мы хотим попытаться уменьшить переобучение, либо получив больше обучающих данных, либо уменьшив сложность модели, посредством настройки гиперпараметров или регуляризации.\n",
        "\n",
        "Основываясь на результатах перекрестной проверки, лучшая модель использует 800 деревьев и достигает ошибки перекрестной проверки менее 9. Это указывает на то, что средняя оценка перекрестной проверки Energy Star Score находится в пределах 9 баллов от истинного ответа!"
      ],
      "metadata": {
        "id": "-9tWXrueDc-a"
      }
    },
    {
      "cell_type": "markdown",
      "source": [
        "## Оценка окончательной модели на тестовом наборе"
      ],
      "metadata": {
        "id": "RtaciAdWEHxc"
      }
    },
    {
      "cell_type": "markdown",
      "source": [
        "Используем лучшую модель из настройки гипперпараметров"
      ],
      "metadata": {
        "id": "zZ6iCwf2Eaiz"
      }
    },
    {
      "cell_type": "code",
      "source": [
        "# Default model\n",
        "default_model = GradientBoostingRegressor(random_state = 42)\n",
        "\n",
        "# Select the best model\n",
        "final_model = grid_search.best_estimator_\n",
        "\n",
        "final_model"
      ],
      "metadata": {
        "id": "43YtWppfEfaH",
        "colab": {
          "base_uri": "https://localhost:8080/",
          "height": 109
        },
        "outputId": "7c2bd64f-2e9c-4670-df6d-2c73d144bbe3"
      },
      "execution_count": 16,
      "outputs": [
        {
          "output_type": "execute_result",
          "data": {
            "text/plain": [
              "GradientBoostingRegressor(loss='huber', max_depth=5, min_samples_leaf=8,\n",
              "                          min_samples_split=6, n_estimators=200,\n",
              "                          random_state=42)"
            ],
            "text/html": [
              "<style>#sk-container-id-2 {color: black;background-color: white;}#sk-container-id-2 pre{padding: 0;}#sk-container-id-2 div.sk-toggleable {background-color: white;}#sk-container-id-2 label.sk-toggleable__label {cursor: pointer;display: block;width: 100%;margin-bottom: 0;padding: 0.3em;box-sizing: border-box;text-align: center;}#sk-container-id-2 label.sk-toggleable__label-arrow:before {content: \"▸\";float: left;margin-right: 0.25em;color: #696969;}#sk-container-id-2 label.sk-toggleable__label-arrow:hover:before {color: black;}#sk-container-id-2 div.sk-estimator:hover label.sk-toggleable__label-arrow:before {color: black;}#sk-container-id-2 div.sk-toggleable__content {max-height: 0;max-width: 0;overflow: hidden;text-align: left;background-color: #f0f8ff;}#sk-container-id-2 div.sk-toggleable__content pre {margin: 0.2em;color: black;border-radius: 0.25em;background-color: #f0f8ff;}#sk-container-id-2 input.sk-toggleable__control:checked~div.sk-toggleable__content {max-height: 200px;max-width: 100%;overflow: auto;}#sk-container-id-2 input.sk-toggleable__control:checked~label.sk-toggleable__label-arrow:before {content: \"▾\";}#sk-container-id-2 div.sk-estimator input.sk-toggleable__control:checked~label.sk-toggleable__label {background-color: #d4ebff;}#sk-container-id-2 div.sk-label input.sk-toggleable__control:checked~label.sk-toggleable__label {background-color: #d4ebff;}#sk-container-id-2 input.sk-hidden--visually {border: 0;clip: rect(1px 1px 1px 1px);clip: rect(1px, 1px, 1px, 1px);height: 1px;margin: -1px;overflow: hidden;padding: 0;position: absolute;width: 1px;}#sk-container-id-2 div.sk-estimator {font-family: monospace;background-color: #f0f8ff;border: 1px dotted black;border-radius: 0.25em;box-sizing: border-box;margin-bottom: 0.5em;}#sk-container-id-2 div.sk-estimator:hover {background-color: #d4ebff;}#sk-container-id-2 div.sk-parallel-item::after {content: \"\";width: 100%;border-bottom: 1px solid gray;flex-grow: 1;}#sk-container-id-2 div.sk-label:hover label.sk-toggleable__label {background-color: #d4ebff;}#sk-container-id-2 div.sk-serial::before {content: \"\";position: absolute;border-left: 1px solid gray;box-sizing: border-box;top: 0;bottom: 0;left: 50%;z-index: 0;}#sk-container-id-2 div.sk-serial {display: flex;flex-direction: column;align-items: center;background-color: white;padding-right: 0.2em;padding-left: 0.2em;position: relative;}#sk-container-id-2 div.sk-item {position: relative;z-index: 1;}#sk-container-id-2 div.sk-parallel {display: flex;align-items: stretch;justify-content: center;background-color: white;position: relative;}#sk-container-id-2 div.sk-item::before, #sk-container-id-2 div.sk-parallel-item::before {content: \"\";position: absolute;border-left: 1px solid gray;box-sizing: border-box;top: 0;bottom: 0;left: 50%;z-index: -1;}#sk-container-id-2 div.sk-parallel-item {display: flex;flex-direction: column;z-index: 1;position: relative;background-color: white;}#sk-container-id-2 div.sk-parallel-item:first-child::after {align-self: flex-end;width: 50%;}#sk-container-id-2 div.sk-parallel-item:last-child::after {align-self: flex-start;width: 50%;}#sk-container-id-2 div.sk-parallel-item:only-child::after {width: 0;}#sk-container-id-2 div.sk-dashed-wrapped {border: 1px dashed gray;margin: 0 0.4em 0.5em 0.4em;box-sizing: border-box;padding-bottom: 0.4em;background-color: white;}#sk-container-id-2 div.sk-label label {font-family: monospace;font-weight: bold;display: inline-block;line-height: 1.2em;}#sk-container-id-2 div.sk-label-container {text-align: center;}#sk-container-id-2 div.sk-container {/* jupyter's `normalize.less` sets `[hidden] { display: none; }` but bootstrap.min.css set `[hidden] { display: none !important; }` so we also need the `!important` here to be able to override the default hidden behavior on the sphinx rendered scikit-learn.org. See: https://github.com/scikit-learn/scikit-learn/issues/21755 */display: inline-block !important;position: relative;}#sk-container-id-2 div.sk-text-repr-fallback {display: none;}</style><div id=\"sk-container-id-2\" class=\"sk-top-container\"><div class=\"sk-text-repr-fallback\"><pre>GradientBoostingRegressor(loss=&#x27;huber&#x27;, max_depth=5, min_samples_leaf=8,\n",
              "                          min_samples_split=6, n_estimators=200,\n",
              "                          random_state=42)</pre><b>In a Jupyter environment, please rerun this cell to show the HTML representation or trust the notebook. <br />On GitHub, the HTML representation is unable to render, please try loading this page with nbviewer.org.</b></div><div class=\"sk-container\" hidden><div class=\"sk-item\"><div class=\"sk-estimator sk-toggleable\"><input class=\"sk-toggleable__control sk-hidden--visually\" id=\"sk-estimator-id-4\" type=\"checkbox\" checked><label for=\"sk-estimator-id-4\" class=\"sk-toggleable__label sk-toggleable__label-arrow\">GradientBoostingRegressor</label><div class=\"sk-toggleable__content\"><pre>GradientBoostingRegressor(loss=&#x27;huber&#x27;, max_depth=5, min_samples_leaf=8,\n",
              "                          min_samples_split=6, n_estimators=200,\n",
              "                          random_state=42)</pre></div></div></div></div></div>"
            ]
          },
          "metadata": {},
          "execution_count": 16
        }
      ]
    },
    {
      "cell_type": "code",
      "source": [
        "%%timeit -n 1 -r 5\n",
        "default_model.fit(X, y)"
      ],
      "metadata": {
        "id": "rJH2Yq_sEjU_",
        "colab": {
          "base_uri": "https://localhost:8080/"
        },
        "outputId": "8089206e-2f00-4102-a4cd-66e141e8981a"
      },
      "execution_count": 17,
      "outputs": [
        {
          "output_type": "stream",
          "name": "stdout",
          "text": [
            "3.09 s ± 494 ms per loop (mean ± std. dev. of 5 runs, 1 loop each)\n"
          ]
        }
      ]
    },
    {
      "cell_type": "code",
      "source": [
        "%%timeit -n 1 -r 5\n",
        "final_model.fit(X, y)"
      ],
      "metadata": {
        "id": "D_sCGfbHElW7",
        "colab": {
          "base_uri": "https://localhost:8080/"
        },
        "outputId": "d6b4ac30-c8e7-4196-a5b8-7f637e1e52eb"
      },
      "execution_count": 18,
      "outputs": [
        {
          "output_type": "stream",
          "name": "stdout",
          "text": [
            "12.3 s ± 1.47 s per loop (mean ± std. dev. of 5 runs, 1 loop each)\n"
          ]
        }
      ]
    },
    {
      "cell_type": "code",
      "source": [
        "default_pred = default_model.predict(X_test)\n",
        "final_pred = final_model.predict(X_test)\n",
        "\n",
        "print('Default model performance on the test set: MAE = %0.4f.' % mae(y_test, default_pred))\n",
        "print('Final model performance on the test set:   MAE = %0.4f.' % mae(y_test, final_pred))"
      ],
      "metadata": {
        "id": "LP_jvjsgEn-b",
        "colab": {
          "base_uri": "https://localhost:8080/"
        },
        "outputId": "5ac89888-aa63-432b-8feb-3dbc58d7d639"
      },
      "execution_count": 19,
      "outputs": [
        {
          "output_type": "stream",
          "name": "stdout",
          "text": [
            "Default model performance on the test set: MAE = 10.0119.\n",
            "Final model performance on the test set:   MAE = 9.1620.\n"
          ]
        }
      ]
    },
    {
      "cell_type": "markdown",
      "source": [
        "Окончательная модель превосходит базовую модель примерно на 10%, но за счет значительного увеличения времени работы (на моей машине она примерно в 12 раз медленнее). Машинное обучение часто является полем компромиссов: смещение против дисперсии, точность против интерпретируемости, точность против времени выполнения, и окончательное решение о том, какую модель использовать, зависит от ситуации. Здесь увеличение времени выполнения не является препятствием, потому что, хотя относительная разница велика, абсолютная величина времени обучения незначительна. В другой ситуации баланс может быть другим, поэтому нам нужно будет учитывать то, для чего мы оптимизируем, и ограничения, с которыми нам приходится работать."
      ],
      "metadata": {
        "id": "Kf-LNbm6E8Zw"
      }
    },
    {
      "cell_type": "markdown",
      "source": [
        "Чтобы получить представление о прогнозах, мы можем построить график распределения истинных значений в тестовом наборе и прогнозируемых значений в тестовом наборе."
      ],
      "metadata": {
        "id": "uLTfXVX2FBmM"
      }
    },
    {
      "cell_type": "code",
      "source": [
        "figsize(8, 8)\n",
        "\n",
        "# Density plot of the final predictions and the test values\n",
        "sns.kdeplot(final_pred, label = 'Predictions')\n",
        "sns.kdeplot(y_test, label = 'Values')\n",
        "\n",
        "# Label the plot\n",
        "plt.xlabel('Energy Star Score'); plt.ylabel('Density');\n",
        "plt.title('Test Values and Predictions');"
      ],
      "metadata": {
        "id": "aBOY-GZqFDsQ",
        "colab": {
          "base_uri": "https://localhost:8080/",
          "height": 777
        },
        "outputId": "32f51d08-a9d2-434a-913b-d59c8e3a5c81"
      },
      "execution_count": 20,
      "outputs": [
        {
          "output_type": "display_data",
          "data": {
            "text/plain": [
              "<Figure size 800x800 with 1 Axes>"
            ],
            "image/png": "[encoded data removed]"
          },
          "metadata": {}
        }
      ]
    },
    {
      "cell_type": "markdown",
      "source": [
        "Распределение выглядит почти таким же.\n",
        "\n",
        "Плотность предсказанных значений ближе к медиане тестовых значений, а не к фактическому пику в 100. Похоже, что модель может быть менее точной при предсказании экстремальных значений\n",
        "\n",
        "Другой диагностический график представляет собой гистограмму остатков. В идеале мы надеемся, что остатки нормально распределены, а это означает, что модель ошибается одинаково в обоих направлениях (высоком и низком)."
      ],
      "metadata": {
        "id": "f4Gk9F_SFb5I"
      }
    },
    {
      "cell_type": "code",
      "source": [
        "figsize = (6, 6)\n",
        "\n",
        "# Calculate the residuals\n",
        "residuals = final_pred - y_test\n",
        "\n",
        "# Plot the residuals in a histogram\n",
        "plt.hist(residuals, color = 'red', bins = 20,\n",
        "         edgecolor = 'black')\n",
        "plt.xlabel('Error'); plt.ylabel('Count')\n",
        "plt.title('Distribution of Residuals');"
      ],
      "metadata": {
        "id": "2K3Q6R-rFwR9",
        "colab": {
          "base_uri": "https://localhost:8080/",
          "height": 777
        },
        "outputId": "ceb9e31e-82fc-4c2e-99cf-af7c5dd7e7d8"
      },
      "execution_count": 21,
      "outputs": [
        {
          "output_type": "display_data",
          "data": {
            "text/plain": [
              "<Figure size 800x800 with 1 Axes>"
            ],
            "image/png": "[encoded data removed]"
          },
          "metadata": {}
        }
      ]
    },
    {
      "cell_type": "markdown",
      "source": [
        "Остатки близки к нормальному распределению с несколькими заметными выбросами в нижней части. Они указывают на ошибки, когда оценка модели была намного ниже истинного значения."
      ],
      "metadata": {
        "id": "heBIoXpWGimW"
      }
    },
    {
      "cell_type": "markdown",
      "source": [
        "Следующий шаг в процессе машинного обучения имеет решающее значение: попытаться понять, как модель делает прогнозы. Достижение высокой точности — это здорово, но было бы также полезно, если бы мы могли понять, почему модель способна точно предсказывать, чтобы мы могли использовать эту информацию для лучшего понимания проблемы. Например, на какие функции опирается модель, чтобы вывести оценку Energy Star Score? Можно ли использовать эту модель для выбора признаков и реализовать более простую модель, которая более интерпретируема?"
      ],
      "metadata": {
        "id": "8zRQtgo5GcrJ"
      }
    }
  ]
}